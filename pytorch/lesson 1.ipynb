{
 "cells": [
  {
   "cell_type": "code",
   "id": "initial_id",
   "metadata": {
    "collapsed": true,
    "ExecuteTime": {
     "end_time": "2024-06-30T09:34:36.745555Z",
     "start_time": "2024-06-30T09:34:32.546290Z"
    }
   },
   "source": [
    "import torch\n",
    "import matplotlib.pyplot as plt"
   ],
   "outputs": [],
   "execution_count": 3
  },
  {
   "metadata": {
    "ExecuteTime": {
     "end_time": "2024-06-30T09:34:37.632438Z",
     "start_time": "2024-06-30T09:34:37.618624Z"
    }
   },
   "cell_type": "code",
   "source": [
    "X = torch.rand(100, 1) * 10 # 生成一个100行一列的数据；该数据服从[0,10]的uniform分布\n",
    "X[:3]"
   ],
   "id": "e5375ffb246320e1",
   "outputs": [
    {
     "data": {
      "text/plain": [
       "tensor([[4.5532],\n",
       "        [4.3510],\n",
       "        [5.8345]])"
      ]
     },
     "execution_count": 4,
     "metadata": {},
     "output_type": "execute_result"
    }
   ],
   "execution_count": 4
  },
  {
   "metadata": {
    "ExecuteTime": {
     "end_time": "2024-06-30T10:56:29.588529Z",
     "start_time": "2024-06-30T10:56:29.554891Z"
    }
   },
   "cell_type": "code",
   "source": [
    "y = 3 * X + 10 + torch.randn(100, 1) * 3 # 计算对应的y值，y也是100行一列的数据，服从[10,13]的normal分布\n",
    "y[:3]"
   ],
   "id": "d2381fc0e366761c",
   "outputs": [
    {
     "data": {
      "text/plain": [
       "tensor([[24.6101],\n",
       "        [21.3013],\n",
       "        [28.9698]])"
      ]
     },
     "execution_count": 5,
     "metadata": {},
     "output_type": "execute_result"
    }
   ],
   "execution_count": 5
  },
  {
   "metadata": {
    "ExecuteTime": {
     "end_time": "2024-06-30T10:56:30.648143Z",
     "start_time": "2024-06-30T10:56:30.392462Z"
    }
   },
   "cell_type": "code",
   "source": [
    "plt.scatter(X.numpy(), y.numpy()) # 绘制散点图\n",
    "plt.show()"
   ],
   "id": "aa15cf131c81c1e4",
   "outputs": [
    {
     "data": {
      "text/plain": [
       "<Figure size 640x480 with 1 Axes>"
      ],
      "image/png": "[encoded data removed]"
     },
     "metadata": {},
     "output_type": "display_data"
    }
   ],
   "execution_count": 6
  },
  {
   "metadata": {},
   "cell_type": "markdown",
   "source": "## 线性回归模型",
   "id": "80831f08d30c66a7"
  },
  {
   "metadata": {},
   "cell_type": "markdown",
   "source": "### 定义模型",
   "id": "269a2b8df3b07f37"
  },
  {
   "metadata": {
    "ExecuteTime": {
     "end_time": "2024-06-30T11:31:34.683809Z",
     "start_time": "2024-06-30T11:31:34.676660Z"
    }
   },
   "cell_type": "code",
   "source": [
    "class LinearRegression(torch.nn.Module):\n",
    "    def __init__(self):\n",
    "        super().__init__()\n",
    "        self.linear = torch.nn.Linear(in_features = 1, out_features = 1, bias = True)\n",
    "    def forward(self, x):\n",
    "        predict = self.linear(x)\n",
    "        return predict"
   ],
   "id": "1ab466b249a65941",
   "outputs": [],
   "execution_count": 7
  },
  {
   "metadata": {},
   "cell_type": "markdown",
   "source": "### 训练模型",
   "id": "b9d0edcffef3d029"
  },
  {
   "metadata": {
    "ExecuteTime": {
     "end_time": "2024-06-30T11:31:36.508440Z",
     "start_time": "2024-06-30T11:31:36.496766Z"
    }
   },
   "cell_type": "code",
   "source": "model = LinearRegression()",
   "id": "619b16bdd8c6f862",
   "outputs": [],
   "execution_count": 8
  },
  {
   "metadata": {},
   "cell_type": "markdown",
   "source": "#### 定义梯度下降器，这里是随机梯度下降法",
   "id": "63ad5b3a6cfc0e03"
  },
  {
   "metadata": {
    "ExecuteTime": {
     "end_time": "2024-06-30T11:31:38.418863Z",
     "start_time": "2024-06-30T11:31:37.763237Z"
    }
   },
   "cell_type": "code",
   "source": [
    "'''\n",
    "torch.optim包中有很多优化器，比如SGD、Adam、RMSprop等，这里使用随机梯度下降法。\n",
    "torch.optim.SGD接受的几个重要参数：\n",
    "- params：需要优化的参数，这里是模型的线性层\n",
    "- lr：学习率，即每次更新的步长\n",
    "- momentum：动量，即梯度的指数衰减率\n",
    "- weight_decay：权重衰减，即L2正则化的系数\n",
    "'''\n",
    "optimizer = torch.optim.SGD(model.parameters(), lr = 1e-3)\n",
    "\n",
    "# 查看模型的参数\n",
    "for param in model.parameters(): # 因为模型有多个参数，所以model.parameters()返回的是一个可迭代对象\n",
    "    print(param)"
   ],
   "id": "1b69493a5dc2f65a",
   "outputs": [
    {
     "name": "stdout",
     "output_type": "stream",
     "text": [
      "Parameter containing:\n",
      "tensor([[0.7779]], requires_grad=True)\n",
      "Parameter containing:\n",
      "tensor([0.3673], requires_grad=True)\n"
     ]
    }
   ],
   "execution_count": 9
  },
  {
   "metadata": {},
   "cell_type": "markdown",
   "source": "### 定义损失函数，这里使用MSE",
   "id": "6b7845592d10711a"
  },
  {
   "metadata": {
    "ExecuteTime": {
     "end_time": "2024-06-30T11:34:18.191820Z",
     "start_time": "2024-06-30T11:34:18.187707Z"
    }
   },
   "cell_type": "code",
   "source": "loss_function = torch.nn.MSELoss()",
   "id": "697c7cad5e1cd43c",
   "outputs": [],
   "execution_count": 11
  },
  {
   "metadata": {},
   "cell_type": "markdown",
   "source": "#### 训练模型",
   "id": "9e3a2770fe068e2"
  },
  {
   "metadata": {
    "ExecuteTime": {
     "end_time": "2024-06-30T11:36:29.138204Z",
     "start_time": "2024-06-30T11:36:25.430257Z"
    }
   },
   "cell_type": "code",
   "source": [
    "for epoch in range(10000):\n",
    "    # 前向传播\n",
    "    predict_y = model(X)\n",
    "    \n",
    "    # 计算损失\n",
    "    loss = loss_function(predict_y, y)\n",
    "    \n",
    "    # 反向传播\n",
    "    loss.backward()\n",
    "    \n",
    "    # 更新参数\n",
    "    optimizer.step()\n",
    "    \n",
    "    # 清空梯度\n",
    "    optimizer.zero_grad()"
   ],
   "id": "b53fecdd30ac0c64",
   "outputs": [],
   "execution_count": 13
  },
  {
   "metadata": {},
   "cell_type": "markdown",
   "source": "### check the result",
   "id": "c064a284288879ad"
  },
  {
   "metadata": {
    "ExecuteTime": {
     "end_time": "2024-06-30T11:36:29.146106Z",
     "start_time": "2024-06-30T11:36:29.139218Z"
    }
   },
   "cell_type": "code",
   "source": [
    "for param in model.parameters():\n",
    "    print(param)"
   ],
   "id": "5017f70a9e574d4d",
   "outputs": [
    {
     "name": "stdout",
     "output_type": "stream",
     "text": [
      "Parameter containing:\n",
      "tensor([[2.8697]], requires_grad=True)\n",
      "Parameter containing:\n",
      "tensor([10.6333], requires_grad=True)\n"
     ]
    }
   ],
   "execution_count": 14
  },
  {
   "metadata": {},
   "cell_type": "markdown",
   "source": "### 再次绘制图像",
   "id": "1231e2435cd9966e"
  },
  {
   "metadata": {
    "ExecuteTime": {
     "end_time": "2024-06-30T11:40:41.002801Z",
     "start_time": "2024-06-30T11:40:40.894240Z"
    }
   },
   "cell_type": "code",
   "source": [
    "plt.scatter(X, y)\n",
    "plt.plot(X, model(X).detach().numpy(), color = 'r')\n",
    "plt.show()"
   ],
   "id": "50d3dd05103dd066",
   "outputs": [
    {
     "data": {
      "text/plain": [
       "<Figure size 640x480 with 1 Axes>"
      ],
      "image/png": "[encoded data removed]"
     },
     "metadata": {},
     "output_type": "display_data"
    }
   ],
   "execution_count": 15
  },
  {
   "metadata": {},
   "cell_type": "code",
   "outputs": [],
   "execution_count": null,
   "source": "",
   "id": "168cbfd6487d1bff"
  }
 ],
 "metadata": {
  "kernelspec": {
   "display_name": "Python 3",
   "language": "python",
   "name": "python3"
  },
  "language_info": {
   "codemirror_mode": {
    "name": "ipython",
    "version": 2
   },
   "file_extension": ".py",
   "mimetype": "text/x-python",
   "name": "python",
   "nbconvert_exporter": "python",
   "pygments_lexer": "ipython2",
   "version": "2.7.6"
  }
 },
 "nbformat": 4,
 "nbformat_minor": 5
}
