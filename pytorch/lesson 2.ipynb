{
 "cells": [
  {
   "cell_type": "code",
   "id": "initial_id",
   "metadata": {
    "collapsed": true,
    "ExecuteTime": {
     "end_time": "2024-06-30T13:02:56.267512Z",
     "start_time": "2024-06-30T13:02:56.262741Z"
    }
   },
   "source": [
    "import os\n",
    "import torch\n",
    "import matplotlib.pyplot as plt\n",
    "from time import time\n",
    "from torchvision import datasets, transforms\n",
    "from torch import nn, optim"
   ],
   "outputs": [],
   "execution_count": 6
  },
  {
   "metadata": {},
   "cell_type": "markdown",
   "source": "定义transform对象，其定义了数据集中的图片应该做怎样的处理：",
   "id": "f86f7693a48630fb"
  },
  {
   "metadata": {
    "ExecuteTime": {
     "end_time": "2024-06-30T13:02:56.274367Z",
     "start_time": "2024-06-30T13:02:56.269523Z"
    }
   },
   "cell_type": "code",
   "source": [
    "transform = transforms.Compose([transforms.ToTensor(),\n",
    "                                transforms.Normalize((0.5,), (0.5,))])"
   ],
   "id": "fa5b9622dc3cb8fc",
   "outputs": [],
   "execution_count": 7
  },
  {
   "metadata": {},
   "cell_type": "markdown",
   "source": "加载并下载训练数据集，使用pytorch的API下载",
   "id": "f3bc711610d62273"
  },
  {
   "metadata": {
    "ExecuteTime": {
     "end_time": "2024-06-30T13:02:56.318582Z",
     "start_time": "2024-06-30T13:02:56.276257Z"
    }
   },
   "cell_type": "code",
   "source": [
    "train_set = datasets.MNIST('train_set',# 保存路径\n",
    "                           #download = True,\n",
    "                           download = os.path.exists('train_set'), # 如果已经下载过就不用再下载\n",
    "                           train = True, # 训练集\n",
    "                           transform = transform # 要对图片做的transform\n",
    "                           )\n",
    "train_set"
   ],
   "id": "c3d527c3cec95e68",
   "outputs": [
    {
     "data": {
      "text/plain": [
       "Dataset MNIST\n",
       "    Number of datapoints: 60000\n",
       "    Root location: train_set\n",
       "    Split: Train\n",
       "    StandardTransform\n",
       "Transform: Compose(\n",
       "               ToTensor()\n",
       "               Normalize(mean=(0.5,), std=(0.5,))\n",
       "           )"
      ]
     },
     "execution_count": 8,
     "metadata": {},
     "output_type": "execute_result"
    }
   ],
   "execution_count": 8
  },
  {
   "metadata": {},
   "cell_type": "markdown",
   "source": "下载测试集",
   "id": "9ac9d1c8fc32b862"
  },
  {
   "metadata": {
    "ExecuteTime": {
     "end_time": "2024-06-30T13:02:56.335741Z",
     "start_time": "2024-06-30T13:02:56.320127Z"
    }
   },
   "cell_type": "code",
   "source": [
    "test_set = datasets.MNIST('test_set',\n",
    "                        #download = True,\n",
    "                        download=not os.path.exists('test_set'),\n",
    "                        train=False,\n",
    "                        transform=transform\n",
    "                       )\n",
    "test_set"
   ],
   "id": "cb73bfa90c3304e0",
   "outputs": [
    {
     "data": {
      "text/plain": [
       "Dataset MNIST\n",
       "    Number of datapoints: 10000\n",
       "    Root location: test_set\n",
       "    Split: Test\n",
       "    StandardTransform\n",
       "Transform: Compose(\n",
       "               ToTensor()\n",
       "               Normalize(mean=(0.5,), std=(0.5,))\n",
       "           )"
      ]
     },
     "execution_count": 9,
     "metadata": {},
     "output_type": "execute_result"
    }
   ],
   "execution_count": 9
  },
  {
   "metadata": {
    "ExecuteTime": {
     "end_time": "2024-06-30T13:05:26.095991Z",
     "start_time": "2024-06-30T13:05:26.052356Z"
    }
   },
   "cell_type": "code",
   "source": [
    "train_loader = torch.utils.data.DataLoader(train_set, batch_size = 64, shuffle = True)\n",
    "test_loader = torch.utils.data.DataLoader(test_set, batch_size = 64, shuffle = True)\n",
    "\n",
    "dataiter = iter(train_loader)\n",
    "# , labels = dataiter.next() # 迭代器使用__next__()方法而不是next()方法\n",
    "images, labels = dataiter.__next__()\n",
    "\n",
    "print(images.shape)\n",
    "print(labels.shape)"
   ],
   "id": "56a17d943e644c46",
   "outputs": [
    {
     "name": "stdout",
     "output_type": "stream",
     "text": [
      "torch.Size([64, 1, 28, 28])\n",
      "torch.Size([64])\n"
     ]
    }
   ],
   "execution_count": 13
  },
  {
   "metadata": {},
   "cell_type": "markdown",
   "source": "在上面，我们将其分成64个一组的图片，每个图片只有一个通道（灰度图），大小为28x28。抽一张绘制一下：",
   "id": "60564c9c734ba4e9"
  },
  {
   "metadata": {
    "ExecuteTime": {
     "end_time": "2024-06-30T13:07:17.520391Z",
     "start_time": "2024-06-30T13:07:17.367737Z"
    }
   },
   "cell_type": "code",
   "source": "plt.imshow(images[0].numpy().squeeze(), cmap = 'gray')",
   "id": "fbecbb44e7f220ee",
   "outputs": [
    {
     "data": {
      "text/plain": [
       "<matplotlib.image.AxesImage at 0x29695c8f690>"
      ]
     },
     "execution_count": 14,
     "metadata": {},
     "output_type": "execute_result"
    },
    {
     "data": {
      "text/plain": [
       "<Figure size 640x480 with 1 Axes>"
      ],
      "image/png": "[encoded data removed]"
     },
     "metadata": {},
     "output_type": "display_data"
    }
   ],
   "execution_count": 14
  },
  {
   "metadata": {},
   "cell_type": "markdown",
   "source": "定义神经网络",
   "id": "1bdc5b73c5c2e321"
  },
  {
   "metadata": {
    "ExecuteTime": {
     "end_time": "2024-06-30T13:31:45.362949Z",
     "start_time": "2024-06-30T13:31:45.355990Z"
    }
   },
   "cell_type": "code",
   "source": [
    "class NerualNetwork(nn.Module):\n",
    "    def __init__(self):\n",
    "        super().__init__()\n",
    "        \n",
    "        '''\n",
    "        第一个线性层\n",
    "        输入图片28 * 28\n",
    "        输出未第一个隐层的输入，为128\n",
    "        '''\n",
    "        \n",
    "        self.linear1 = nn.Linear(28 * 28, 128)\n",
    "        self.relu1 = nn.ReLU()\n",
    "        \n",
    "        '''\n",
    "        第二个线性层\n",
    "        输入为第一个隐层的输出\n",
    "        输出为第二个隐层的输入，为64\n",
    "        '''\n",
    "        \n",
    "        self.linear2 = nn.Linear(128, 64)\n",
    "        self.relu2 = nn.ReLU()\n",
    "        \n",
    "        '''\n",
    "        第三个线性层\n",
    "        输入为第二个隐层的输出\n",
    "        输出为输出层的输入，为10\n",
    "        '''\n",
    "        \n",
    "        self.linear3 = nn.Linear(64, 10)\n",
    "        # 最终通过softmax进行归一化\n",
    "        self.softmax = nn.Softmax(dim = 1)\n",
    "        \n",
    "        '''\n",
    "        上述均可使用nn.Sequential()进行简化\n",
    "        self.model = nn.Sequential(\n",
    "            nn.Linear(28 * 28, 128),\n",
    "            nn.ReLU(),\n",
    "            nn.Linear(128, 64),\n",
    "            nn.ReLU(),\n",
    "            nn.Linear(64, 10),\n",
    "            nn.Softmax(dim = 1)\n",
    "            )\n",
    "        '''\n",
    "    def forward(self, x):\n",
    "        '''\n",
    "        定义神经网络的前向传播\n",
    "        X:图片数据，shape为（64，1，28，28）\n",
    "        '''\n",
    "        # 将x的shape从(64, 1, 28, 28)变为(64, 28 * 28)\n",
    "        x = x.view(x.shape[0], -1)\n",
    "        \n",
    "        x = self.linear1(x)\n",
    "        x = self.relu1(x)\n",
    "        x = self.linear2(x)\n",
    "        x = self.relu2(x)\n",
    "        x = self.linear3(x)\n",
    "        x = self.softmax(x)\n",
    "        # 上述可以直接用x = self.model(x)代替\n",
    "        return x"
   ],
   "id": "679b871a7407448d",
   "outputs": [],
   "execution_count": 26
  },
  {
   "metadata": {
    "ExecuteTime": {
     "end_time": "2024-06-30T13:31:45.506564Z",
     "start_time": "2024-06-30T13:31:45.501169Z"
    }
   },
   "cell_type": "code",
   "source": "model = NerualNetwork()",
   "id": "97aa828efc3fefba",
   "outputs": [],
   "execution_count": 27
  },
  {
   "metadata": {},
   "cell_type": "markdown",
   "source": "定义损失函数和优化器",
   "id": "21cff3337ed051f9"
  },
  {
   "metadata": {
    "ExecuteTime": {
     "end_time": "2024-06-30T13:31:45.766335Z",
     "start_time": "2024-06-30T13:31:45.762971Z"
    }
   },
   "cell_type": "code",
   "source": "criterion = nn.NLLLoss()",
   "id": "c49ee0f68e0e449c",
   "outputs": [],
   "execution_count": 28
  },
  {
   "metadata": {
    "ExecuteTime": {
     "end_time": "2024-06-30T13:31:45.987851Z",
     "start_time": "2024-06-30T13:31:45.984408Z"
    }
   },
   "cell_type": "code",
   "source": "optimizer = optim.SGD(model.parameters(), lr = 0.003, momentum = 0.9)",
   "id": "652f3f8b60d520a4",
   "outputs": [],
   "execution_count": 29
  },
  {
   "metadata": {},
   "cell_type": "markdown",
   "source": "训练模型",
   "id": "70cede6cb04ec32f"
  },
  {
   "metadata": {
    "ExecuteTime": {
     "end_time": "2024-06-30T13:34:16.368038Z",
     "start_time": "2024-06-30T13:31:46.920569Z"
    }
   },
   "cell_type": "code",
   "source": [
    "time0 = time()# 记录开始时间\n",
    "epochs = 15\n",
    "for e in range(epochs):\n",
    "    running_loss = 0 # 本轮的损失\n",
    "    for images, labels in train_loader:\n",
    "        output = model(images) # 前向传播获取预测值\n",
    "        loss = criterion(output, labels) # 计算损失\n",
    "        loss.backward() # 反向传播计算梯度\n",
    "        optimizer.step() # 优化器更新权重\n",
    "        optimizer.zero_grad() # 优化器梯度归零\n",
    "        running_loss += loss.item() # 累加损失\n",
    "    else:\n",
    "        # 每轮结束后打印损失\n",
    "        print('Epoch {} - Training loss: {}'.format(e, running_loss / len(train_loader)))\n",
    "#打印总的训练时间\n",
    "print('\\nTrainning Time (in minutes) =', (time() - time0) / 60)"
   ],
   "id": "cda57e9e18143328",
   "outputs": [
    {
     "name": "stdout",
     "output_type": "stream",
     "text": [
      "Epoch 0 - Training loss: -0.2783155512612766\n",
      "Epoch 1 - Training loss: -0.6030978545514759\n",
      "Epoch 2 - Training loss: -0.7410943994262834\n",
      "Epoch 3 - Training loss: -0.8140240294465633\n",
      "Epoch 4 - Training loss: -0.8271245513516449\n",
      "Epoch 5 - Training loss: -0.833569277197059\n",
      "Epoch 6 - Training loss: -0.8383102209837452\n",
      "Epoch 7 - Training loss: -0.8418217843402424\n",
      "Epoch 8 - Training loss: -0.844900639707854\n",
      "Epoch 9 - Training loss: -0.8469466582290145\n",
      "Epoch 10 - Training loss: -0.8492770357045538\n",
      "Epoch 11 - Training loss: -0.8512311397966291\n",
      "Epoch 12 - Training loss: -0.8531362842013841\n",
      "Epoch 13 - Training loss: -0.854507542304647\n",
      "Epoch 14 - Training loss: -0.8559040154602482\n",
      "\n",
      "Trainning Time (in minutes) = 2.490699625015259\n"
     ]
    }
   ],
   "execution_count": 30
  },
  {
   "metadata": {},
   "cell_type": "markdown",
   "source": "评估模型",
   "id": "3a5b4f07679c7cd5"
  },
  {
   "metadata": {
    "ExecuteTime": {
     "end_time": "2024-06-30T13:41:33.084846Z",
     "start_time": "2024-06-30T13:41:30.222917Z"
    }
   },
   "cell_type": "code",
   "source": [
    "correct_count, all_count = 0, 0\n",
    "model.eval()# 切换到评估模式\n",
    "\n",
    "# 从test_loader中取出一批图片进行测试\n",
    "for images, labels in test_loader:\n",
    "    # 循环检测这批图片\n",
    "    for i in range(len(labels)):\n",
    "        logps = model(images[i]) # 前向传播获取预测值\n",
    "        probab = list(logps.detach().numpy()[0]) # 取出预测值转化为列表\n",
    "        pred_label = probab.index(max(probab)) # 取最大值的索引作为预测结果\n",
    "        true_label = labels.numpy()[i]\n",
    "        if(true_label == pred_label): # 判断是否预测正确\n",
    "            correct_count += 1\n",
    "        all_count += 1\n",
    "print('Number of Images Tested = ', all_count)\n",
    "print('\\nModel Accuracy =', (correct_count / all_count))"
   ],
   "id": "a36abef75f1aed16",
   "outputs": [
    {
     "name": "stdout",
     "output_type": "stream",
     "text": [
      "Number of Images Tested =  10000\n",
      "\n",
      "Model Accuracy = 0.8615\n"
     ]
    }
   ],
   "execution_count": 31
  },
  {
   "metadata": {},
   "cell_type": "code",
   "outputs": [],
   "execution_count": null,
   "source": "",
   "id": "26976742d15f7bca"
  }
 ],
 "metadata": {
  "kernelspec": {
   "display_name": "python(ML)",
   "language": "python",
   "name": "ml"
  },
  "language_info": {
   "codemirror_mode": {
    "name": "ipython",
    "version": 2
   },
   "file_extension": ".py",
   "mimetype": "text/x-python",
   "name": "python",
   "nbconvert_exporter": "python",
   "pygments_lexer": "ipython2",
   "version": "2.7.6"
  }
 },
 "nbformat": 4,
 "nbformat_minor": 5
}
