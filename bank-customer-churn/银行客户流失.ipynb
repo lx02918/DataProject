{
 "cells": [
  {
   "cell_type": "code",
   "id": "initial_id",
   "metadata": {
    "collapsed": true,
    "ExecuteTime": {
     "end_time": "2024-07-07T08:21:35.316182Z",
     "start_time": "2024-07-07T08:21:35.310398Z"
    }
   },
   "source": [
    "import pandas as pd\n",
    "import numpy as np\n",
    "import matplotlib.pyplot as plt\n",
    "import matplotlib.gridspec as gridspec\n",
    "import seaborn as sns\n",
    "\n",
    "from sklearn.compose import ColumnTransformer # 允许同时运用不同的预处理步骤到数据集的不同列\n",
    "from sklearn.preprocessing import OneHotEncoder, StandardScaler # 用于数值型数据的标准化\n",
    "from sklearn.metrics import classification_report, confusion_matrix, accuracy_score, recall_score, precision_score, roc_auc_score, roc_curve, auc# 用于评估模型性能\n",
    "from sklearn.model_selection import train_test_split, GridSearchCV # 用于划分数据集、模型选择和超参数调优\n",
    "\n",
    "from sklearn.cluster import KMeans\n",
    "from sklearn.ensemble import RandomForestClassifier\n",
    "\n",
    "from scipy import stats\n",
    "\n",
    "import warnings\n",
    "\n",
    "warnings.filterwarnings(\"ignore\")"
   ],
   "outputs": [],
   "execution_count": 43
  },
  {
   "metadata": {},
   "cell_type": "markdown",
   "source": "# 数据导入及处理",
   "id": "d4e5838c7e4fb31e"
  },
  {
   "metadata": {
    "ExecuteTime": {
     "end_time": "2024-07-07T08:21:35.460777Z",
     "start_time": "2024-07-07T08:21:35.457291Z"
    }
   },
   "cell_type": "code",
   "source": [
    "plt.rcParams['font.sans-serif'] = ['SimHei']\n",
    "plt.rcParams['axes.unicode_minus'] = False"
   ],
   "id": "5ee7dc05e4338d48",
   "outputs": [],
   "execution_count": 44
  },
  {
   "metadata": {
    "ExecuteTime": {
     "end_time": "2024-07-07T08:21:35.533714Z",
     "start_time": "2024-07-07T08:21:35.483478Z"
    }
   },
   "cell_type": "code",
   "source": [
    "df = pd.read_csv('Customer Churn Dataset.csv')\n",
    "print('-'*50)\n",
    "print('数据集存在的重复值个数：', df.duplicated().sum())\n",
    "print('-'*50)\n",
    "print('数据集存在的缺失值个数：\\n', df.isna().sum())\n",
    "print('-'*50)\n",
    "print('数据集信息：')\n",
    "print(df.info())"
   ],
   "id": "94897f4abcb3b2a5",
   "outputs": [
    {
     "name": "stdout",
     "output_type": "stream",
     "text": [
      "--------------------------------------------------\n",
      "数据集存在的重复值个数： 0\n",
      "--------------------------------------------------\n",
      "数据集存在的缺失值个数：\n",
      " RowNumber          0\n",
      "CustomerId         0\n",
      "Surname            0\n",
      "CreditScore        0\n",
      "Geography          0\n",
      "Gender             0\n",
      "Age                0\n",
      "Tenure             0\n",
      "Balance            0\n",
      "NumOfProducts      0\n",
      "HasCrCard          0\n",
      "IsActiveMember     0\n",
      "EstimatedSalary    0\n",
      "Exited             0\n",
      "dtype: int64\n",
      "--------------------------------------------------\n",
      "数据集信息：\n",
      "<class 'pandas.core.frame.DataFrame'>\n",
      "RangeIndex: 10000 entries, 0 to 9999\n",
      "Data columns (total 14 columns):\n",
      " #   Column           Non-Null Count  Dtype  \n",
      "---  ------           --------------  -----  \n",
      " 0   RowNumber        10000 non-null  int64  \n",
      " 1   CustomerId       10000 non-null  int64  \n",
      " 2   Surname          10000 non-null  object \n",
      " 3   CreditScore      10000 non-null  int64  \n",
      " 4   Geography        10000 non-null  object \n",
      " 5   Gender           10000 non-null  object \n",
      " 6   Age              10000 non-null  int64  \n",
      " 7   Tenure           10000 non-null  int64  \n",
      " 8   Balance          10000 non-null  float64\n",
      " 9   NumOfProducts    10000 non-null  int64  \n",
      " 10  HasCrCard        10000 non-null  int64  \n",
      " 11  IsActiveMember   10000 non-null  int64  \n",
      " 12  EstimatedSalary  10000 non-null  float64\n",
      " 13  Exited           10000 non-null  int64  \n",
      "dtypes: float64(2), int64(9), object(3)\n",
      "memory usage: 1.1+ MB\n",
      "None\n"
     ]
    }
   ],
   "execution_count": 45
  },
  {
   "metadata": {
    "ExecuteTime": {
     "end_time": "2024-07-07T08:21:35.571201Z",
     "start_time": "2024-07-07T08:21:35.552958Z"
    }
   },
   "cell_type": "code",
   "source": [
    "# CustormerId数据类型改为字符类型\n",
    "df['CustomerId'] = df['CustomerId'].astype('str')\n",
    "print(df.info())"
   ],
   "id": "8820378b5eeb80ac",
   "outputs": [
    {
     "name": "stdout",
     "output_type": "stream",
     "text": [
      "<class 'pandas.core.frame.DataFrame'>\n",
      "RangeIndex: 10000 entries, 0 to 9999\n",
      "Data columns (total 14 columns):\n",
      " #   Column           Non-Null Count  Dtype  \n",
      "---  ------           --------------  -----  \n",
      " 0   RowNumber        10000 non-null  int64  \n",
      " 1   CustomerId       10000 non-null  object \n",
      " 2   Surname          10000 non-null  object \n",
      " 3   CreditScore      10000 non-null  int64  \n",
      " 4   Geography        10000 non-null  object \n",
      " 5   Gender           10000 non-null  object \n",
      " 6   Age              10000 non-null  int64  \n",
      " 7   Tenure           10000 non-null  int64  \n",
      " 8   Balance          10000 non-null  float64\n",
      " 9   NumOfProducts    10000 non-null  int64  \n",
      " 10  HasCrCard        10000 non-null  int64  \n",
      " 11  IsActiveMember   10000 non-null  int64  \n",
      " 12  EstimatedSalary  10000 non-null  float64\n",
      " 13  Exited           10000 non-null  int64  \n",
      "dtypes: float64(2), int64(8), object(4)\n",
      "memory usage: 1.1+ MB\n",
      "None\n"
     ]
    }
   ],
   "execution_count": 46
  },
  {
   "metadata": {
    "ExecuteTime": {
     "end_time": "2024-07-07T08:21:35.611305Z",
     "start_time": "2024-07-07T08:21:35.583065Z"
    }
   },
   "cell_type": "code",
   "source": [
    "print('-'*100)\n",
    "display(df.describe())"
   ],
   "id": "4f4240e3702743ef",
   "outputs": [
    {
     "name": "stdout",
     "output_type": "stream",
     "text": [
      "----------------------------------------------------------------------------------------------------\n"
     ]
    },
    {
     "data": {
      "text/plain": [
       "         RowNumber   CreditScore           Age        Tenure        Balance  \\\n",
       "count  10000.00000  10000.000000  10000.000000  10000.000000   10000.000000   \n",
       "mean    5000.50000    650.528800     38.921800      5.012800   76485.889288   \n",
       "std     2886.89568     96.653299     10.487806      2.892174   62397.405202   \n",
       "min        1.00000    350.000000     18.000000      0.000000       0.000000   \n",
       "25%     2500.75000    584.000000     32.000000      3.000000       0.000000   \n",
       "50%     5000.50000    652.000000     37.000000      5.000000   97198.540000   \n",
       "75%     7500.25000    718.000000     44.000000      7.000000  127644.240000   \n",
       "max    10000.00000    850.000000     92.000000     10.000000  250898.090000   \n",
       "\n",
       "       NumOfProducts    HasCrCard  IsActiveMember  EstimatedSalary  \\\n",
       "count   10000.000000  10000.00000    10000.000000     10000.000000   \n",
       "mean        1.530200      0.70550        0.515100    100090.239881   \n",
       "std         0.581654      0.45584        0.499797     57510.492818   \n",
       "min         1.000000      0.00000        0.000000        11.580000   \n",
       "25%         1.000000      0.00000        0.000000     51002.110000   \n",
       "50%         1.000000      1.00000        1.000000    100193.915000   \n",
       "75%         2.000000      1.00000        1.000000    149388.247500   \n",
       "max         4.000000      1.00000        1.000000    199992.480000   \n",
       "\n",
       "             Exited  \n",
       "count  10000.000000  \n",
       "mean       0.203700  \n",
       "std        0.402769  \n",
       "min        0.000000  \n",
       "25%        0.000000  \n",
       "50%        0.000000  \n",
       "75%        0.000000  \n",
       "max        1.000000  "
      ],
      "text/html": [
       "<div>\n",
       "<style scoped>\n",
       "    .dataframe tbody tr th:only-of-type {\n",
       "        vertical-align: middle;\n",
       "    }\n",
       "\n",
       "    .dataframe tbody tr th {\n",
       "        vertical-align: top;\n",
       "    }\n",
       "\n",
       "    .dataframe thead th {\n",
       "        text-align: right;\n",
       "    }\n",
       "</style>\n",
       "<table border=\"1\" class=\"dataframe\">\n",
       "  <thead>\n",
       "    <tr style=\"text-align: right;\">\n",
       "      <th></th>\n",
       "      <th>RowNumber</th>\n",
       "      <th>CreditScore</th>\n",
       "      <th>Age</th>\n",
       "      <th>Tenure</th>\n",
       "      <th>Balance</th>\n",
       "      <th>NumOfProducts</th>\n",
       "      <th>HasCrCard</th>\n",
       "      <th>IsActiveMember</th>\n",
       "      <th>EstimatedSalary</th>\n",
       "      <th>Exited</th>\n",
       "    </tr>\n",
       "  </thead>\n",
       "  <tbody>\n",
       "    <tr>\n",
       "      <th>count</th>\n",
       "      <td>10000.00000</td>\n",
       "      <td>10000.000000</td>\n",
       "      <td>10000.000000</td>\n",
       "      <td>10000.000000</td>\n",
       "      <td>10000.000000</td>\n",
       "      <td>10000.000000</td>\n",
       "      <td>10000.00000</td>\n",
       "      <td>10000.000000</td>\n",
       "      <td>10000.000000</td>\n",
       "      <td>10000.000000</td>\n",
       "    </tr>\n",
       "    <tr>\n",
       "      <th>mean</th>\n",
       "      <td>5000.50000</td>\n",
       "      <td>650.528800</td>\n",
       "      <td>38.921800</td>\n",
       "      <td>5.012800</td>\n",
       "      <td>76485.889288</td>\n",
       "      <td>1.530200</td>\n",
       "      <td>0.70550</td>\n",
       "      <td>0.515100</td>\n",
       "      <td>100090.239881</td>\n",
       "      <td>0.203700</td>\n",
       "    </tr>\n",
       "    <tr>\n",
       "      <th>std</th>\n",
       "      <td>2886.89568</td>\n",
       "      <td>96.653299</td>\n",
       "      <td>10.487806</td>\n",
       "      <td>2.892174</td>\n",
       "      <td>62397.405202</td>\n",
       "      <td>0.581654</td>\n",
       "      <td>0.45584</td>\n",
       "      <td>0.499797</td>\n",
       "      <td>57510.492818</td>\n",
       "      <td>0.402769</td>\n",
       "    </tr>\n",
       "    <tr>\n",
       "      <th>min</th>\n",
       "      <td>1.00000</td>\n",
       "      <td>350.000000</td>\n",
       "      <td>18.000000</td>\n",
       "      <td>0.000000</td>\n",
       "      <td>0.000000</td>\n",
       "      <td>1.000000</td>\n",
       "      <td>0.00000</td>\n",
       "      <td>0.000000</td>\n",
       "      <td>11.580000</td>\n",
       "      <td>0.000000</td>\n",
       "    </tr>\n",
       "    <tr>\n",
       "      <th>25%</th>\n",
       "      <td>2500.75000</td>\n",
       "      <td>584.000000</td>\n",
       "      <td>32.000000</td>\n",
       "      <td>3.000000</td>\n",
       "      <td>0.000000</td>\n",
       "      <td>1.000000</td>\n",
       "      <td>0.00000</td>\n",
       "      <td>0.000000</td>\n",
       "      <td>51002.110000</td>\n",
       "      <td>0.000000</td>\n",
       "    </tr>\n",
       "    <tr>\n",
       "      <th>50%</th>\n",
       "      <td>5000.50000</td>\n",
       "      <td>652.000000</td>\n",
       "      <td>37.000000</td>\n",
       "      <td>5.000000</td>\n",
       "      <td>97198.540000</td>\n",
       "      <td>1.000000</td>\n",
       "      <td>1.00000</td>\n",
       "      <td>1.000000</td>\n",
       "      <td>100193.915000</td>\n",
       "      <td>0.000000</td>\n",
       "    </tr>\n",
       "    <tr>\n",
       "      <th>75%</th>\n",
       "      <td>7500.25000</td>\n",
       "      <td>718.000000</td>\n",
       "      <td>44.000000</td>\n",
       "      <td>7.000000</td>\n",
       "      <td>127644.240000</td>\n",
       "      <td>2.000000</td>\n",
       "      <td>1.00000</td>\n",
       "      <td>1.000000</td>\n",
       "      <td>149388.247500</td>\n",
       "      <td>0.000000</td>\n",
       "    </tr>\n",
       "    <tr>\n",
       "      <th>max</th>\n",
       "      <td>10000.00000</td>\n",
       "      <td>850.000000</td>\n",
       "      <td>92.000000</td>\n",
       "      <td>10.000000</td>\n",
       "      <td>250898.090000</td>\n",
       "      <td>4.000000</td>\n",
       "      <td>1.00000</td>\n",
       "      <td>1.000000</td>\n",
       "      <td>199992.480000</td>\n",
       "      <td>1.000000</td>\n",
       "    </tr>\n",
       "  </tbody>\n",
       "</table>\n",
       "</div>"
      ]
     },
     "metadata": {},
     "output_type": "display_data"
    }
   ],
   "execution_count": 47
  },
  {
   "metadata": {
    "ExecuteTime": {
     "end_time": "2024-07-07T08:21:35.616871Z",
     "start_time": "2024-07-07T08:21:35.612885Z"
    }
   },
   "cell_type": "code",
   "source": [
    "# 对姓氏数据进行脱敏处理\n",
    "# 只保留首字母，其余用*代替\n",
    "def anonymize_surname(surname):\n",
    "    new_surname = surname[0] + '*' * (len(surname)-1)\n",
    "    return new_surname"
   ],
   "id": "a6181aa62c33ec5",
   "outputs": [],
   "execution_count": 48
  },
  {
   "metadata": {
    "ExecuteTime": {
     "end_time": "2024-07-07T08:21:35.665155Z",
     "start_time": "2024-07-07T08:21:35.646246Z"
    }
   },
   "cell_type": "code",
   "source": [
    "df['Surname'] = df['Surname'].map(anonymize_surname)\n",
    "display(df.head())"
   ],
   "id": "93bd3b92be702cc5",
   "outputs": [
    {
     "data": {
      "text/plain": [
       "   RowNumber CustomerId   Surname  CreditScore Geography  Gender  Age  Tenure  \\\n",
       "0          1   15634602  H*******          619    France  Female   42       2   \n",
       "1          2   15647311      H***          608     Spain  Female   41       1   \n",
       "2          3   15619304      O***          502    France  Female   42       8   \n",
       "3          4   15701354      B***          699    France  Female   39       1   \n",
       "4          5   15737888  M*******          850     Spain  Female   43       2   \n",
       "\n",
       "     Balance  NumOfProducts  HasCrCard  IsActiveMember  EstimatedSalary  \\\n",
       "0       0.00              1          1               1        101348.88   \n",
       "1   83807.86              1          0               1        112542.58   \n",
       "2  159660.80              3          1               0        113931.57   \n",
       "3       0.00              2          0               0         93826.63   \n",
       "4  125510.82              1          1               1         79084.10   \n",
       "\n",
       "   Exited  \n",
       "0       1  \n",
       "1       0  \n",
       "2       1  \n",
       "3       0  \n",
       "4       0  "
      ],
      "text/html": [
       "<div>\n",
       "<style scoped>\n",
       "    .dataframe tbody tr th:only-of-type {\n",
       "        vertical-align: middle;\n",
       "    }\n",
       "\n",
       "    .dataframe tbody tr th {\n",
       "        vertical-align: top;\n",
       "    }\n",
       "\n",
       "    .dataframe thead th {\n",
       "        text-align: right;\n",
       "    }\n",
       "</style>\n",
       "<table border=\"1\" class=\"dataframe\">\n",
       "  <thead>\n",
       "    <tr style=\"text-align: right;\">\n",
       "      <th></th>\n",
       "      <th>RowNumber</th>\n",
       "      <th>CustomerId</th>\n",
       "      <th>Surname</th>\n",
       "      <th>CreditScore</th>\n",
       "      <th>Geography</th>\n",
       "      <th>Gender</th>\n",
       "      <th>Age</th>\n",
       "      <th>Tenure</th>\n",
       "      <th>Balance</th>\n",
       "      <th>NumOfProducts</th>\n",
       "      <th>HasCrCard</th>\n",
       "      <th>IsActiveMember</th>\n",
       "      <th>EstimatedSalary</th>\n",
       "      <th>Exited</th>\n",
       "    </tr>\n",
       "  </thead>\n",
       "  <tbody>\n",
       "    <tr>\n",
       "      <th>0</th>\n",
       "      <td>1</td>\n",
       "      <td>15634602</td>\n",
       "      <td>H*******</td>\n",
       "      <td>619</td>\n",
       "      <td>France</td>\n",
       "      <td>Female</td>\n",
       "      <td>42</td>\n",
       "      <td>2</td>\n",
       "      <td>0.00</td>\n",
       "      <td>1</td>\n",
       "      <td>1</td>\n",
       "      <td>1</td>\n",
       "      <td>101348.88</td>\n",
       "      <td>1</td>\n",
       "    </tr>\n",
       "    <tr>\n",
       "      <th>1</th>\n",
       "      <td>2</td>\n",
       "      <td>15647311</td>\n",
       "      <td>H***</td>\n",
       "      <td>608</td>\n",
       "      <td>Spain</td>\n",
       "      <td>Female</td>\n",
       "      <td>41</td>\n",
       "      <td>1</td>\n",
       "      <td>83807.86</td>\n",
       "      <td>1</td>\n",
       "      <td>0</td>\n",
       "      <td>1</td>\n",
       "      <td>112542.58</td>\n",
       "      <td>0</td>\n",
       "    </tr>\n",
       "    <tr>\n",
       "      <th>2</th>\n",
       "      <td>3</td>\n",
       "      <td>15619304</td>\n",
       "      <td>O***</td>\n",
       "      <td>502</td>\n",
       "      <td>France</td>\n",
       "      <td>Female</td>\n",
       "      <td>42</td>\n",
       "      <td>8</td>\n",
       "      <td>159660.80</td>\n",
       "      <td>3</td>\n",
       "      <td>1</td>\n",
       "      <td>0</td>\n",
       "      <td>113931.57</td>\n",
       "      <td>1</td>\n",
       "    </tr>\n",
       "    <tr>\n",
       "      <th>3</th>\n",
       "      <td>4</td>\n",
       "      <td>15701354</td>\n",
       "      <td>B***</td>\n",
       "      <td>699</td>\n",
       "      <td>France</td>\n",
       "      <td>Female</td>\n",
       "      <td>39</td>\n",
       "      <td>1</td>\n",
       "      <td>0.00</td>\n",
       "      <td>2</td>\n",
       "      <td>0</td>\n",
       "      <td>0</td>\n",
       "      <td>93826.63</td>\n",
       "      <td>0</td>\n",
       "    </tr>\n",
       "    <tr>\n",
       "      <th>4</th>\n",
       "      <td>5</td>\n",
       "      <td>15737888</td>\n",
       "      <td>M*******</td>\n",
       "      <td>850</td>\n",
       "      <td>Spain</td>\n",
       "      <td>Female</td>\n",
       "      <td>43</td>\n",
       "      <td>2</td>\n",
       "      <td>125510.82</td>\n",
       "      <td>1</td>\n",
       "      <td>1</td>\n",
       "      <td>1</td>\n",
       "      <td>79084.10</td>\n",
       "      <td>0</td>\n",
       "    </tr>\n",
       "  </tbody>\n",
       "</table>\n",
       "</div>"
      ]
     },
     "metadata": {},
     "output_type": "display_data"
    }
   ],
   "execution_count": 49
  },
  {
   "metadata": {},
   "cell_type": "markdown",
   "source": "# 探索性数据分析",
   "id": "44f6001255b8ff46"
  },
  {
   "metadata": {},
   "cell_type": "markdown",
   "source": "## 描述性可视化",
   "id": "808ab700beb72322"
  },
  {
   "metadata": {},
   "cell_type": "markdown",
   "source": "首先分析客户基本信息和流失与否的关系",
   "id": "77e1c5f633972c63"
  },
  {
   "metadata": {
    "ExecuteTime": {
     "end_time": "2024-07-07T08:21:36.065280Z",
     "start_time": "2024-07-07T08:21:35.676773Z"
    }
   },
   "cell_type": "code",
   "source": [
    "fig = plt.figure(figsize = (15, 6))\n",
    "\n",
    "ax1 = fig.add_subplot(1, 3, 1)\n",
    "ax2 = fig.add_subplot(1, 3, 2)\n",
    "ax3 = fig.add_subplot(1, 3, 3)\n",
    "\n",
    "# 客户流失与否和国家/地区的关系\n",
    "geography_exited_pivot = df.pivot_table(index = 'Geography', columns = 'Exited', aggfunc = 'size', fill_value = 0)\n",
    "geography_exited_table = geography_exited_pivot.div(geography_exited_pivot.sum(axis = 1), axis = 0) * 100\n",
    "geography_exited_table = geography_exited_table.reset_index().rename(columns = {0:'NotExitedRate', 1:'ExitedRate'})\n",
    "# display(geography_exited_table['Geography'])\n",
    "\n",
    "sns.barplot(x = 'Geography', y = 'ExitedRate', data = geography_exited_table, ax = ax1)\n",
    "ax1.set_title('客户流失与否和国家/地区关系图', fontsize = 12, pad = 20)\n",
    "ax1.set_ylabel('ExitedRate')\n",
    "\n",
    "for bar in ax1.patches:\n",
    "    x_loc = bar.get_x() + bar.get_width() / 2\n",
    "    y_loc = bar.get_height()\n",
    "    ax1.text(x_loc, y_loc, f'{y_loc:.1f}%'.format(y_loc), ha = 'center', va = 'bottom')\n",
    "# 客户流失与否和性别的关系图\n",
    "gender_exited_pivot = df.pivot_table(index = 'Gender', columns = 'Exited', aggfunc = 'size', fill_value = 0)\n",
    "gender_exited_table = gender_exited_pivot.div(gender_exited_pivot.sum(axis = 1), axis = 0) * 100\n",
    "gender_exited_table = gender_exited_table.reset_index().rename(columns = {0:'NotExitedRate', 1:'ExitedRate'})\n",
    "\n",
    "sns.barplot(x = 'Gender', y = 'ExitedRate', data = gender_exited_table, ax = ax2)\n",
    "ax2.set_title('客户流失与否和性别的关系图', fontsize = 12, pad = 20)\n",
    "ax2.set_ylabel('ExitedRate')\n",
    "for bar in ax2.patches:\n",
    "    x_loc = bar.get_x() + bar.get_width() / 2\n",
    "    y_loc = bar.get_height()\n",
    "    ax2.text(x_loc, y_loc, f'{y_loc:.1f}%'.format(y_loc), ha = 'center', va = 'bottom')\n",
    "\n",
    "# 客户流失与否和年龄的关系图\n",
    "sns.boxplot(x = 'Exited', y = 'Age', data = df, ax = ax3)\n",
    "ax3.set_title('客户流失与否和年龄的关系图', fontsize = 12, pad = 20)\n",
    "\n",
    "plt.show()"
   ],
   "id": "678ab0afd0726479",
   "outputs": [
    {
     "data": {
      "text/plain": [
       "<Figure size 1500x600 with 3 Axes>"
      ],
      "image/png": "[encoded data removed]"
     },
     "metadata": {},
     "output_type": "display_data"
    }
   ],
   "execution_count": 50
  },
  {
   "metadata": {},
   "cell_type": "markdown",
   "source": [
    "小结：\n",
    "1.德国客户的流失率高于其他两个国家客户约一倍\n",
    "\n",
    "2.女客户的流失率要高于男客户\n",
    "\n",
    "3.流失客户的平均年龄约为45岁，而非流失客户的平均年龄约为36岁，可能年龄越大就容易流失。"
   ],
   "id": "39078dd0aea60534"
  },
  {
   "metadata": {},
   "cell_type": "markdown",
   "source": "接下来分析客户的财务状况与流失与否的关系",
   "id": "fab3d1c4bf839cbe"
  },
  {
   "metadata": {
    "ExecuteTime": {
     "end_time": "2024-07-07T08:21:36.386019Z",
     "start_time": "2024-07-07T08:21:36.067329Z"
    }
   },
   "cell_type": "code",
   "source": [
    "fig = plt.figure(figsize = (15, 6))\n",
    "ax1 = fig.add_subplot(1, 2, 1)\n",
    "ax2 = fig.add_subplot(1, 2, 2)\n",
    "\n",
    "sns.boxplot(x = 'Exited', y = 'Balance', data = df, ax = ax1)\n",
    "ax1.set_title('客户流失与否和余额的关系图', fontsize = 12, pad = 20)\n",
    "\n",
    "sns.boxplot(x = 'Exited', y = 'EstimatedSalary', data = df, ax = ax2)\n",
    "ax2.set_title('客户流失与否和预估薪资的关系图', fontsize = 12, pad = 20)\n",
    "\n",
    "plt.show()"
   ],
   "id": "11b29bb13c4b90c1",
   "outputs": [
    {
     "data": {
      "text/plain": [
       "<Figure size 1500x600 with 2 Axes>"
      ],
      "image/png": "[encoded data removed]"
     },
     "metadata": {},
     "output_type": "display_data"
    }
   ],
   "execution_count": 51
  },
  {
   "metadata": {},
   "cell_type": "markdown",
   "source": [
    "小结：\n",
    "\n",
    "1.流失客户的卡上余额高于非流失客户的\n",
    "\n",
    "2.流失客户和非流失客户的预估工资差别不大，可能相关性不高。"
   ],
   "id": "fb9bdcd96a7b331c"
  },
  {
   "metadata": {},
   "cell_type": "markdown",
   "source": "继续分析客户的信用和流失与否的关系图",
   "id": "3b59181d1a8cfe4c"
  },
  {
   "metadata": {
    "ExecuteTime": {
     "end_time": "2024-07-07T08:21:37.233229Z",
     "start_time": "2024-07-07T08:21:36.387029Z"
    }
   },
   "cell_type": "code",
   "source": [
    "fig = plt.figure(figsize=(12,10))\n",
    "ax1 = fig.add_subplot(2,2,1)\n",
    "ax2 = fig.add_subplot(2,2,2)\n",
    "ax3 = fig.add_subplot(2,2,(3,4))\n",
    "\n",
    "sns.boxplot(x='Exited',y='CreditScore',data=df,width=0.4,ax=ax1)\n",
    "ax1.set_title('客户流失状态与信用评分的关系图',fontsize=15,pad=20)\n",
    "\n",
    "# 客户流失状态与购买数量的关系\n",
    "num_exited_pivot = df.pivot_table(index = 'NumOfProducts',columns = 'Exited',aggfunc='size',fill_value=0)\n",
    "num_exited_table = num_exited_pivot.div(num_exited_pivot.sum(axis=1),axis=0)*100\n",
    "num_exited_table = num_exited_table.reset_index().rename(columns={0:'NotExitedRate',1:'ExitedRate'})\n",
    "\n",
    "sns.barplot(x='NumOfProducts',y='ExitedRate',data=num_exited_table,ax=ax2)\n",
    "ax2.set_title('客户流失状态与购买数量的关系图',fontsize=12,pad=20)\n",
    "ax2.set_ylabel('ExitedRate')\n",
    "for bar in ax2.patches:\n",
    "    x_loc = bar.get_x() + bar.get_width() / 2\n",
    "    y_loc = bar.get_height()\n",
    "    ax2.text(x_loc,y_loc,f'{y_loc:.1f}%',ha='center',va='bottom')\n",
    "\n",
    "# 客户流失状态与合作年限的关系\n",
    "tenure_exited_pivot = df.pivot_table(index = 'Tenure', columns='Exited',aggfunc='size',fill_value=0)\n",
    "tenure_exited_table = tenure_exited_pivot.div(tenure_exited_pivot.sum(axis=1),axis=0)*100\n",
    "tenure_exited_table = tenure_exited_table.reset_index().rename(columns={0:'NotExitedRate',1:'ExitedRate'})\n",
    "\n",
    "sns.barplot(x='Tenure',y='ExitedRate',data=tenure_exited_table,ax=ax3)\n",
    "ax3.set_title('客户流失状态与合作年限的关系图',fontsize=12,pad=20)\n",
    "ax3.set_ylabel('ExitedRate')\n",
    "for bar in ax3.patches:\n",
    "    x_loc = bar.get_x() + bar.get_width()/2\n",
    "    y_loc = bar.get_height()\n",
    "    ax3.text(x_loc,y_loc,f'{y_loc:.1f}%',ha='center',va='bottom')\n",
    "\n",
    "plt.tight_layout()\n",
    "plt.show()"
   ],
   "id": "4dc3e3962e6f14a",
   "outputs": [
    {
     "data": {
      "text/plain": [
       "<Figure size 1200x1000 with 3 Axes>"
      ],
      "image/png": "[encoded data removed]"
     },
     "metadata": {},
     "output_type": "display_data"
    }
   ],
   "execution_count": 52
  },
  {
   "metadata": {},
   "cell_type": "markdown",
   "source": [
    "小结：\n",
    "\n",
    "1.流失客户和非流失客户的信用评分差不多，可能相关性不高\n",
    "\n",
    "2.拥有3-4个产品的客户流失率高，可能是银行产品的实际效用未达到客户的期望，导致客户感觉投资回报低。\n",
    "\n",
    "3.不同合作年限的客户有不同程度的流失率，但差别不是很大，流失率最低为17.2%，最高位23.0%。"
   ],
   "id": "2b9268256675e8af"
  },
  {
   "metadata": {},
   "cell_type": "markdown",
   "source": "继续分析客户的行为与偏好和流失与否的关系",
   "id": "b420a660bdc68593"
  },
  {
   "metadata": {
    "ExecuteTime": {
     "end_time": "2024-07-07T08:21:37.629522Z",
     "start_time": "2024-07-07T08:21:37.235240Z"
    }
   },
   "cell_type": "code",
   "source": [
    "fig = plt.figure(figsize=(15,6))\n",
    "ax1 = fig.add_subplot(1,2,1)\n",
    "ax2 = fig.add_subplot(1,2,2)\n",
    "\n",
    "# 客户流失与否和是否持有信用卡的关系\n",
    "card_exited_pivot = df.pivot_table(index='HasCrCard',columns='Exited',aggfunc='size',fill_value=0)\n",
    "card_exited_table = card_exited_pivot.div(card_exited_pivot.sum(axis=1),axis=0)*100\n",
    "card_exited_table = card_exited_table.reset_index().rename(columns={0:'NotExitedRate',1:'ExitedRate'})\n",
    "\n",
    "sns.barplot(x='HasCrCard',y='ExitedRate',data=card_exited_table,ax=ax1)\n",
    "ax1.set_title('客户流失与否和是否持有信用卡的关系图',fontsize=12,pad=20)\n",
    "ax1.set_ylabel('ExitedRate')\n",
    "for bar in ax1.patches:\n",
    "    x_loc = bar.get_x() + bar.get_width() / 2\n",
    "    y_loc = bar.get_height()\n",
    "    ax1.text(x_loc,y_loc,f'{y_loc:.1f}%',ha='center',va='bottom')\n",
    "\n",
    "# 客户流失与否和是否活跃会员的关系\n",
    "ac_exited_pivot = df.pivot_table(index='IsActiveMember',columns='Exited',aggfunc='size',fill_value=0)\n",
    "ac_exited_table = ac_exited_pivot.div(ac_exited_pivot.sum(axis=1),axis=0)*100\n",
    "ac_exited_table = ac_exited_table.reset_index().rename(columns={0:'NotExitedRate',1:'ExitedRate'})\n",
    "sns.barplot(x='IsActiveMember',y='ExitedRate',data=ac_exited_table,ax=ax2)\n",
    "ax2.set_title('客户流失与否和是否活跃会员的关系图',fontsize=12,pad=20)\n",
    "ax2.set_ylabel('ExitedRate')\n",
    "for bar in ax2.patches:\n",
    "    x_loc = bar.get_x() + bar.get_width() / 2\n",
    "    y_loc = bar.get_height()\n",
    "    ax2.text(x_loc,y_loc,f'{y_loc:.1f}%',ha='center',va='bottom')\n",
    "\n",
    "plt.show()"
   ],
   "id": "727bf3da9f7f8b6c",
   "outputs": [
    {
     "data": {
      "text/plain": [
       "<Figure size 1500x600 with 2 Axes>"
      ],
      "image/png": "[encoded data removed]"
     },
     "metadata": {},
     "output_type": "display_data"
    }
   ],
   "execution_count": 53
  },
  {
   "metadata": {},
   "cell_type": "markdown",
   "source": [
    "小结：\n",
    "\n",
    "1.是否拥有信用卡的客户的流失率比较接近\n",
    "\n",
    "2.非活跃会员的客户流失率较大"
   ],
   "id": "b1e2873e2f773b16"
  },
  {
   "metadata": {},
   "cell_type": "markdown",
   "source": "## 皮尔逊相关系数",
   "id": "74d796bc195fd262"
  },
  {
   "metadata": {
    "ExecuteTime": {
     "end_time": "2024-07-07T08:21:37.645060Z",
     "start_time": "2024-07-07T08:21:37.630534Z"
    }
   },
   "cell_type": "code",
   "source": [
    "# 计算各个特征与客户流失与否的相关性\n",
    "# 皮尔逊相关系数的计算适用于连续变量，所以要先排除非数值列\n",
    "numeric_df = df.select_dtypes(include=[np.number])\n",
    "correlation_matrix=numeric_df.corr()\n",
    "corr_df = pd.DataFrame(data=correlation_matrix,columns=['Exited']).reset_index().sort_values('Exited',ascending=False)\n",
    "corr_df = corr_df.rename(columns={'index':'Feature','Exited':'Exited_Corr'})\n",
    "display(corr_df)"
   ],
   "id": "f471fe99945437e3",
   "outputs": [
    {
     "data": {
      "text/plain": [
       "           Feature  Exited_Corr\n",
       "9           Exited     1.000000\n",
       "2              Age     0.285323\n",
       "4          Balance     0.118533\n",
       "8  EstimatedSalary     0.012097\n",
       "6        HasCrCard    -0.007138\n",
       "3           Tenure    -0.014001\n",
       "0        RowNumber    -0.016571\n",
       "1      CreditScore    -0.027094\n",
       "5    NumOfProducts    -0.047820\n",
       "7   IsActiveMember    -0.156128"
      ],
      "text/html": [
       "<div>\n",
       "<style scoped>\n",
       "    .dataframe tbody tr th:only-of-type {\n",
       "        vertical-align: middle;\n",
       "    }\n",
       "\n",
       "    .dataframe tbody tr th {\n",
       "        vertical-align: top;\n",
       "    }\n",
       "\n",
       "    .dataframe thead th {\n",
       "        text-align: right;\n",
       "    }\n",
       "</style>\n",
       "<table border=\"1\" class=\"dataframe\">\n",
       "  <thead>\n",
       "    <tr style=\"text-align: right;\">\n",
       "      <th></th>\n",
       "      <th>Feature</th>\n",
       "      <th>Exited_Corr</th>\n",
       "    </tr>\n",
       "  </thead>\n",
       "  <tbody>\n",
       "    <tr>\n",
       "      <th>9</th>\n",
       "      <td>Exited</td>\n",
       "      <td>1.000000</td>\n",
       "    </tr>\n",
       "    <tr>\n",
       "      <th>2</th>\n",
       "      <td>Age</td>\n",
       "      <td>0.285323</td>\n",
       "    </tr>\n",
       "    <tr>\n",
       "      <th>4</th>\n",
       "      <td>Balance</td>\n",
       "      <td>0.118533</td>\n",
       "    </tr>\n",
       "    <tr>\n",
       "      <th>8</th>\n",
       "      <td>EstimatedSalary</td>\n",
       "      <td>0.012097</td>\n",
       "    </tr>\n",
       "    <tr>\n",
       "      <th>6</th>\n",
       "      <td>HasCrCard</td>\n",
       "      <td>-0.007138</td>\n",
       "    </tr>\n",
       "    <tr>\n",
       "      <th>3</th>\n",
       "      <td>Tenure</td>\n",
       "      <td>-0.014001</td>\n",
       "    </tr>\n",
       "    <tr>\n",
       "      <th>0</th>\n",
       "      <td>RowNumber</td>\n",
       "      <td>-0.016571</td>\n",
       "    </tr>\n",
       "    <tr>\n",
       "      <th>1</th>\n",
       "      <td>CreditScore</td>\n",
       "      <td>-0.027094</td>\n",
       "    </tr>\n",
       "    <tr>\n",
       "      <th>5</th>\n",
       "      <td>NumOfProducts</td>\n",
       "      <td>-0.047820</td>\n",
       "    </tr>\n",
       "    <tr>\n",
       "      <th>7</th>\n",
       "      <td>IsActiveMember</td>\n",
       "      <td>-0.156128</td>\n",
       "    </tr>\n",
       "  </tbody>\n",
       "</table>\n",
       "</div>"
      ]
     },
     "metadata": {},
     "output_type": "display_data"
    }
   ],
   "execution_count": 54
  },
  {
   "metadata": {},
   "cell_type": "markdown",
   "source": [
    "小结：\n",
    "\n",
    "由此可以看出，\n",
    "\n",
    "Age和Exited有正相关性28.5%，说明客户年龄越大流失率可能越高。\n",
    "\n",
    "Balance和Exited有正相关性11.8%，说明客户银行卡的余额越足够流失率可能越高。\n",
    "\n",
    "IsAciterMember和Exited有负相关性-15.6%，客户越活跃流失率可能越高。"
   ],
   "id": "490a2f58de6de1d1"
  },
  {
   "metadata": {},
   "cell_type": "markdown",
   "source": [
    "皮尔逊相关系数只能说明某些连续变量和目标变量之间存在某种程度的线性关系模式。例如，账户余额和客户流失与否呈高负相关，意味着账户余额越大的客户，其流失的可能性越低。皮尔逊相关系数揭示了变量间的关系强度和方向，但并不能直接证明因果关系。\n",
    "\n",
    "所以我们为了确定这些变量是否对客户流失有显著影响，需要进一步采取例如逻辑回归、随机森林等建模方法，或者使用T检验、U检验、卡方检验等统计方法来测试对比流失与未流失客户在这些变量上的均值差异。"
   ],
   "id": "277dc86dd165c05f"
  },
  {
   "metadata": {},
   "cell_type": "markdown",
   "source": "## T检验/U检验",
   "id": "4896ef9885ba73dd"
  },
  {
   "metadata": {},
   "cell_type": "markdown",
   "source": [
    "思路：\n",
    "\n",
    "创建一个空DataFrame，用于存储每个特征变量的统计测试结果\n",
    "\n",
    "分别读取流失与未流失的特征变量数据\n",
    "\n",
    "用KS检验方法判断流失与未流失在其特征变量上是否服从正态，如果服从正态则使用T检验否则使用U检验\n",
    "\n",
    "把该特征变量的KS检验、U检验、T检验的结果添加到数据框里\n",
    "\n",
    "每个特征变量重复执行以上code2、3、4一次"
   ],
   "id": "d71b5919d6997531"
  },
  {
   "metadata": {},
   "cell_type": "markdown",
   "source": [
    "实现：\n",
    "\n",
    "创建一个参数为dataframe、features_list的自定义函数。将重复执行的code使用for语句简化，来遍历特征变量列表里每一个特征变量，判断该特征变量是否服从正态分布，是的话则使用T检验否则使用U检验，接着将其结果添加到数据框里。"
   ],
   "id": "be0473f357cab2d8"
  },
  {
   "metadata": {
    "ExecuteTime": {
     "end_time": "2024-07-07T08:21:37.653800Z",
     "start_time": "2024-07-07T08:21:37.646067Z"
    }
   },
   "cell_type": "code",
   "source": [
    "def analyze_features(data, features):\n",
    "    # 初始化一个空列表，用来存储检验结果的数据\n",
    "    results = []\n",
    "\n",
    "    # 遍历feature list的每一个特征变量，并分别读取流失组和未流失组数据\n",
    "    for feature in features:\n",
    "        exited_feature = data[data['Exited'] == 1][feature]\n",
    "        not_exited_feature = data[data['Exited'] == 0][feature]\n",
    "\n",
    "        # ‘norm’：设理论分布为正态分布，将数组的分布和理论分布进行比较，返回ks统计量和p值        \n",
    "        ks_statistic_exited, p_value_exited = stats.kstest(exited_feature, 'norm', args=(exited_feature.mean(), exited_feature.std()))\n",
    "        ks_statistic_not_exited, p_value_not_exited = stats.kstest(not_exited_feature, 'norm', args=(not_exited_feature.mean(), not_exited_feature.std()))\n",
    "\n",
    "        # p_value < 0.05（常见的显著性水平），说明有足够的证据拒绝原假设（服从正态分布），即服从正态分布的假设不成立\n",
    "        # 流失组和未流失组只要任何一组数据不满足正态分布，就倾向不依赖于正态性的U检验，以保证检验的有效性和准确性\n",
    "        if p_value_exited < 0.05 or p_value_not_exited < 0.05:\n",
    "            # U检验\n",
    "            u_stat, p_value_test = stats.mannwhitneyu(exited_feature, not_exited_feature)\n",
    "            t_stat = None\n",
    "        else:\n",
    "            # T检验\n",
    "            t_stat, p_value_test = stats.ttest_ind(exited_feature, not_exited_feature, equal_var=False)\n",
    "            u_stat = None\n",
    "\n",
    "        # 将检验结果添加到results列表中\n",
    "        results.append({\n",
    "            'Feature': feature,\n",
    "            'KS Statistic Exited': ks_statistic_exited,\n",
    "            'P-value Exited': p_value_exited,\n",
    "            'KS Statistic Not Exited': ks_statistic_not_exited,\n",
    "            'P-value Not Exited': p_value_not_exited,\n",
    "            'T Statistic': t_stat,\n",
    "            'U Statistic': u_stat,\n",
    "            'P-value Test': p_value_test\n",
    "        })\n",
    "\n",
    "    # 将results列表转换为DataFrame\n",
    "    results_df = pd.DataFrame(results)\n",
    "    \n",
    "    return results_df"
   ],
   "id": "caa14b327fbaa18c",
   "outputs": [],
   "execution_count": 55
  },
  {
   "metadata": {
    "ExecuteTime": {
     "end_time": "2024-07-07T08:21:37.754132Z",
     "start_time": "2024-07-07T08:21:37.654805Z"
    }
   },
   "cell_type": "code",
   "source": [
    "# 创建连续变量的列表，并调用analyze_features函数\n",
    "features = ['Age', 'Balance', 'EstimatedSalary', 'Tenure', 'CreditScore', 'NumOfProducts']\n",
    "stats_df = analyze_features(df, features)\n",
    "display(stats_df)"
   ],
   "id": "382f17d837d4377b",
   "outputs": [
    {
     "data": {
      "text/plain": [
       "           Feature  KS Statistic Exited  P-value Exited  \\\n",
       "0              Age             0.027487    9.039309e-02   \n",
       "1          Balance             0.186212    2.635220e-62   \n",
       "2  EstimatedSalary             0.062064    2.901500e-07   \n",
       "3           Tenure             0.108587    2.261658e-21   \n",
       "4      CreditScore             0.020679    3.437391e-01   \n",
       "5    NumOfProducts             0.415074   3.078493e-318   \n",
       "\n",
       "   KS Statistic Not Exited  P-value Not Exited T Statistic  U Statistic  \\\n",
       "0                 0.118949        1.253664e-98        None   11874649.5   \n",
       "1                 0.267897        0.000000e+00        None    9371186.5   \n",
       "2                 0.055141        1.744446e-21        None    8250768.0   \n",
       "3                 0.109136        4.686054e-83        None    7948575.5   \n",
       "4                 0.019156        5.718289e-03        None    7839548.0   \n",
       "5                 0.352939        0.000000e+00        None    6830625.5   \n",
       "\n",
       "    P-value Test  \n",
       "0  3.210401e-230  \n",
       "1   1.115840e-28  \n",
       "2   2.270515e-01  \n",
       "3   1.621938e-01  \n",
       "4   1.986866e-02  \n",
       "5   5.275105e-36  "
      ],
      "text/html": [
       "<div>\n",
       "<style scoped>\n",
       "    .dataframe tbody tr th:only-of-type {\n",
       "        vertical-align: middle;\n",
       "    }\n",
       "\n",
       "    .dataframe tbody tr th {\n",
       "        vertical-align: top;\n",
       "    }\n",
       "\n",
       "    .dataframe thead th {\n",
       "        text-align: right;\n",
       "    }\n",
       "</style>\n",
       "<table border=\"1\" class=\"dataframe\">\n",
       "  <thead>\n",
       "    <tr style=\"text-align: right;\">\n",
       "      <th></th>\n",
       "      <th>Feature</th>\n",
       "      <th>KS Statistic Exited</th>\n",
       "      <th>P-value Exited</th>\n",
       "      <th>KS Statistic Not Exited</th>\n",
       "      <th>P-value Not Exited</th>\n",
       "      <th>T Statistic</th>\n",
       "      <th>U Statistic</th>\n",
       "      <th>P-value Test</th>\n",
       "    </tr>\n",
       "  </thead>\n",
       "  <tbody>\n",
       "    <tr>\n",
       "      <th>0</th>\n",
       "      <td>Age</td>\n",
       "      <td>0.027487</td>\n",
       "      <td>9.039309e-02</td>\n",
       "      <td>0.118949</td>\n",
       "      <td>1.253664e-98</td>\n",
       "      <td>None</td>\n",
       "      <td>11874649.5</td>\n",
       "      <td>3.210401e-230</td>\n",
       "    </tr>\n",
       "    <tr>\n",
       "      <th>1</th>\n",
       "      <td>Balance</td>\n",
       "      <td>0.186212</td>\n",
       "      <td>2.635220e-62</td>\n",
       "      <td>0.267897</td>\n",
       "      <td>0.000000e+00</td>\n",
       "      <td>None</td>\n",
       "      <td>9371186.5</td>\n",
       "      <td>1.115840e-28</td>\n",
       "    </tr>\n",
       "    <tr>\n",
       "      <th>2</th>\n",
       "      <td>EstimatedSalary</td>\n",
       "      <td>0.062064</td>\n",
       "      <td>2.901500e-07</td>\n",
       "      <td>0.055141</td>\n",
       "      <td>1.744446e-21</td>\n",
       "      <td>None</td>\n",
       "      <td>8250768.0</td>\n",
       "      <td>2.270515e-01</td>\n",
       "    </tr>\n",
       "    <tr>\n",
       "      <th>3</th>\n",
       "      <td>Tenure</td>\n",
       "      <td>0.108587</td>\n",
       "      <td>2.261658e-21</td>\n",
       "      <td>0.109136</td>\n",
       "      <td>4.686054e-83</td>\n",
       "      <td>None</td>\n",
       "      <td>7948575.5</td>\n",
       "      <td>1.621938e-01</td>\n",
       "    </tr>\n",
       "    <tr>\n",
       "      <th>4</th>\n",
       "      <td>CreditScore</td>\n",
       "      <td>0.020679</td>\n",
       "      <td>3.437391e-01</td>\n",
       "      <td>0.019156</td>\n",
       "      <td>5.718289e-03</td>\n",
       "      <td>None</td>\n",
       "      <td>7839548.0</td>\n",
       "      <td>1.986866e-02</td>\n",
       "    </tr>\n",
       "    <tr>\n",
       "      <th>5</th>\n",
       "      <td>NumOfProducts</td>\n",
       "      <td>0.415074</td>\n",
       "      <td>3.078493e-318</td>\n",
       "      <td>0.352939</td>\n",
       "      <td>0.000000e+00</td>\n",
       "      <td>None</td>\n",
       "      <td>6830625.5</td>\n",
       "      <td>5.275105e-36</td>\n",
       "    </tr>\n",
       "  </tbody>\n",
       "</table>\n",
       "</div>"
      ]
     },
     "metadata": {},
     "output_type": "display_data"
    }
   ],
   "execution_count": 56
  },
  {
   "metadata": {},
   "cell_type": "markdown",
   "source": [
    "结果解读：\n",
    "\n",
    "Age：\n",
    "\n",
    "    流失组：KS Statistic Exited=0.0.27487，P-value Exited=0.09039。表示流失组的年龄符合正态分布。\n",
    "    \n",
    "    未流失组：KS Statistic Not Exited=0.118949，P-value Not Exited接近0。表示未流失组的年龄不符合正态分布。\n",
    "    \n",
    "    由于至少有一组不符合正态分布，不可用T检验，改用U检验。\n",
    "    \n",
    "    U检验：U Statistic=11874649.5，P-value Test接近0。表示两组在年龄上存在明显的显著差异，表明年龄是区分客户流失行为的一个重要因素。\n",
    "\n",
    "Balance:\n",
    "\n",
    "    流失组：KS Statistic Exited=0.186212，P-value Exited接近0。表示流失组的账户余额不符合正态分布。\n",
    "    \n",
    "    未流失组：KS Statistic Not Exited=0.267897，P-value Not Exited接近0。表示未流失组的账户余额不符合正态分布。\n",
    "    \n",
    "    U检验：U Statistic=9371186.5，P-value Test接近0。表示两组在账户余额上存在明显的显著差异，意味着账户余额与客户流失存在紧密关联。\n",
    "\n",
    "EstimatedSalary：\n",
    "\n",
    "    流失组：KS Statistic Exited=0.062064，P-value Exited接近0。表示流失组的预估薪水不符合正态分布。\n",
    "    \n",
    "    未流失组：KS Statistic Not Exited=0.055141，P-value Not Exited接近0。表示未流失组的预估薪水不符合正态分布。\n",
    "    \n",
    "    U检验：U Statistic=8250768.0，P-value Test=0.2270515。表示两组在预估薪水上不存在显著差异。\n",
    "    \n",
    "Tenure：\n",
    "\n",
    "    流失组：KS Statistic Exited=0.108587，P-value Exited接近0。表示流失组的合作年限不符合正态分布。\n",
    "    \n",
    "    未流失组：KS Statistic Not Exited=0.109136，P-value Not Exited接近0。表示未流失组的合作年限不符合正态分布。\n",
    "    \n",
    "    U检验：U Statistic=7948575.5，P-value Test=0.1621938。表示两组在合作年限上不存在显著差异。\n",
    "    \n",
    "CreditScore：\n",
    "\n",
    "    流失组：KS Statistic Exited=0.020679，P-value Exited=0.3437391。表示流失组的信用评分符合正态分布。\n",
    "    \n",
    "    未流失组：KS Statistic Not Exited=0.019156，P-value Not Exited=0.005718289。表示未流失组的信用评分不符合正态分布。\n",
    "    \n",
    "    U检验：U Statistic=7839548.0，P-value Test=0.01986866。表示两组在合作年限上存在显著差异，但其显著性较其他特征低。\n",
    "    \n",
    "NumOfProducts：\n",
    "\n",
    "    流失组：KS Statistic Exited=0.415074，P-value Exited接近0。表示流失组的产品持有数量不符合正态分布。\n",
    "    \n",
    "    未流失组：KS Statistic Not Exited=0.352939，P-value Not Exited=0.005718289。表示未流失组的产品持有数量不符合正态分布。\n",
    "    \n",
    "    U检验：U Statistic=6830625.5，P-value Test接近0。表示两组在产品持有数量上存在明显的显著差异，表明产品持有数量是预测流失客户的一个关键指标。\n",
    "   \n",
    "通过对各项特征的分析，我们可以明确年龄、账户余额、信用评分、产品数量在流失组和未流失组之间显示出显著差异，这些特征理解与预测流失客户行为至关重要。"
   ],
   "id": "37461fda0ef9d773"
  },
  {
   "metadata": {},
   "cell_type": "markdown",
   "source": "## 卡方检验",
   "id": "241220de12c4122d"
  },
  {
   "metadata": {
    "ExecuteTime": {
     "end_time": "2024-07-07T08:21:37.786085Z",
     "start_time": "2024-07-07T08:21:37.755140Z"
    }
   },
   "cell_type": "code",
   "source": [
    "def chi_square_features(data, features):\n",
    "    results = []\n",
    "\n",
    "    for feature in features:\n",
    "        # .crosstab()主要生成分类变量的列联表，会自动按目标变量分类。因此不需要像前面T/U检验需要手动分两个数据子集。\n",
    "        crosstab = pd.crosstab(data[feature], data['Exited'])\n",
    "\n",
    "        chi_square, p_value, dof, expected = stats.chi2_contingency(crosstab)\n",
    "        row = {'Feature': feature, 'Chi_Square': chi_square, 'P_Value': p_value}\n",
    "        results.append(row)\n",
    "        \n",
    "    results_df = pd.DataFrame(results)\n",
    "    return results_df\n",
    "\n",
    "features = ['Geography', 'Gender', 'HasCrCard', 'IsActiveMember']\n",
    "chi_square_df = chi_square_features(df, features)\n",
    "display(chi_square_df)"
   ],
   "id": "52a2fea242b9d797",
   "outputs": [
    {
     "data": {
      "text/plain": [
       "          Feature  Chi_Square       P_Value\n",
       "0       Geography  301.255337  3.830318e-66\n",
       "1          Gender  112.918571  2.248210e-26\n",
       "2       HasCrCard    0.471338  4.923724e-01\n",
       "3  IsActiveMember  242.985342  8.785858e-55"
      ],
      "text/html": [
       "<div>\n",
       "<style scoped>\n",
       "    .dataframe tbody tr th:only-of-type {\n",
       "        vertical-align: middle;\n",
       "    }\n",
       "\n",
       "    .dataframe tbody tr th {\n",
       "        vertical-align: top;\n",
       "    }\n",
       "\n",
       "    .dataframe thead th {\n",
       "        text-align: right;\n",
       "    }\n",
       "</style>\n",
       "<table border=\"1\" class=\"dataframe\">\n",
       "  <thead>\n",
       "    <tr style=\"text-align: right;\">\n",
       "      <th></th>\n",
       "      <th>Feature</th>\n",
       "      <th>Chi_Square</th>\n",
       "      <th>P_Value</th>\n",
       "    </tr>\n",
       "  </thead>\n",
       "  <tbody>\n",
       "    <tr>\n",
       "      <th>0</th>\n",
       "      <td>Geography</td>\n",
       "      <td>301.255337</td>\n",
       "      <td>3.830318e-66</td>\n",
       "    </tr>\n",
       "    <tr>\n",
       "      <th>1</th>\n",
       "      <td>Gender</td>\n",
       "      <td>112.918571</td>\n",
       "      <td>2.248210e-26</td>\n",
       "    </tr>\n",
       "    <tr>\n",
       "      <th>2</th>\n",
       "      <td>HasCrCard</td>\n",
       "      <td>0.471338</td>\n",
       "      <td>4.923724e-01</td>\n",
       "    </tr>\n",
       "    <tr>\n",
       "      <th>3</th>\n",
       "      <td>IsActiveMember</td>\n",
       "      <td>242.985342</td>\n",
       "      <td>8.785858e-55</td>\n",
       "    </tr>\n",
       "  </tbody>\n",
       "</table>\n",
       "</div>"
      ]
     },
     "metadata": {},
     "output_type": "display_data"
    }
   ],
   "execution_count": 57
  },
  {
   "metadata": {},
   "cell_type": "markdown",
   "source": "由此可以发现，GeoGraphy、Gender、IsActiveMember在流失组和非流失组上有显著差异，表面这些分散特征变量是预防客户流失的几个关键特征，而HasCrCard没有显著差异。",
   "id": "89fe0ddd4350252a"
  },
  {
   "metadata": {},
   "cell_type": "markdown",
   "source": "# 客户细分",
   "id": "8ad5b5a85b421777"
  },
  {
   "metadata": {},
   "cell_type": "markdown",
   "source": "## 聚类算法 K-means",
   "id": "b2eebb506fa7abc7"
  },
  {
   "metadata": {
    "ExecuteTime": {
     "end_time": "2024-07-07T08:21:38.309787Z",
     "start_time": "2024-07-07T08:21:37.787101Z"
    }
   },
   "cell_type": "code",
   "source": [
    "# 深度复制原数据集\n",
    "df_kmeans = df.copy(deep=True)\n",
    "# 选择一些合适的连续变量特征\n",
    "features = df_kmeans[['CreditScore','Age','Tenure','Balance','NumOfProducts','HasCrCard','IsActiveMember']]\n",
    "# 进行数据标准化处理，减少数据之间误差\n",
    "scaler = StandardScaler()\n",
    "scaler_features = scaler.fit_transform(features)\n",
    "# 创建聚类算法对象,并训练\n",
    "kmeans = KMeans(n_clusters=3,random_state=42)\n",
    "clusters = kmeans.fit_predict(scaler_features)\n",
    "# 将聚类结果添加到df数据框里\n",
    "df_kmeans['Clusters'] = clusters\n",
    "display(df_kmeans[['CustomerId','Clusters']].head())"
   ],
   "id": "95839d8cfc96e377",
   "outputs": [
    {
     "data": {
      "text/plain": [
       "  CustomerId  Clusters\n",
       "0   15634602         1\n",
       "1   15647311         0\n",
       "2   15619304         2\n",
       "3   15701354         0\n",
       "4   15737888         2"
      ],
      "text/html": [
       "<div>\n",
       "<style scoped>\n",
       "    .dataframe tbody tr th:only-of-type {\n",
       "        vertical-align: middle;\n",
       "    }\n",
       "\n",
       "    .dataframe tbody tr th {\n",
       "        vertical-align: top;\n",
       "    }\n",
       "\n",
       "    .dataframe thead th {\n",
       "        text-align: right;\n",
       "    }\n",
       "</style>\n",
       "<table border=\"1\" class=\"dataframe\">\n",
       "  <thead>\n",
       "    <tr style=\"text-align: right;\">\n",
       "      <th></th>\n",
       "      <th>CustomerId</th>\n",
       "      <th>Clusters</th>\n",
       "    </tr>\n",
       "  </thead>\n",
       "  <tbody>\n",
       "    <tr>\n",
       "      <th>0</th>\n",
       "      <td>15634602</td>\n",
       "      <td>1</td>\n",
       "    </tr>\n",
       "    <tr>\n",
       "      <th>1</th>\n",
       "      <td>15647311</td>\n",
       "      <td>0</td>\n",
       "    </tr>\n",
       "    <tr>\n",
       "      <th>2</th>\n",
       "      <td>15619304</td>\n",
       "      <td>2</td>\n",
       "    </tr>\n",
       "    <tr>\n",
       "      <th>3</th>\n",
       "      <td>15701354</td>\n",
       "      <td>0</td>\n",
       "    </tr>\n",
       "    <tr>\n",
       "      <th>4</th>\n",
       "      <td>15737888</td>\n",
       "      <td>2</td>\n",
       "    </tr>\n",
       "  </tbody>\n",
       "</table>\n",
       "</div>"
      ]
     },
     "metadata": {},
     "output_type": "display_data"
    }
   ],
   "execution_count": 58
  },
  {
   "metadata": {},
   "cell_type": "markdown",
   "source": "接下来对三个客户群体进行分析各其特征和流失率",
   "id": "7f699aa4b2219389"
  },
  {
   "metadata": {
    "ExecuteTime": {
     "end_time": "2024-07-07T08:21:38.330347Z",
     "start_time": "2024-07-07T08:21:38.311794Z"
    }
   },
   "cell_type": "code",
   "source": [
    "clusters_analysis = df_kmeans.groupby(by='Clusters').agg(\n",
    "    {'CreditScore':'mean','Age':'mean','Tenure':'mean','Balance':'mean','EstimatedSalary':'mean','Exited':'mean'}\n",
    ").reset_index().round(2)\n",
    "display(clusters_analysis)"
   ],
   "id": "39456bf113433991",
   "outputs": [
    {
     "data": {
      "text/plain": [
       "   Clusters  CreditScore    Age  Tenure    Balance  EstimatedSalary  Exited\n",
       "0         0       651.39  39.11    4.91   78053.31        100964.81    0.21\n",
       "1         1       650.26  38.69    5.10   11248.74         98843.94    0.17\n",
       "2         2       650.11  38.95    5.02  122813.72        100367.71    0.22"
      ],
      "text/html": [
       "<div>\n",
       "<style scoped>\n",
       "    .dataframe tbody tr th:only-of-type {\n",
       "        vertical-align: middle;\n",
       "    }\n",
       "\n",
       "    .dataframe tbody tr th {\n",
       "        vertical-align: top;\n",
       "    }\n",
       "\n",
       "    .dataframe thead th {\n",
       "        text-align: right;\n",
       "    }\n",
       "</style>\n",
       "<table border=\"1\" class=\"dataframe\">\n",
       "  <thead>\n",
       "    <tr style=\"text-align: right;\">\n",
       "      <th></th>\n",
       "      <th>Clusters</th>\n",
       "      <th>CreditScore</th>\n",
       "      <th>Age</th>\n",
       "      <th>Tenure</th>\n",
       "      <th>Balance</th>\n",
       "      <th>EstimatedSalary</th>\n",
       "      <th>Exited</th>\n",
       "    </tr>\n",
       "  </thead>\n",
       "  <tbody>\n",
       "    <tr>\n",
       "      <th>0</th>\n",
       "      <td>0</td>\n",
       "      <td>651.39</td>\n",
       "      <td>39.11</td>\n",
       "      <td>4.91</td>\n",
       "      <td>78053.31</td>\n",
       "      <td>100964.81</td>\n",
       "      <td>0.21</td>\n",
       "    </tr>\n",
       "    <tr>\n",
       "      <th>1</th>\n",
       "      <td>1</td>\n",
       "      <td>650.26</td>\n",
       "      <td>38.69</td>\n",
       "      <td>5.10</td>\n",
       "      <td>11248.74</td>\n",
       "      <td>98843.94</td>\n",
       "      <td>0.17</td>\n",
       "    </tr>\n",
       "    <tr>\n",
       "      <th>2</th>\n",
       "      <td>2</td>\n",
       "      <td>650.11</td>\n",
       "      <td>38.95</td>\n",
       "      <td>5.02</td>\n",
       "      <td>122813.72</td>\n",
       "      <td>100367.71</td>\n",
       "      <td>0.22</td>\n",
       "    </tr>\n",
       "  </tbody>\n",
       "</table>\n",
       "</div>"
      ]
     },
     "metadata": {},
     "output_type": "display_data"
    }
   ],
   "execution_count": 59
  },
  {
   "metadata": {},
   "cell_type": "markdown",
   "source": [
    "小结：\n",
    "\n",
    "客户群体0：账户平均余额较高，但平均估计工资比较低，平均流失率为16%。\n",
    "\n",
    "客户群体1：账户平均余额和平均估计工资最低，平均流失率为16%。\n",
    "\n",
    "客户群体2：账户平均余额和平均估计工资最高，平均流失率为30%，是这三个群体中流失率最高的。可能是因为高收入客户群体在服务品质、技术创新、个性化需求等方面上有着更高的期待，但该银行目前满足不了，因此导致客户流失。"
   ],
   "id": "cdbf4688b6cccf64"
  },
  {
   "metadata": {},
   "cell_type": "markdown",
   "source": "# 特征重要性分析",
   "id": "ebc1881aa906fe0f"
  },
  {
   "metadata": {},
   "cell_type": "markdown",
   "source": "随机森林算法虽然可以用于分类变量和连续变量，但是由于模型训练要求所有输入都是数值形式，这不意味着模型本身不能处理分类数据，而是在训练前必须对字符型分量数据进行编码转换。",
   "id": "463739a80040d4e8"
  },
  {
   "metadata": {},
   "cell_type": "markdown",
   "source": "由于Gender是二分类特征数据，可以直接用于模型训练，因此不需要特别转换。因为可能在预处理阶段会被编码为数字，这种简单的数值映射通常不会引起问题。模型会基于类别值的离散性进行处理，而不是视为数值大小。",
   "id": "b4c13bd814150341"
  },
  {
   "metadata": {},
   "cell_type": "markdown",
   "source": "但Geography是无序分类数据（超过二分类），需要使用独热编码One-Hot Encoding处理。不能使用数值映射，因为分配的数值对模型来说具有意义，如果随机分配数值，可能会影响模型计算。",
   "id": "e0f80064fd3ab984"
  },
  {
   "metadata": {
    "ExecuteTime": {
     "end_time": "2024-07-07T08:21:38.510530Z",
     "start_time": "2024-07-07T08:21:38.331355Z"
    }
   },
   "cell_type": "code",
   "source": [
    "# 将Geography转换为独热编码\n",
    "# 原来的Geography列会消失，取而代之的是若干新增的列，每一列对应着列中的一个唯一类别\n",
    "df_encoded = pd.get_dummies(df,columns=['Geography'])\n",
    "# 将Gender转换为标签编码(直接将类别映射到数字)\n",
    "df_encoded['Gender'] = df_encoded['Gender'].map({'Female':1,'Male':0})\n",
    "del df_encoded['Exited']\n",
    "\n",
    "\n",
    "# 准备数据集，特征数据和目标数据\n",
    "x,y = df_encoded.iloc[:,2:],df['Exited']\n",
    "\n",
    "# 将数据集划分训练数据集和测试数据集\n",
    "x_train,x_test,y_train,y_test = train_test_split(x,y,test_size=0.2,random_state=42)\n",
    "\n",
    "# 选择模型并训练\n",
    "model = RandomForestClassifier()\n",
    "model.fit(x_train,y_train)\n",
    "\n",
    "# 使用训练好的模型预测\n",
    "pre = model.predict(x_test)\n",
    "\n",
    "# 计算并输出该模型的预测准确率\n",
    "print(f'Model prediction accuracy:{accuracy_score(y_test,pre)*100:.2f}%')\n",
    "\n",
    "# 使用训练好的模型输出特征的重要性\n",
    "feature_importance = (model.feature_importances_*100).round(2)\n",
    "feature_df = pd.DataFrame(data=feature_importance,index=df_encoded.columns[2:],columns=['Importance']).sort_values(by='Importance',ascending=False)\n",
    "feature_df.reset_index(inplace=True)\n",
    "feature_df = feature_df.rename(columns={'index':'Feature'})\n",
    "display(feature_df)"
   ],
   "id": "f4c23efc8cfd9dd5",
   "outputs": [
    {
     "ename": "ValueError",
     "evalue": "could not convert string to float: 'P***'",
     "output_type": "error",
     "traceback": [
      "\u001B[1;31m---------------------------------------------------------------------------\u001B[0m",
      "\u001B[1;31mValueError\u001B[0m                                Traceback (most recent call last)",
      "Cell \u001B[1;32mIn[60], line 17\u001B[0m\n\u001B[0;32m     15\u001B[0m \u001B[38;5;66;03m# 选择模型并训练\u001B[39;00m\n\u001B[0;32m     16\u001B[0m model \u001B[38;5;241m=\u001B[39m RandomForestClassifier()\n\u001B[1;32m---> 17\u001B[0m model\u001B[38;5;241m.\u001B[39mfit(x_train,y_train)\n\u001B[0;32m     19\u001B[0m \u001B[38;5;66;03m# 使用训练好的模型预测\u001B[39;00m\n\u001B[0;32m     20\u001B[0m pre \u001B[38;5;241m=\u001B[39m model\u001B[38;5;241m.\u001B[39mpredict(x_test)\n",
      "File \u001B[1;32mD:\\data\\conda\\envs\\ML\\Lib\\site-packages\\sklearn\\ensemble\\_forest.py:345\u001B[0m, in \u001B[0;36mBaseForest.fit\u001B[1;34m(self, X, y, sample_weight)\u001B[0m\n\u001B[0;32m    343\u001B[0m \u001B[38;5;28;01mif\u001B[39;00m issparse(y):\n\u001B[0;32m    344\u001B[0m     \u001B[38;5;28;01mraise\u001B[39;00m \u001B[38;5;167;01mValueError\u001B[39;00m(\u001B[38;5;124m\"\u001B[39m\u001B[38;5;124msparse multilabel-indicator for y is not supported.\u001B[39m\u001B[38;5;124m\"\u001B[39m)\n\u001B[1;32m--> 345\u001B[0m X, y \u001B[38;5;241m=\u001B[39m \u001B[38;5;28mself\u001B[39m\u001B[38;5;241m.\u001B[39m_validate_data(\n\u001B[0;32m    346\u001B[0m     X, y, multi_output\u001B[38;5;241m=\u001B[39m\u001B[38;5;28;01mTrue\u001B[39;00m, accept_sparse\u001B[38;5;241m=\u001B[39m\u001B[38;5;124m\"\u001B[39m\u001B[38;5;124mcsc\u001B[39m\u001B[38;5;124m\"\u001B[39m, dtype\u001B[38;5;241m=\u001B[39mDTYPE\n\u001B[0;32m    347\u001B[0m )\n\u001B[0;32m    348\u001B[0m \u001B[38;5;28;01mif\u001B[39;00m sample_weight \u001B[38;5;129;01mis\u001B[39;00m \u001B[38;5;129;01mnot\u001B[39;00m \u001B[38;5;28;01mNone\u001B[39;00m:\n\u001B[0;32m    349\u001B[0m     sample_weight \u001B[38;5;241m=\u001B[39m _check_sample_weight(sample_weight, X)\n",
      "File \u001B[1;32mD:\\data\\conda\\envs\\ML\\Lib\\site-packages\\sklearn\\base.py:584\u001B[0m, in \u001B[0;36mBaseEstimator._validate_data\u001B[1;34m(self, X, y, reset, validate_separately, **check_params)\u001B[0m\n\u001B[0;32m    582\u001B[0m         y \u001B[38;5;241m=\u001B[39m check_array(y, input_name\u001B[38;5;241m=\u001B[39m\u001B[38;5;124m\"\u001B[39m\u001B[38;5;124my\u001B[39m\u001B[38;5;124m\"\u001B[39m, \u001B[38;5;241m*\u001B[39m\u001B[38;5;241m*\u001B[39mcheck_y_params)\n\u001B[0;32m    583\u001B[0m     \u001B[38;5;28;01melse\u001B[39;00m:\n\u001B[1;32m--> 584\u001B[0m         X, y \u001B[38;5;241m=\u001B[39m check_X_y(X, y, \u001B[38;5;241m*\u001B[39m\u001B[38;5;241m*\u001B[39mcheck_params)\n\u001B[0;32m    585\u001B[0m     out \u001B[38;5;241m=\u001B[39m X, y\n\u001B[0;32m    587\u001B[0m \u001B[38;5;28;01mif\u001B[39;00m \u001B[38;5;129;01mnot\u001B[39;00m no_val_X \u001B[38;5;129;01mand\u001B[39;00m check_params\u001B[38;5;241m.\u001B[39mget(\u001B[38;5;124m\"\u001B[39m\u001B[38;5;124mensure_2d\u001B[39m\u001B[38;5;124m\"\u001B[39m, \u001B[38;5;28;01mTrue\u001B[39;00m):\n",
      "File \u001B[1;32mD:\\data\\conda\\envs\\ML\\Lib\\site-packages\\sklearn\\utils\\validation.py:1106\u001B[0m, in \u001B[0;36mcheck_X_y\u001B[1;34m(X, y, accept_sparse, accept_large_sparse, dtype, order, copy, force_all_finite, ensure_2d, allow_nd, multi_output, ensure_min_samples, ensure_min_features, y_numeric, estimator)\u001B[0m\n\u001B[0;32m   1101\u001B[0m         estimator_name \u001B[38;5;241m=\u001B[39m _check_estimator_name(estimator)\n\u001B[0;32m   1102\u001B[0m     \u001B[38;5;28;01mraise\u001B[39;00m \u001B[38;5;167;01mValueError\u001B[39;00m(\n\u001B[0;32m   1103\u001B[0m         \u001B[38;5;124mf\u001B[39m\u001B[38;5;124m\"\u001B[39m\u001B[38;5;132;01m{\u001B[39;00mestimator_name\u001B[38;5;132;01m}\u001B[39;00m\u001B[38;5;124m requires y to be passed, but the target y is None\u001B[39m\u001B[38;5;124m\"\u001B[39m\n\u001B[0;32m   1104\u001B[0m     )\n\u001B[1;32m-> 1106\u001B[0m X \u001B[38;5;241m=\u001B[39m check_array(\n\u001B[0;32m   1107\u001B[0m     X,\n\u001B[0;32m   1108\u001B[0m     accept_sparse\u001B[38;5;241m=\u001B[39maccept_sparse,\n\u001B[0;32m   1109\u001B[0m     accept_large_sparse\u001B[38;5;241m=\u001B[39maccept_large_sparse,\n\u001B[0;32m   1110\u001B[0m     dtype\u001B[38;5;241m=\u001B[39mdtype,\n\u001B[0;32m   1111\u001B[0m     order\u001B[38;5;241m=\u001B[39morder,\n\u001B[0;32m   1112\u001B[0m     copy\u001B[38;5;241m=\u001B[39mcopy,\n\u001B[0;32m   1113\u001B[0m     force_all_finite\u001B[38;5;241m=\u001B[39mforce_all_finite,\n\u001B[0;32m   1114\u001B[0m     ensure_2d\u001B[38;5;241m=\u001B[39mensure_2d,\n\u001B[0;32m   1115\u001B[0m     allow_nd\u001B[38;5;241m=\u001B[39mallow_nd,\n\u001B[0;32m   1116\u001B[0m     ensure_min_samples\u001B[38;5;241m=\u001B[39mensure_min_samples,\n\u001B[0;32m   1117\u001B[0m     ensure_min_features\u001B[38;5;241m=\u001B[39mensure_min_features,\n\u001B[0;32m   1118\u001B[0m     estimator\u001B[38;5;241m=\u001B[39mestimator,\n\u001B[0;32m   1119\u001B[0m     input_name\u001B[38;5;241m=\u001B[39m\u001B[38;5;124m\"\u001B[39m\u001B[38;5;124mX\u001B[39m\u001B[38;5;124m\"\u001B[39m,\n\u001B[0;32m   1120\u001B[0m )\n\u001B[0;32m   1122\u001B[0m y \u001B[38;5;241m=\u001B[39m _check_y(y, multi_output\u001B[38;5;241m=\u001B[39mmulti_output, y_numeric\u001B[38;5;241m=\u001B[39my_numeric, estimator\u001B[38;5;241m=\u001B[39mestimator)\n\u001B[0;32m   1124\u001B[0m check_consistent_length(X, y)\n",
      "File \u001B[1;32mD:\\data\\conda\\envs\\ML\\Lib\\site-packages\\sklearn\\utils\\validation.py:810\u001B[0m, in \u001B[0;36mcheck_array\u001B[1;34m(array, accept_sparse, accept_large_sparse, dtype, order, copy, force_all_finite, ensure_2d, allow_nd, ensure_min_samples, ensure_min_features, estimator, input_name)\u001B[0m\n\u001B[0;32m    805\u001B[0m \u001B[38;5;28;01mif\u001B[39;00m pandas_requires_conversion:\n\u001B[0;32m    806\u001B[0m     \u001B[38;5;66;03m# pandas dataframe requires conversion earlier to handle extension dtypes with\u001B[39;00m\n\u001B[0;32m    807\u001B[0m     \u001B[38;5;66;03m# nans\u001B[39;00m\n\u001B[0;32m    808\u001B[0m     \u001B[38;5;66;03m# Use the original dtype for conversion if dtype is None\u001B[39;00m\n\u001B[0;32m    809\u001B[0m     new_dtype \u001B[38;5;241m=\u001B[39m dtype_orig \u001B[38;5;28;01mif\u001B[39;00m dtype \u001B[38;5;129;01mis\u001B[39;00m \u001B[38;5;28;01mNone\u001B[39;00m \u001B[38;5;28;01melse\u001B[39;00m dtype\n\u001B[1;32m--> 810\u001B[0m     array \u001B[38;5;241m=\u001B[39m array\u001B[38;5;241m.\u001B[39mastype(new_dtype)\n\u001B[0;32m    811\u001B[0m     \u001B[38;5;66;03m# Since we converted here, we do not need to convert again later\u001B[39;00m\n\u001B[0;32m    812\u001B[0m     dtype \u001B[38;5;241m=\u001B[39m \u001B[38;5;28;01mNone\u001B[39;00m\n",
      "File \u001B[1;32mD:\\data\\conda\\envs\\ML\\Lib\\site-packages\\pandas\\core\\generic.py:6534\u001B[0m, in \u001B[0;36mNDFrame.astype\u001B[1;34m(self, dtype, copy, errors)\u001B[0m\n\u001B[0;32m   6530\u001B[0m     results \u001B[38;5;241m=\u001B[39m [ser\u001B[38;5;241m.\u001B[39mastype(dtype, copy\u001B[38;5;241m=\u001B[39mcopy) \u001B[38;5;28;01mfor\u001B[39;00m _, ser \u001B[38;5;129;01min\u001B[39;00m \u001B[38;5;28mself\u001B[39m\u001B[38;5;241m.\u001B[39mitems()]\n\u001B[0;32m   6532\u001B[0m \u001B[38;5;28;01melse\u001B[39;00m:\n\u001B[0;32m   6533\u001B[0m     \u001B[38;5;66;03m# else, only a single dtype is given\u001B[39;00m\n\u001B[1;32m-> 6534\u001B[0m     new_data \u001B[38;5;241m=\u001B[39m \u001B[38;5;28mself\u001B[39m\u001B[38;5;241m.\u001B[39m_mgr\u001B[38;5;241m.\u001B[39mastype(dtype\u001B[38;5;241m=\u001B[39mdtype, copy\u001B[38;5;241m=\u001B[39mcopy, errors\u001B[38;5;241m=\u001B[39merrors)\n\u001B[0;32m   6535\u001B[0m     res \u001B[38;5;241m=\u001B[39m \u001B[38;5;28mself\u001B[39m\u001B[38;5;241m.\u001B[39m_constructor_from_mgr(new_data, axes\u001B[38;5;241m=\u001B[39mnew_data\u001B[38;5;241m.\u001B[39maxes)\n\u001B[0;32m   6536\u001B[0m     \u001B[38;5;28;01mreturn\u001B[39;00m res\u001B[38;5;241m.\u001B[39m__finalize__(\u001B[38;5;28mself\u001B[39m, method\u001B[38;5;241m=\u001B[39m\u001B[38;5;124m\"\u001B[39m\u001B[38;5;124mastype\u001B[39m\u001B[38;5;124m\"\u001B[39m)\n",
      "File \u001B[1;32mD:\\data\\conda\\envs\\ML\\Lib\\site-packages\\pandas\\core\\internals\\managers.py:414\u001B[0m, in \u001B[0;36mBaseBlockManager.astype\u001B[1;34m(self, dtype, copy, errors)\u001B[0m\n\u001B[0;32m    411\u001B[0m \u001B[38;5;28;01melif\u001B[39;00m using_copy_on_write():\n\u001B[0;32m    412\u001B[0m     copy \u001B[38;5;241m=\u001B[39m \u001B[38;5;28;01mFalse\u001B[39;00m\n\u001B[1;32m--> 414\u001B[0m \u001B[38;5;28;01mreturn\u001B[39;00m \u001B[38;5;28mself\u001B[39m\u001B[38;5;241m.\u001B[39mapply(\n\u001B[0;32m    415\u001B[0m     \u001B[38;5;124m\"\u001B[39m\u001B[38;5;124mastype\u001B[39m\u001B[38;5;124m\"\u001B[39m,\n\u001B[0;32m    416\u001B[0m     dtype\u001B[38;5;241m=\u001B[39mdtype,\n\u001B[0;32m    417\u001B[0m     copy\u001B[38;5;241m=\u001B[39mcopy,\n\u001B[0;32m    418\u001B[0m     errors\u001B[38;5;241m=\u001B[39merrors,\n\u001B[0;32m    419\u001B[0m     using_cow\u001B[38;5;241m=\u001B[39musing_copy_on_write(),\n\u001B[0;32m    420\u001B[0m )\n",
      "File \u001B[1;32mD:\\data\\conda\\envs\\ML\\Lib\\site-packages\\pandas\\core\\internals\\managers.py:354\u001B[0m, in \u001B[0;36mBaseBlockManager.apply\u001B[1;34m(self, f, align_keys, **kwargs)\u001B[0m\n\u001B[0;32m    352\u001B[0m         applied \u001B[38;5;241m=\u001B[39m b\u001B[38;5;241m.\u001B[39mapply(f, \u001B[38;5;241m*\u001B[39m\u001B[38;5;241m*\u001B[39mkwargs)\n\u001B[0;32m    353\u001B[0m     \u001B[38;5;28;01melse\u001B[39;00m:\n\u001B[1;32m--> 354\u001B[0m         applied \u001B[38;5;241m=\u001B[39m \u001B[38;5;28mgetattr\u001B[39m(b, f)(\u001B[38;5;241m*\u001B[39m\u001B[38;5;241m*\u001B[39mkwargs)\n\u001B[0;32m    355\u001B[0m     result_blocks \u001B[38;5;241m=\u001B[39m extend_blocks(applied, result_blocks)\n\u001B[0;32m    357\u001B[0m out \u001B[38;5;241m=\u001B[39m \u001B[38;5;28mtype\u001B[39m(\u001B[38;5;28mself\u001B[39m)\u001B[38;5;241m.\u001B[39mfrom_blocks(result_blocks, \u001B[38;5;28mself\u001B[39m\u001B[38;5;241m.\u001B[39maxes)\n",
      "File \u001B[1;32mD:\\data\\conda\\envs\\ML\\Lib\\site-packages\\pandas\\core\\internals\\blocks.py:616\u001B[0m, in \u001B[0;36mBlock.astype\u001B[1;34m(self, dtype, copy, errors, using_cow)\u001B[0m\n\u001B[0;32m    596\u001B[0m \u001B[38;5;250m\u001B[39m\u001B[38;5;124;03m\"\"\"\u001B[39;00m\n\u001B[0;32m    597\u001B[0m \u001B[38;5;124;03mCoerce to the new dtype.\u001B[39;00m\n\u001B[0;32m    598\u001B[0m \n\u001B[1;32m   (...)\u001B[0m\n\u001B[0;32m    612\u001B[0m \u001B[38;5;124;03mBlock\u001B[39;00m\n\u001B[0;32m    613\u001B[0m \u001B[38;5;124;03m\"\"\"\u001B[39;00m\n\u001B[0;32m    614\u001B[0m values \u001B[38;5;241m=\u001B[39m \u001B[38;5;28mself\u001B[39m\u001B[38;5;241m.\u001B[39mvalues\n\u001B[1;32m--> 616\u001B[0m new_values \u001B[38;5;241m=\u001B[39m astype_array_safe(values, dtype, copy\u001B[38;5;241m=\u001B[39mcopy, errors\u001B[38;5;241m=\u001B[39merrors)\n\u001B[0;32m    618\u001B[0m new_values \u001B[38;5;241m=\u001B[39m maybe_coerce_values(new_values)\n\u001B[0;32m    620\u001B[0m refs \u001B[38;5;241m=\u001B[39m \u001B[38;5;28;01mNone\u001B[39;00m\n",
      "File \u001B[1;32mD:\\data\\conda\\envs\\ML\\Lib\\site-packages\\pandas\\core\\dtypes\\astype.py:238\u001B[0m, in \u001B[0;36mastype_array_safe\u001B[1;34m(values, dtype, copy, errors)\u001B[0m\n\u001B[0;32m    235\u001B[0m     dtype \u001B[38;5;241m=\u001B[39m dtype\u001B[38;5;241m.\u001B[39mnumpy_dtype\n\u001B[0;32m    237\u001B[0m \u001B[38;5;28;01mtry\u001B[39;00m:\n\u001B[1;32m--> 238\u001B[0m     new_values \u001B[38;5;241m=\u001B[39m astype_array(values, dtype, copy\u001B[38;5;241m=\u001B[39mcopy)\n\u001B[0;32m    239\u001B[0m \u001B[38;5;28;01mexcept\u001B[39;00m (\u001B[38;5;167;01mValueError\u001B[39;00m, \u001B[38;5;167;01mTypeError\u001B[39;00m):\n\u001B[0;32m    240\u001B[0m     \u001B[38;5;66;03m# e.g. _astype_nansafe can fail on object-dtype of strings\u001B[39;00m\n\u001B[0;32m    241\u001B[0m     \u001B[38;5;66;03m#  trying to convert to float\u001B[39;00m\n\u001B[0;32m    242\u001B[0m     \u001B[38;5;28;01mif\u001B[39;00m errors \u001B[38;5;241m==\u001B[39m \u001B[38;5;124m\"\u001B[39m\u001B[38;5;124mignore\u001B[39m\u001B[38;5;124m\"\u001B[39m:\n",
      "File \u001B[1;32mD:\\data\\conda\\envs\\ML\\Lib\\site-packages\\pandas\\core\\dtypes\\astype.py:183\u001B[0m, in \u001B[0;36mastype_array\u001B[1;34m(values, dtype, copy)\u001B[0m\n\u001B[0;32m    180\u001B[0m     values \u001B[38;5;241m=\u001B[39m values\u001B[38;5;241m.\u001B[39mastype(dtype, copy\u001B[38;5;241m=\u001B[39mcopy)\n\u001B[0;32m    182\u001B[0m \u001B[38;5;28;01melse\u001B[39;00m:\n\u001B[1;32m--> 183\u001B[0m     values \u001B[38;5;241m=\u001B[39m _astype_nansafe(values, dtype, copy\u001B[38;5;241m=\u001B[39mcopy)\n\u001B[0;32m    185\u001B[0m \u001B[38;5;66;03m# in pandas we don't store numpy str dtypes, so convert to object\u001B[39;00m\n\u001B[0;32m    186\u001B[0m \u001B[38;5;28;01mif\u001B[39;00m \u001B[38;5;28misinstance\u001B[39m(dtype, np\u001B[38;5;241m.\u001B[39mdtype) \u001B[38;5;129;01mand\u001B[39;00m \u001B[38;5;28missubclass\u001B[39m(values\u001B[38;5;241m.\u001B[39mdtype\u001B[38;5;241m.\u001B[39mtype, \u001B[38;5;28mstr\u001B[39m):\n",
      "File \u001B[1;32mD:\\data\\conda\\envs\\ML\\Lib\\site-packages\\pandas\\core\\dtypes\\astype.py:134\u001B[0m, in \u001B[0;36m_astype_nansafe\u001B[1;34m(arr, dtype, copy, skipna)\u001B[0m\n\u001B[0;32m    130\u001B[0m     \u001B[38;5;28;01mraise\u001B[39;00m \u001B[38;5;167;01mValueError\u001B[39;00m(msg)\n\u001B[0;32m    132\u001B[0m \u001B[38;5;28;01mif\u001B[39;00m copy \u001B[38;5;129;01mor\u001B[39;00m arr\u001B[38;5;241m.\u001B[39mdtype \u001B[38;5;241m==\u001B[39m \u001B[38;5;28mobject\u001B[39m \u001B[38;5;129;01mor\u001B[39;00m dtype \u001B[38;5;241m==\u001B[39m \u001B[38;5;28mobject\u001B[39m:\n\u001B[0;32m    133\u001B[0m     \u001B[38;5;66;03m# Explicit copy, or required since NumPy can't view from / to object.\u001B[39;00m\n\u001B[1;32m--> 134\u001B[0m     \u001B[38;5;28;01mreturn\u001B[39;00m arr\u001B[38;5;241m.\u001B[39mastype(dtype, copy\u001B[38;5;241m=\u001B[39m\u001B[38;5;28;01mTrue\u001B[39;00m)\n\u001B[0;32m    136\u001B[0m \u001B[38;5;28;01mreturn\u001B[39;00m arr\u001B[38;5;241m.\u001B[39mastype(dtype, copy\u001B[38;5;241m=\u001B[39mcopy)\n",
      "\u001B[1;31mValueError\u001B[0m: could not convert string to float: 'P***'"
     ]
    }
   ],
   "execution_count": 60
  },
  {
   "metadata": {
    "ExecuteTime": {
     "end_time": "2024-07-07T08:25:36.091932Z",
     "start_time": "2024-07-07T08:25:36.068481Z"
    }
   },
   "cell_type": "code",
   "source": [
    "df1 = pd.merge(feature_df,corr_df,how='outer',on='Feature')\n",
    "df2 = pd.merge(df1,stats_df.iloc[:,[0,-2,-1]],how='outer',on='Feature')\n",
    "analyze_df = pd.merge(df2,chi_square_df,how='outer',on='Feature')\n",
    "display(analyze_df)"
   ],
   "id": "a378c48ca296c5b9",
   "outputs": [
    {
     "ename": "NameError",
     "evalue": "name 'feature_df' is not defined",
     "output_type": "error",
     "traceback": [
      "\u001B[1;31m---------------------------------------------------------------------------\u001B[0m",
      "\u001B[1;31mNameError\u001B[0m                                 Traceback (most recent call last)",
      "Cell \u001B[1;32mIn[61], line 1\u001B[0m\n\u001B[1;32m----> 1\u001B[0m df1 \u001B[38;5;241m=\u001B[39m pd\u001B[38;5;241m.\u001B[39mmerge(feature_df,corr_df,how\u001B[38;5;241m=\u001B[39m\u001B[38;5;124m'\u001B[39m\u001B[38;5;124mouter\u001B[39m\u001B[38;5;124m'\u001B[39m,on\u001B[38;5;241m=\u001B[39m\u001B[38;5;124m'\u001B[39m\u001B[38;5;124mFeature\u001B[39m\u001B[38;5;124m'\u001B[39m)\n\u001B[0;32m      2\u001B[0m df2 \u001B[38;5;241m=\u001B[39m pd\u001B[38;5;241m.\u001B[39mmerge(df1,stats_df\u001B[38;5;241m.\u001B[39miloc[:,[\u001B[38;5;241m0\u001B[39m,\u001B[38;5;241m-\u001B[39m\u001B[38;5;241m2\u001B[39m,\u001B[38;5;241m-\u001B[39m\u001B[38;5;241m1\u001B[39m]],how\u001B[38;5;241m=\u001B[39m\u001B[38;5;124m'\u001B[39m\u001B[38;5;124mouter\u001B[39m\u001B[38;5;124m'\u001B[39m,on\u001B[38;5;241m=\u001B[39m\u001B[38;5;124m'\u001B[39m\u001B[38;5;124mFeature\u001B[39m\u001B[38;5;124m'\u001B[39m)\n\u001B[0;32m      3\u001B[0m analyze_df \u001B[38;5;241m=\u001B[39m pd\u001B[38;5;241m.\u001B[39mmerge(df2,chi_square_df,how\u001B[38;5;241m=\u001B[39m\u001B[38;5;124m'\u001B[39m\u001B[38;5;124mouter\u001B[39m\u001B[38;5;124m'\u001B[39m,on\u001B[38;5;241m=\u001B[39m\u001B[38;5;124m'\u001B[39m\u001B[38;5;124mFeature\u001B[39m\u001B[38;5;124m'\u001B[39m)\n",
      "\u001B[1;31mNameError\u001B[0m: name 'feature_df' is not defined"
     ]
    }
   ],
   "execution_count": 61
  },
  {
   "metadata": {},
   "cell_type": "markdown",
   "source": [
    "根据以上分析结果来看，Age、GreditScore、NumOfProducts、Balance、IsActiveMember这些特征显示出了较高的特征重要性/与Exited有显著相关性/统计学差异，因此我认为它们应当成为模型的重要输入。\n",
    "\n",
    "而EstimatedSalary、Tenure尽管相关性或U检验结构不太显著，但是考虑到他们有一定的特征重要性，也应当保留作为模型的输入，因为它们可能与其他特征一起共同贡献于预测能力。\n",
    "\n",
    "另外，Gender、Geography的特征重要性没有那么高，但它们显示出高度的卡方检验显著性（p值接近0），意味着它们对于预测客户流失是有价值的，因此也应该保留作为模型的输入。\n",
    "\n",
    "还有，HasCrCard在特征重要性、相关性或卡方检验上的表现不是特别突出，但是在业务理解上有其特定意义，比如信用卡持有状态可能间接反映客户的忠诚度和消费习惯，也可以考虑作为模型的输入。\n",
    "\n",
    "综上，Age、GreditScore、NumOfProducts、Balance、IsActiveMember、EstimatedSalary、Tenure、Gender、Geography、HasCrCard这些特征应当作为流失预测模型的输入。"
   ],
   "id": "2bc0123be768a18"
  },
  {
   "metadata": {},
   "cell_type": "markdown",
   "source": "# 客户流失预测的建模",
   "id": "8ad91e2071d39e54"
  },
  {
   "metadata": {
    "ExecuteTime": {
     "end_time": "2024-07-07T08:38:09.152281Z",
     "start_time": "2024-07-07T08:31:01.495477Z"
    }
   },
   "cell_type": "code",
   "source": [
    "# 数据处理\n",
    "df_sklearn = df.copy(deep=True)\n",
    "df_sklearn['Gender'] = df_sklearn['Gender'].map({'Male':0,'Female':1})\n",
    "# df_sklearn.info()\n",
    "\n",
    "# 特征与目标变量\n",
    "nfeatures = df_sklearn.iloc[:,2:-1] \n",
    "target = df_sklearn['Exited']\n",
    "\n",
    "# 分割数据集\n",
    "x_train,x_test,y_train,y_test = train_test_split(nfeatures,target,test_size=0.2,random_state=42)\n",
    "\n",
    "# 预处理:数值特征标准化,类别特征OneHot编码\n",
    "# 自动识别数据类型选取指定特征变量\n",
    "numeric_features = nfeatures.select_dtypes(include=[np.number]).drop(columns=['Geography','Gender','HasCrCard','IsActiveMember'],errors='ignore').columns.tolist()\n",
    "categorical_features = ['Geography','Gender','HasCrCard','IsActiveMember']\n",
    "# 数值特征标准化的转换器定义\n",
    "numeric_transformer = StandardScaler()\n",
    "# 独热编码的转换器定义\n",
    "categorical_transformer = OneHotEncoder(handle_unknown = 'ignore')\n",
    "# 列变换器\n",
    "# ColumnTransformer根据特征类型分别应用不同的变换器到数据集\n",
    "preprocessor = ColumnTransformer(\n",
    "    transformers=[\n",
    "        ('num',numeric_transformer,numeric_features),\n",
    "        ('cat',categorical_transformer,categorical_features)\n",
    "    ]\n",
    ")\n",
    "\n",
    "# 预处理数据\n",
    "# 应用预处理器对训练集进行拟合并转换.fit_transform会先根据训练数据学习必要的参数（比如StandardScaler的学习均值和方差），然后应用转换。\n",
    "x_train_processed = preprocessor.fit_transform(x_train)\n",
    "# 对测试集进行转换。因为预处理器已经通过训练集学会了转换规则，这里只需直接应用相同的转换规则到测试数据上。\n",
    "x_test_processed = preprocessor.transform(x_test)\n",
    "\n",
    "# 随机森立模型参数调优\n",
    "param_grid = {\n",
    "    'n_estimators': [50, 100, 200],\n",
    "    'max_depth': [None, 10, 20, 30],\n",
    "    'min_samples_split': [2, 5, 10],\n",
    "    'min_samples_leaf': [1, 2, 4]\n",
    "}\n",
    "\n",
    "grid_search = GridSearchCV(RandomForestClassifier(random_state=42),param_grid,cv=5,scoring='roc_auc')\n",
    "grid_search.fit(x_train_processed,y_train)\n",
    "\n",
    "# 获取最佳参数\n",
    "best_params = grid_search.best_params_\n",
    "print('Best Parameters Found:',best_params)\n",
    "\n",
    "# 使用最佳参数构建模型并训练\n",
    "# **best_params解包字典为关键字参数,值传递给对应函数参数\n",
    "optimized_rf = RandomForestClassifier(**best_params,random_state=42)\n",
    "optimized_rf.fit(x_train_processed,y_train)\n",
    "\n",
    "# 预测\n",
    "predictions = optimized_rf.predict(x_test_processed)\n",
    "# probs是输出正负类概率的二维数组,probs[:,1]是正类概率的一维数组\n",
    "# pridict_proba()是随机森林分类器的一个方法,它接受一个特征数组作为输入，并返回每个样本属于各个类别的概率。这对于后续进ROC曲线绘制非常有用的。\n",
    "probs = optimized_rf.predict_proba(x_test_processed)[:,1]\n",
    "\n",
    "# 模型评估\n",
    "accuracy = accuracy_score(y_test,predictions)\n",
    "precision = precision_score(y_test,predictions)\n",
    "recall = recall_score(y_test,predictions)\n",
    "roc_auc = roc_auc_score(y_test, probs)\n",
    "\n",
    "print(f'Accuracy:{accuracy}\\n Precision:{precision}\\n Recall:{recall}\\n Roc_Auc:{roc_auc}')\n",
    "\n",
    "# 绘制ROC曲线\n",
    "fpr, tpr, _ = roc_curve(y_test, probs)\n",
    "plt.figure(figsize=(8, 6))\n",
    "plt.plot(fpr, tpr, label=f'ROC curve (area = {roc_auc:.2f})')\n",
    "plt.plot([0, 1], [0, 1], 'k--')\n",
    "plt.xlim([0.0, 1.0])\n",
    "plt.ylim([0.0, 1.05])\n",
    "plt.xlabel('False Positive Rate')\n",
    "plt.ylabel('True Positive Rate')\n",
    "plt.title('Receiver Operating Characteristic (ROC)')\n",
    "plt.legend(loc=\"lower right\")\n",
    "plt.show()"
   ],
   "id": "420bd00195cc0f73",
   "outputs": [
    {
     "name": "stdout",
     "output_type": "stream",
     "text": [
      "Best Parameters Found: {'max_depth': 10, 'min_samples_leaf': 4, 'min_samples_split': 10, 'n_estimators': 200}\n",
      "Accuracy:0.863\n",
      " Precision:0.7767441860465116\n",
      " Recall:0.42493638676844786\n",
      " Roc_Auc:0.8663243348518173\n"
     ]
    },
    {
     "data": {
      "text/plain": [
       "<Figure size 800x600 with 1 Axes>"
      ],
      "image/png": "[encoded data removed]"
     },
     "metadata": {},
     "output_type": "display_data"
    }
   ],
   "execution_count": 62
  },
  {
   "metadata": {},
   "cell_type": "code",
   "outputs": [],
   "execution_count": null,
   "source": "",
   "id": "c8d3a0a69ee9aa33"
  }
 ],
 "metadata": {
  "kernelspec": {
   "display_name": "python(ML)",
   "language": "python",
   "name": "ml"
  },
  "language_info": {
   "codemirror_mode": {
    "name": "ipython",
    "version": 2
   },
   "file_extension": ".py",
   "mimetype": "text/x-python",
   "name": "python",
   "nbconvert_exporter": "python",
   "pygments_lexer": "ipython2",
   "version": "2.7.6"
  }
 },
 "nbformat": 4,
 "nbformat_minor": 5
}
