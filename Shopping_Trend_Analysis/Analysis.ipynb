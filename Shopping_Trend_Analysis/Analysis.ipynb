{
 "cells": [
  {
   "metadata": {},
   "cell_type": "code",
   "source": [
    "import pandas as pd\n",
    "import numpy as np\n",
    "import seaborn as sns\n",
    "import matplotlib.pyplot as plt\n",
    "from scipy.sparse.linalg import svds\n",
    "from sklearn.preprocessing import MinMaxScaler\n",
    "import warnings\n",
    "warnings.filterwarnings('ignore')"
   ],
   "id": "1cdfbde963eef968",
   "outputs": [],
   "execution_count": null
  },
  {
   "metadata": {},
   "cell_type": "code",
   "source": "data = pd.read_csv('shopping_trends_updated.csv')",
   "id": "f86901336a20256e",
   "outputs": [],
   "execution_count": null
  },
  {
   "metadata": {},
   "cell_type": "markdown",
   "source": "## 数据预览",
   "id": "2547efa37f528b94"
  },
  {
   "metadata": {},
   "cell_type": "code",
   "source": [
    "# 维度\n",
    "data.shape"
   ],
   "id": "c0c248187dc1a15d",
   "outputs": [],
   "execution_count": null
  },
  {
   "metadata": {},
   "cell_type": "code",
   "source": [
    "# 数据信息\n",
    "data.info()"
   ],
   "id": "d3905204299f1723",
   "outputs": [],
   "execution_count": null
  },
  {
   "metadata": {},
   "cell_type": "code",
   "source": [
    "# 缺失值\n",
    "data.isnull().sum()"
   ],
   "id": "ab644b78d92d9010",
   "outputs": [],
   "execution_count": null
  },
  {
   "metadata": {},
   "cell_type": "code",
   "source": [
    "# 重复值\n",
    "data.duplicated().sum()"
   ],
   "id": "ce0c4766d01a55f5",
   "outputs": [],
   "execution_count": null
  },
  {
   "metadata": {},
   "cell_type": "code",
   "source": [
    "# 判断使用折扣和使用优惠码的情况是否同时出现\n",
    "(data['Discount Applied'] == data['Promo Code Used']).all()"
   ],
   "id": "393e1afddc52bb55",
   "outputs": [],
   "execution_count": null
  },
  {
   "metadata": {},
   "cell_type": "markdown",
   "source": "这里需要特别说明，当我们两列值完全相同则表明使用折扣就代表了使用优惠码",
   "id": "a148eeedb7294be2"
  },
  {
   "metadata": {},
   "cell_type": "markdown",
   "source": "## 数据处理",
   "id": "21ec0987b8621df4"
  },
  {
   "metadata": {},
   "cell_type": "code",
   "source": "data.head()",
   "id": "949bc255b73d6a5a",
   "outputs": [],
   "execution_count": null
  },
  {
   "metadata": {},
   "cell_type": "code",
   "source": [
    "## 修改CustomerID格式\n",
    "data['Customer ID'] = data['Customer ID'].astype(str)"
   ],
   "id": "160514399a28cfbd",
   "outputs": [],
   "execution_count": null
  },
  {
   "metadata": {},
   "cell_type": "code",
   "source": [
    "# 删除使用优惠码的那一列（原因：使用优惠码的情况已经在上一步判断过了）\n",
    "data.drop(['Promo Code Used'], axis = 1, inplace = True)"
   ],
   "id": "31d5bc777e39b0ae",
   "outputs": [],
   "execution_count": null
  },
  {
   "metadata": {},
   "cell_type": "markdown",
   "source": "## 数据探索",
   "id": "e1b81bfd66778e22"
  },
  {
   "metadata": {},
   "cell_type": "markdown",
   "source": "### 客户信息分布",
   "id": "93c8de330c72560c"
  },
  {
   "metadata": {},
   "cell_type": "code",
   "source": [
    "sns.set_style(\"whitegrid\")\n",
    "plt.figure(figsize = (15, 7))\n",
    "plt.subplot(1, 2, 1)\n",
    "sns.distplot(data['Age'], kde = False, bins = 20)\n",
    "plt.title(f'Age Distribution', fontsize = 15)\n",
    "plt.subplot(1, 2, 2)\n",
    "sns.countplot(data = data, x = 'Gender', order = data['Gender'].value_counts().index)\n",
    "plt.title(f'Gender Distribution', fontsize = 15)\n",
    "plt.xlabel('Gender', fontsize = 12)\n",
    "plt.ylabel('Count', fontsize = 12)\n",
    "plt.xticks(rotation = 0)\n",
    "plt.tight_layout()\n",
    "plt.show()"
   ],
   "id": "9231eb17fdf4cc7d",
   "outputs": [],
   "execution_count": null
  },
  {
   "metadata": {},
   "cell_type": "markdown",
   "source": "得到信息：男性客户约为女性客户的两倍，客户年龄分布较为均匀，主要是18 - 70岁",
   "id": "6df3d999fc3e104a"
  },
  {
   "metadata": {},
   "cell_type": "markdown",
   "source": "### 购物行为分析",
   "id": "54a48345d910bc5e"
  },
  {
   "metadata": {},
   "cell_type": "code",
   "source": [
    "# 1. 商品类别的销售情况\n",
    "category_sales = data.groupby('Category')['Purchase Amount (USD)'].sum().sort_values(ascending = False)\n",
    "# 2. 商品类别的订单量\n",
    "category_popularity = data['Category'].value_counts()\n",
    "# 3. 不同类别商品的平均消费金额\n",
    "category_avg_purchase = data.groupby('Category')['Purchase Amount (USD)'].mean().sort_values(ascending = False)\n",
    "# 4. 客户最常用的支付方式\n",
    "payment_method_counts = data['Payment Method'].value_counts()\n",
    "\n",
    "fig, axes = plt.subplots(2, 2, figsize = (14, 10))\n",
    "fig.tight_layout(pad = 5.0)\n",
    "# 商品类别销售总额条形图\n",
    "sns.barplot(x = category_sales.index, y = category_sales.values, ax = axes[0, 0])\n",
    "axes[0, 0].set_title('Total Sales by Category')\n",
    "axes[0, 0].set_xlabel('Category')\n",
    "axes[0, 0].set_ylabel('Sales (USD)')\n",
    "# 商品订单情况条形图\n",
    "sns.barplot(x = category_popularity.index, y = category_popularity.values, ax = axes[0, 1])\n",
    "axes[0, 1].set_title('Popularity by Category')\n",
    "axes[0, 1].set_xlabel('Category')\n",
    "axes[0, 1].set_ylabel('Number of Orders')\n",
    "# 绘制商品类别的平均消费金额的条形图\n",
    "sns.barplot(x=category_avg_purchase.index, y=category_avg_purchase.values, ax=axes[1, 0])\n",
    "axes[1, 0].set_title('Average Purchase Amount by Category')\n",
    "axes[1, 0].set_xlabel('Category')\n",
    "axes[1, 0].set_ylabel('Average Purchase Amount (USD)')\n",
    "\n",
    "# 绘制客户最常用的支付方式的条形图\n",
    "sns.barplot(x=payment_method_counts.index, y=payment_method_counts.values, ax=axes[1, 1])\n",
    "axes[1, 1].set_title('Usage of Payment Methods')\n",
    "axes[1, 1].set_xlabel('Payment Method')\n",
    "axes[1, 1].set_ylabel('Number of Orders')\n",
    "plt.show()"
   ],
   "id": "f1d9cbc0ff853bc5",
   "outputs": [],
   "execution_count": null
  },
  {
   "metadata": {},
   "cell_type": "code",
   "source": [
    "# 1.不同地点的销售总额\n",
    "location_sales = data.groupby('Location')['Purchase Amount (USD)'].sum().sort_values(ascending=False)\n",
    "\n",
    "# 2.不同地点的订单数量\n",
    "location_order_count = data['Location'].value_counts()\n",
    "\n",
    "fig, axes = plt.subplots(nrows=1, ncols=2, figsize=(20, 16))\n",
    "fig.tight_layout(pad=5.0)\n",
    "\n",
    "# 绘制不同地点的销售总额条形图\n",
    "sns.barplot(y=location_sales.index, x=location_sales.values, ax=axes[0])\n",
    "axes[0].set_title('Total Sales by Location')\n",
    "axes[0].set_xlabel('Total Sales (USD)')\n",
    "axes[0].set_ylabel('Location')\n",
    "\n",
    "# 绘制不同地点的订单数量条形图\n",
    "sns.barplot(y=location_order_count.index, x=location_order_count.values, ax=axes[1])\n",
    "axes[1].set_title('Number of Orders by Location')\n",
    "axes[1].set_xlabel('Number of Orders')\n",
    "axes[1].set_ylabel('Location')\n",
    "plt.show()"
   ],
   "id": "c0b44ebc68caf72",
   "outputs": [],
   "execution_count": null
  },
  {
   "metadata": {},
   "cell_type": "code",
   "source": [
    "# 1.不同季节的销售总额\n",
    "season_sales = data.groupby('Season')['Purchase Amount (USD)'].sum().sort_values(ascending=False)\n",
    "\n",
    "# 2.不同季节的订单数量\n",
    "season_order_count = data['Season'].value_counts()\n",
    "\n",
    "fig, axes = plt.subplots(nrows=1, ncols=2, figsize=(15, 8))\n",
    "fig.tight_layout(pad=5.0)\n",
    "\n",
    "# 绘制不同季节的销售总额条形图\n",
    "sns.barplot(x=season_sales.index, y=season_sales.values, ax=axes[0])\n",
    "axes[0].set_title('Total Sales by Season')\n",
    "axes[0].set_xlabel('Season')\n",
    "axes[0].set_ylabel('Total Sales (USD)')\n",
    "\n",
    "# 绘制不同季节的订单数量条形图\n",
    "sns.barplot(x=season_order_count.index, y=season_order_count.values, ax=axes[1])\n",
    "axes[1].set_title('Number of Orders by Season')\n",
    "axes[1].set_xlabel('Season')\n",
    "axes[1].set_ylabel('Number of Orders')\n",
    "plt.show()"
   ],
   "id": "6098078f1063765b",
   "outputs": [],
   "execution_count": null
  },
  {
   "metadata": {},
   "cell_type": "code",
   "source": [
    "# 1.有折扣和没有折扣的订单的平均消费金额\n",
    "avg_purchase_discount = data.groupby('Discount Applied')['Purchase Amount (USD)'].mean()\n",
    "\n",
    "# 2.有折扣和没有折扣的订单数量\n",
    "purchase_counts = data.groupby('Discount Applied').size()\n",
    "\n",
    "fig, axes = plt.subplots(nrows=1, ncols=2, figsize=(15, 8))\n",
    "fig.tight_layout(pad=5.0)\n",
    "\n",
    "# 绘制有折扣和没有折扣的订单的平均消费金额条形图\n",
    "sns.barplot(x=avg_purchase_discount.index, y=avg_purchase_discount.values, ax=axes[0])\n",
    "axes[0].set_title('Average Purchase Amount with/without Discount')\n",
    "axes[0].set_xlabel('Discount Applied')\n",
    "axes[0].set_ylabel('Average Purchase Amount (USD)')\n",
    "\n",
    "# 绘制有折扣和没有折扣的订单数量条形图\n",
    "sns.barplot(x=purchase_counts.index, y=purchase_counts.values, ax=axes[1])\n",
    "axes[1].set_title('Number of Orders with/without Discount')\n",
    "axes[1].set_xlabel('Discount Applied')\n",
    "axes[1].set_ylabel('Number of Orders')\n",
    "plt.show()"
   ],
   "id": "88c3c9df803da375",
   "outputs": [],
   "execution_count": null
  },
  {
   "metadata": {},
   "cell_type": "markdown",
   "source": [
    "通过我们建立的可视化可以看出以下几点：\n",
    "1. 衣服的销售总量和订单都是最高的，外套的销售总量和订单都是最低的，说明外套作为不常更换商品，销量无法比拟其他。\n",
    "2. 鞋类、衣服、配饰三类商品的平均金额都比较接近，在$60左右，外套的平均消费金额最低，也符合我们提到的更新频率较低。\n",
    "3. Paypal是最常用的支付方式，其次是信用卡和现金，最少的支付方式是银行转账。\n",
    "4. 蒙大拿州（Montana）的销售总额和订单数量是最高的，堪萨斯州（Kansas）的销售总额和订单数量是最低的。\n",
    "5. 秋季（Fall）有着最高的销售金额，春季（Spring）有着最高的订单数量，夏季（Summer）的销售金额和订单数量都是最低的。\n",
    "6. 使用折扣的订单平均消费金额略小于未使用折扣的订单平均销售金额，未使用折扣的订单数量大于使用折扣的订单数量。"
   ],
   "id": "bc879f1cbc57c513"
  },
  {
   "metadata": {},
   "cell_type": "markdown",
   "source": "### 商品销售情况分析",
   "id": "9b06df1a215eea64"
  },
  {
   "metadata": {},
   "cell_type": "code",
   "source": [
    "# 筛选出四个类别下的商品数据\n",
    "categories_of_interest = ['Clothing', 'Accessories', 'Footwear', 'Outerwear']\n",
    "filtered_data = data[data['Category'].isin(categories_of_interest)]\n",
    "\n",
    "# 商品种类分析\n",
    "item_counts = filtered_data.groupby('Category')['Item Purchased'].value_counts().unstack(fill_value=0)\n",
    "\n",
    "# 创建堆叠条形图\n",
    "ax = item_counts.plot(kind='bar', stacked=True, figsize=(16, 12), colormap='viridis', legend=False)\n",
    "\n",
    "# 设置图表标题和坐标轴标签\n",
    "ax.set_title('Sales Quantity of Different Items in Each Category', fontsize=16)\n",
    "ax.set_xlabel('Category', fontsize=12)\n",
    "ax.set_ylabel('Quantity Sold', fontsize=12)\n",
    "\n",
    "# 优化坐标轴刻度显示\n",
    "ax.yaxis.get_major_formatter().set_scientific(False)\n",
    "\n",
    "# 在每个颜色段上标注商品名称和数量\n",
    "for i, category in enumerate(item_counts.index):\n",
    "    y_offset = 0\n",
    "    for item, count in item_counts.loc[category].items():\n",
    "        if count > 0:\n",
    "            ax.text(i, y_offset + count / 2, f'{item}:{count}', ha='center', va='center', fontsize=12, color='white',fontweight='bold')\n",
    "            y_offset += count\n",
    "\n",
    "plt.xticks(rotation=0)\n",
    "plt.tight_layout()\n",
    "plt.show()"
   ],
   "id": "224e46b4d0cbc885",
   "outputs": [],
   "execution_count": null
  },
  {
   "metadata": {},
   "cell_type": "code",
   "source": [
    "# 计算每个商品在每个类别下的销售总额\n",
    "sales_amount = filtered_data.groupby('Category').apply(lambda x: x.groupby('Item Purchased')['Purchase Amount (USD)'].sum())\n",
    "\n",
    "# 将sales_amount转换为DataFrame并进行适当的调整\n",
    "sales_amount_df = sales_amount.unstack(fill_value=0)\n",
    "\n",
    "# 创建堆叠条形图\n",
    "ax = sales_amount_df.plot(kind='bar', stacked=True, figsize=(16, 12), colormap='viridis', legend=False)\n",
    "\n",
    "# 设置图表标题和坐标轴标签\n",
    "ax.set_title('Sales Amount of Different Items in Each Category', fontsize=16)\n",
    "ax.set_xlabel('Category', fontsize=12)\n",
    "ax.set_ylabel('Sales Amount (USD)', fontsize=12)\n",
    "\n",
    "# 优化坐标轴刻度显示\n",
    "ax.yaxis.get_major_formatter().set_scientific(False)\n",
    "\n",
    "# 在每个颜色段上标注商品名称和销售总额\n",
    "for i, category in enumerate(sales_amount_df.index):\n",
    "    y_offset = 0\n",
    "    for item, amount in sales_amount_df.loc[category].items():\n",
    "        if amount > 0:\n",
    "            ax.text(i, y_offset + amount / 2, f'{item}:{amount}', ha='center', va='center', fontsize=12, color='white',fontweight='bold')\n",
    "            y_offset += amount\n",
    "\n",
    "plt.xticks(rotation=0)\n",
    "plt.tight_layout()\n",
    "plt.show()"
   ],
   "id": "3a0d43de8be6b7ff",
   "outputs": [],
   "execution_count": null
  },
  {
   "metadata": {},
   "cell_type": "code",
   "source": [
    "# 计算每个商品在每个类别下的平均销售金额\n",
    "average_sales_amount = sales_amount_df.div(item_counts)\n",
    "\n",
    "# 创建堆叠条形图\n",
    "ax = average_sales_amount.plot(kind='bar', stacked=True, figsize=(16,12), colormap='viridis', legend=False)\n",
    "\n",
    "# 设置图表标题和坐标轴标签\n",
    "ax.set_title('Average Sales Amount of Different Items in Each Category', fontsize=16)\n",
    "ax.set_xlabel('Category', fontsize=12)\n",
    "ax.set_ylabel('Average Sales Amount (USD)', fontsize=12)\n",
    "\n",
    "# 优化坐标轴刻度显示\n",
    "ax.yaxis.get_major_formatter().set_scientific(False)\n",
    "\n",
    "# 在每个颜色段上标注商品名称和平均销售金额\n",
    "for i, category in enumerate(average_sales_amount.index):\n",
    "    y_offset = 0\n",
    "    for item, amount in average_sales_amount.loc[category].items():\n",
    "        if not np.isnan(amount):\n",
    "            ax.text(i, y_offset + amount / 2, f'{item}:{amount:.2f}', ha='center', va='center', fontsize=12, color='white', fontweight='bold')\n",
    "            y_offset += amount\n",
    "\n",
    "plt.xticks(rotation=0)\n",
    "plt.tight_layout()\n",
    "plt.show()"
   ],
   "id": "9fe5e2d885d4f5c6",
   "outputs": [],
   "execution_count": null
  },
  {
   "metadata": {},
   "cell_type": "markdown",
   "source": [
    "由此我们可以看出以下几点：\n",
    "1. 在配饰（Accessories）中，订单数量最多且销售总额最高的商品是珠宝（Jewelry）。\n",
    "2. 在衣服（Clothing）中，订单数量最多且销售总额最高的商品是（女式）短上衣（Blouse）。\n",
    "3. 在鞋类（Footwear）中，订单数量最多的商品是凉鞋（Sandals），销售总额最高的商品是鞋（Shoes）。\n",
    "4. 在外套（Outerwear）中，夹克（Jacket）和外套（Coat）二者相差不大。\n",
    "5. 所有商品的平均消费金额都在56-63美元之间，相差不是很大，只是外套的平均消费金额均小于60美元。"
   ],
   "id": "eaf1c1ae6629482"
  },
  {
   "metadata": {},
   "cell_type": "markdown",
   "source": "## 客户忠诚度分析",
   "id": "c6c4fc95d611f154"
  },
  {
   "metadata": {},
   "cell_type": "markdown",
   "source": "### 基于购买频率和历史购买总数",
   "id": "f218596846fe44b4"
  },
  {
   "metadata": {},
   "cell_type": "code",
   "source": [
    "# 1.购买频率分析\n",
    "frequency_counts = data['Frequency of Purchases'].value_counts(normalize=True) * 100\n",
    "\n",
    "# 2.历史购买总数分析\n",
    "historical_purchases_description = data['Previous Purchases'].describe()\n",
    "\n",
    "# 3.联合分析：购买频率和历史购买总数\n",
    "loyalty_analysis = data.groupby('Frequency of Purchases')['Previous Purchases'].agg(['count', 'mean', 'median', 'std'])"
   ],
   "id": "5f1478cc6e74134c",
   "outputs": [],
   "execution_count": null
  },
  {
   "metadata": {},
   "cell_type": "code",
   "source": [
    "# 购买频率分布条形图\n",
    "plt.figure(figsize=(16, 12))\n",
    "ax = sns.countplot(data=data, x='Frequency of Purchases', order = data['Frequency of Purchases'].value_counts().index)\n",
    "ax.set_title('Customer Counts by Purchase Frequency')\n",
    "ax.set_ylabel('Number of Customers')\n",
    "ax.set_xlabel('Frequency of Purchases')\n",
    "ax.set_xticklabels(ax.get_xticklabels(), rotation=0)\n",
    "plt.show()"
   ],
   "id": "2bd8088d6dd81588",
   "outputs": [],
   "execution_count": null
  },
  {
   "metadata": {},
   "cell_type": "code",
   "source": [
    "# 历史购买总数分布直方图\n",
    "plt.figure(figsize=(16, 12))\n",
    "ax = sns.distplot(data['Previous Purchases'], bins=50, kde=False)\n",
    "ax.set_title('Distribution of Previous Purchases')\n",
    "ax.set_ylabel('Frequency')\n",
    "ax.set_xlabel('Previous Purchases')\n",
    "plt.show()"
   ],
   "id": "b8452dcd064ecb35",
   "outputs": [],
   "execution_count": null
  },
  {
   "metadata": {},
   "cell_type": "code",
   "source": [
    "# 联合分析：购买频率与历史购买总数的箱线图\n",
    "plt.figure(figsize=(16, 12))\n",
    "ax = sns.boxplot(data=data, x='Frequency of Purchases', y='Previous Purchases', order = data['Frequency of Purchases'].value_counts().index)\n",
    "ax.set_title('Previous Purchases by Purchase Frequency')\n",
    "ax.set_ylabel('Previous Purchases')\n",
    "ax.set_xlabel('Frequency of Purchases')\n",
    "ax.set_xticklabels(ax.get_xticklabels(), rotation=0)\n",
    "plt.show()"
   ],
   "id": "5616cb70fac2ca9b",
   "outputs": [],
   "execution_count": null
  },
  {
   "metadata": {},
   "cell_type": "markdown",
   "source": [
    "基于图表我们可以得出以下几点：\n",
    "1.客户的购买频率分布相对均衡，没有明显的主导趋势。\n",
    "2.大多数客户的历史购买总数集中在25附近，但也存在一些购买数量远高或远低于平均水平的客户。\n",
    "3.高频率购买者（如每周或每两周购物）和高历史购买总数的客户可能是忠诚度较高的客户群体"
   ],
   "id": "af683ccef88aa43c"
  },
  {
   "metadata": {},
   "cell_type": "markdown",
   "source": "### 基于评分和订阅状态",
   "id": "426ff1e7d3d099cf"
  },
  {
   "metadata": {},
   "cell_type": "code",
   "source": [
    "# 1. 评分分布直方图\n",
    "plt.figure(figsize=(16, 12))\n",
    "ax = sns.distplot(data['Review Rating'], bins=15, kde=True)\n",
    "ax.set_title('Distribution of Review Ratings')\n",
    "ax.set_ylabel('Frequency')\n",
    "ax.set_xlabel('Review Rating')\n",
    "plt.show()"
   ],
   "id": "b3485294a935dc0a",
   "outputs": [],
   "execution_count": null
  },
  {
   "metadata": {},
   "cell_type": "code",
   "source": [
    "# 2. 订阅状态与评分的关系的箱线图\n",
    "plt.figure(figsize=(12, 9))\n",
    "ax = sns.boxplot(data=data, x='Subscription Status', y='Review Rating')\n",
    "ax.set_title('Review Ratings by Subscription Status')\n",
    "ax.set_ylabel('Review Rating')\n",
    "ax.set_xlabel('Subscription Status')\n",
    "\n",
    "# 显示图表\n",
    "plt.show()"
   ],
   "id": "36f4448f1d7fde3e",
   "outputs": [],
   "execution_count": null
  },
  {
   "metadata": {},
   "cell_type": "markdown",
   "source": [
    "基于图表我们可以得出以下几点：\n",
    "1.评分集中在2.5到5之间，表明大多数客户对购买的商品感到满意，没有出现1分这种极端情况。\n",
    "2.拥有订阅的客户和没有订阅的客户在评分分布上没有明显差异。"
   ],
   "id": "b845053114d3c506"
  },
  {
   "metadata": {},
   "cell_type": "markdown",
   "source": "### 高评分客户的特征",
   "id": "fda833fc65475358"
  },
  {
   "metadata": {},
   "cell_type": "markdown",
   "source": "这里将仅对评分大于等于4的客户作为高评分用户，对高评分客户进行分析",
   "id": "9d1f797e07549ac6"
  },
  {
   "metadata": {},
   "cell_type": "code",
   "source": [
    "high_rating_customers = data[data['Review Rating'] > 4]\n",
    "# 1.购买频率分析\n",
    "frequency_distribution_high_rating = high_rating_customers['Frequency of Purchases'].value_counts(normalize=True) * 100\n",
    "frequency_distribution_high_rating"
   ],
   "id": "89379d0bb50b231a",
   "outputs": [],
   "execution_count": null
  },
  {
   "metadata": {},
   "cell_type": "code",
   "source": [
    "# 2.购买金额分析\n",
    "purchase_amount_description_high_rating = high_rating_customers['Purchase Amount (USD)'].describe()\n",
    "purchase_amount_description_high_rating"
   ],
   "id": "84078920e6e4afad",
   "outputs": [],
   "execution_count": null
  },
  {
   "metadata": {},
   "cell_type": "code",
   "source": [
    "# 购买金额分布直方图\n",
    "plt.figure(figsize=(16, 12))\n",
    "ax = sns.distplot(high_rating_customers['Purchase Amount (USD)'], bins=30, kde=True)\n",
    "ax.set_title('Distribution of Purchase Amount for High Rating Customers')\n",
    "ax.set_ylabel('Frequency')\n",
    "ax.set_xlabel('Purchase Amount (USD)')\n",
    "plt.show()"
   ],
   "id": "b2cd9bffc036210d",
   "outputs": [],
   "execution_count": null
  },
  {
   "metadata": {},
   "cell_type": "code",
   "source": [
    "# 3.购买类别分析\n",
    "category_distribution_high_rating = high_rating_customers['Category'].value_counts(normalize=True) * 100\n",
    "category_distribution_high_rating"
   ],
   "id": "e6c3ec41e84531b2",
   "outputs": [],
   "execution_count": null
  },
  {
   "metadata": {},
   "cell_type": "code",
   "source": [
    "# 4.订阅状态的客户分布\n",
    "subscription_status_high_rating = high_rating_customers['Subscription Status'].value_counts(normalize=True) * 100\n",
    "subscription_status_high_rating"
   ],
   "id": "7e1ffe74d844f652",
   "outputs": [],
   "execution_count": null
  },
  {
   "metadata": {},
   "cell_type": "code",
   "source": [
    "# 5.购买地点分析\n",
    "location_distribution_high_rating = high_rating_customers['Location'].value_counts(normalize=True) * 100\n",
    "location_distribution_high_rating.head(10)"
   ],
   "id": "10efa4733a6b5eb3",
   "outputs": [],
   "execution_count": null
  },
  {
   "metadata": {},
   "cell_type": "markdown",
   "source": [
    "由此我们可以得出以下几点：\n",
    "1. 给出高评分的客户在购买频率和购买金额上没有明显的特殊趋势。\n",
    "2. 给出高评分的客户主要购买服装和配饰类别的商品。\n",
    "3. 大多数给出高评分的客户没有订阅服务。\n",
    "4. 给出高评分的客户分布在各个地区，没有明显集中在特定地区。"
   ],
   "id": "9e5f4b976ef9b361"
  },
  {
   "metadata": {},
   "cell_type": "markdown",
   "source": "## 基于矩阵分解模型建立商品推荐系统",
   "id": "c22c434efd3110ba"
  },
  {
   "metadata": {},
   "cell_type": "markdown",
   "source": "为了实现矩阵分解模型，我们需要使用到奇异值分解法（SVD）来进行特征提取。",
   "id": "515af8c4c1df59dd"
  },
  {
   "metadata": {},
   "cell_type": "markdown",
   "source": "### 数据预处理",
   "id": "ddcac90a05dcf175"
  },
  {
   "metadata": {},
   "cell_type": "code",
   "source": [
    "# 将“购买频率”转换为数值\n",
    "frequency_mapping = {\n",
    "    'Weekly': 52,\n",
    "    'Bi-Weekly': 26,\n",
    "    'Monthly': 12,\n",
    "    'Quarterly': 4,\n",
    "    'Every 3 Months': 4,\n",
    "    'Annually': 1,\n",
    "    'Fortnightly': 26\n",
    "}\n",
    "data_copy = data.copy()\n",
    "data_copy['Frequency of Purchases'] = data_copy['Frequency of Purchases'].map(frequency_mapping)\n",
    "# 归一化“历史购买总数”和“购买频率”\n",
    "scaler = MinMaxScaler()\n",
    "data_copy[['Previous Purchases', 'Frequency of Purchases']] = scaler.fit_transform(data_copy[['Previous Purchases', 'Frequency of Purchases']])\n",
    "data_copy.head()"
   ],
   "id": "37dc42c5876a666",
   "outputs": [],
   "execution_count": null
  },
  {
   "metadata": {},
   "cell_type": "markdown",
   "source": "### 创建评分矩阵，进行SVD分解",
   "id": "9a28a5aa7147d01"
  },
  {
   "metadata": {},
   "cell_type": "code",
   "source": [
    "from scipy.sparse import csr_matrix\n",
    "\n",
    "# 创建评分矩阵\n",
    "rating_matrix = data_copy.pivot(index='Customer ID', columns='Item Purchased', values='Review Rating').fillna(0)\n",
    "\n",
    "# 将 DataFrame 转换为稀疏矩阵\n",
    "rating_matrix_sparse = csr_matrix(rating_matrix.values)\n",
    "\n",
    "# 进行SVD分解\n",
    "# 归一化评分矩阵：减去每个用户的平均评分\n",
    "user_ratings_mean = np.mean(rating_matrix, axis=1)\n",
    "rating_matrix_normalized = rating_matrix - user_ratings_mean.values.reshape(-1, 1)\n",
    "\n",
    "# 进行SVD\n",
    "U, sigma, Vt = svds(rating_matrix_sparse, k=10)\n",
    "\n",
    "# 将sigma从向量转换为对角矩阵\n",
    "sigma = np.diag(sigma)\n",
    "\n",
    "# 预测评分\n",
    "predicted_ratings = np.dot(np.dot(U, sigma), Vt) + user_ratings_mean.values.reshape(-1, 1)\n",
    "predicted_ratings_df = pd.DataFrame(predicted_ratings, columns=rating_matrix.columns, index=rating_matrix.index)\n",
    "predicted_ratings_df.head()"
   ],
   "id": "18de775a2b77b23c",
   "outputs": [],
   "execution_count": null
  },
  {
   "metadata": {},
   "cell_type": "markdown",
   "source": "### 创建用户画像",
   "id": "d13a4304c549474f"
  },
  {
   "metadata": {},
   "cell_type": "code",
   "source": [
    "# 创建用户画像，包括历史购买总数和购买频率\n",
    "user_profile = data_copy.groupby('Customer ID')[['Previous Purchases', 'Frequency of Purchases']].mean()\n",
    "\n",
    "# 结合用户的平均评分\n",
    "user_profile['Average Rating'] = user_ratings_mean\n",
    "user_profile.head()"
   ],
   "id": "152c56f6ef3e77d",
   "outputs": [],
   "execution_count": null
  },
  {
   "metadata": {},
   "cell_type": "markdown",
   "source": "### 基于用户画像进行推荐",
   "id": "4e32766b0e602669"
  },
  {
   "metadata": {},
   "cell_type": "code",
   "source": [
    "# 结合用户画像\n",
    "user_factors = np.dot(U, sigma)  # 用户矩阵\n",
    "user_factors_df = pd.DataFrame(user_factors, index=rating_matrix.index)\n",
    "user_factors_combined = user_factors_df.join(user_profile)\n",
    "\n",
    "# 调整评分矩阵\n",
    "adjusted_user_factors = user_factors_combined.apply(\n",
    "    lambda x: x * (1 + x['Previous Purchases']) * (1 + x['Frequency of Purchases']) * x['Average Rating'], axis=1\n",
    ")\n",
    "adjusted_user_factors = adjusted_user_factors.drop(['Previous Purchases', 'Frequency of Purchases', 'Average Rating'], axis=1)\n",
    "\n",
    "# 预测调整后的评分\n",
    "adjusted_predicted_ratings = np.dot(adjusted_user_factors, Vt) + user_ratings_mean.values.reshape(-1, 1)\n",
    "adjusted_predicted_ratings_df = pd.DataFrame(adjusted_predicted_ratings, columns=rating_matrix.columns, index=rating_matrix.index)"
   ],
   "id": "d1cd9cd8a4ae500f",
   "outputs": [],
   "execution_count": null
  },
  {
   "metadata": {},
   "cell_type": "code",
   "source": [
    "def Recommendation_System(user_id,num_recommendations=5):\n",
    "    adjusted_recommended_items = adjusted_predicted_ratings_df.loc[user_id].sort_values(ascending=False).head(num_recommendations)\n",
    "    print(adjusted_recommended_items)"
   ],
   "id": "ed2dc6b798d29f4a",
   "outputs": [],
   "execution_count": null
  },
  {
   "metadata": {},
   "cell_type": "code",
   "source": [
    "Recommendation_System('1')\n",
    "print('-'*50)\n",
    "Recommendation_System('15')\n",
    "print('-'*50)\n",
    "Recommendation_System('20')\n",
    "print('-'*50)\n",
    "Recommendation_System('25')"
   ],
   "id": "fa672642ab003255",
   "outputs": [],
   "execution_count": null
  },
  {
   "metadata": {},
   "cell_type": "markdown",
   "source": "通过推荐系统，这里给'1'号客户推荐(女式)短上衣（Blouse），给'15'号客户推荐外套（Coat）、袜子（Socks）和男士衬衣（Shirt），给'20'号客户推荐裤子（Pants），给'25'号客户推荐夹克（Jacket）。",
   "id": "f6e10c9e188c3d5c"
  },
  {
   "metadata": {},
   "cell_type": "code",
   "source": [
    "import random\n",
    "\n",
    "customer_id_range = range(1, 1001)\n",
    "\n",
    "# 随机选择五个客户 ID\n",
    "random_customers = random.sample(customer_id_range, 15)\n",
    "\n",
    "# 对随机选择的客户进行推荐系统测试\n",
    "for customer_id in random_customers:\n",
    "    Recommendation_System(str(customer_id))\n",
    "    print('-' * 50)"
   ],
   "id": "cec971e83a31ddfb",
   "outputs": [],
   "execution_count": null
  },
  {
   "metadata": {},
   "cell_type": "markdown",
   "source": "再次经过随机验证表明我们的推荐系统是可行的。",
   "id": "c54548ad05d308fa"
  },
  {
   "metadata": {},
   "cell_type": "code",
   "source": "",
   "id": "30cb2d5878b651ea",
   "outputs": [],
   "execution_count": null
  }
 ],
 "metadata": {
  "kernelspec": {
   "display_name": "Python 3",
   "language": "python",
   "name": "python3"
  },
  "language_info": {
   "codemirror_mode": {
    "name": "ipython",
    "version": 2
   },
   "file_extension": ".py",
   "mimetype": "text/x-python",
   "name": "python",
   "nbconvert_exporter": "python",
   "pygments_lexer": "ipython2",
   "version": "2.7.6"
  }
 },
 "nbformat": 4,
 "nbformat_minor": 5
}
