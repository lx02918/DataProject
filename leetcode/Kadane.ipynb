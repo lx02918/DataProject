{
 "cells": [
  {
   "cell_type": "code",
   "execution_count": null,
   "id": "initial_id",
   "metadata": {
    "collapsed": true
   },
   "outputs": [],
   "source": [
    "# 53 最大子数组和\n",
    "class Solution:\n",
    "    def maxSubArray(self, nums: List[int]) -> int:\n",
    "        n = len(nums)\n",
    "        if n == 0:\n",
    "            return 0\n",
    "        dp = [0] * n\n",
    "        dp[0] = nums[0]\n",
    "        for i in range(1, n):\n",
    "            dp[i] = max(nums[i], nums[i] + dp[i - 1])\n",
    "        res = float('-inf')\n",
    "        for i in range(n):\n",
    "            res = max(res, dp[i])\n",
    "        return res"
   ]
  },
  {
   "metadata": {},
   "cell_type": "code",
   "outputs": [],
   "execution_count": null,
   "source": [
    "# 918 环形子数组的最大和\n",
    "class Solution:\n",
    "    def maxSubarraySumCircular(self, nums: List[int]) -> int:\n",
    "        n = len(nums)\n",
    "        if n == 0:\n",
    "            return 0\n",
    "        max_sum = float('-inf')\n",
    "        current_max = 0\n",
    "        for num in nums:\n",
    "            current_max = max(num, current_max + num)\n",
    "            max_sum = max(max_sum, current_max)\n",
    "        min_sum = float('inf')\n",
    "        current_min = 0\n",
    "        res = 0\n",
    "        for num in nums:\n",
    "            res += num\n",
    "            current_min = min(num, current_min + num)\n",
    "            min_sum = min(min_sum, current_min)\n",
    "        \n",
    "        if max_sum > 0:\n",
    "            return max(max_sum, res - min_sum)\n",
    "        else:\n",
    "            return max_sum\n",
    "    "
   ],
   "id": "aa79cf892c3f731c"
  }
 ],
 "metadata": {
  "kernelspec": {
   "display_name": "Python 3",
   "language": "python",
   "name": "python3"
  },
  "language_info": {
   "codemirror_mode": {
    "name": "ipython",
    "version": 2
   },
   "file_extension": ".py",
   "mimetype": "text/x-python",
   "name": "python",
   "nbconvert_exporter": "python",
   "pygments_lexer": "ipython2",
   "version": "2.7.6"
  }
 },
 "nbformat": 4,
 "nbformat_minor": 5
}
