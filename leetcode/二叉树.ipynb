{
 "cells": [
  {
   "cell_type": "code",
   "execution_count": null,
   "id": "initial_id",
   "metadata": {
    "collapsed": true
   },
   "outputs": [],
   "source": [
    "from idlelib.tree import TreeNode\n",
    "\n",
    "from sympy import rootof\n",
    "\n",
    "\n",
    "# 104 二叉树的最大深度\n",
    "class Solution:\n",
    "    def maxDepth(self, root: Optional[TreeNode]) -> int:\n",
    "        if not root:\n",
    "            return 0\n",
    "        return 1 + max(self.maxDepth(root.left), self.maxDepth(root.right))"
   ]
  },
  {
   "metadata": {},
   "cell_type": "code",
   "outputs": [],
   "execution_count": null,
   "source": [
    "# 100 相同的树\n",
    "class Solution:\n",
    "    def isSameTree(self, p: Optional[TreeNode], q: Optional[TreeNode]) -> bool:\n",
    "        if not p and not q:\n",
    "            return True\n",
    "        if not p or not q:\n",
    "            return False\n",
    "        if p.val != q.val:\n",
    "            return False\n",
    "        return self.isSameTree(p.left, q.left) and self.isSameTree(p.right, q.right)"
   ],
   "id": "acce55d84f4e7c46"
  },
  {
   "metadata": {},
   "cell_type": "code",
   "outputs": [],
   "execution_count": null,
   "source": [
    "# 226 翻转二叉树\n",
    "class Solution:\n",
    "    def invertTree(self, root: Optional[TreeNode]) -> Optional[TreeNode]:\n",
    "        if not root:\n",
    "            return None\n",
    "        root.left, root.right = root.right, root.left\n",
    "        self.invertTree(root.left)\n",
    "        self.invertTree(root.right)\n",
    "        return root"
   ],
   "id": "56efb19e625de5ee"
  },
  {
   "metadata": {},
   "cell_type": "code",
   "outputs": [],
   "execution_count": null,
   "source": [
    "# 101 对称二叉树\n",
    "class Solution:\n",
    "    def isSymmetric(self, root: Optional[TreeNode]) -> bool:\n",
    "        if not root:\n",
    "            return True\n",
    "        def isMirror(left, right):\n",
    "            if not left and not right:\n",
    "                return True\n",
    "            if not left or not right or left.val != right.val:\n",
    "                return False\n",
    "            return isMirror(left.left, right.right) and isMirror(left.right, right.left)\n",
    "        return isMirror(root.left, root.right)"
   ],
   "id": "14fa558ee0057844"
  },
  {
   "metadata": {},
   "cell_type": "code",
   "outputs": [],
   "execution_count": null,
   "source": [
    "# 105 从前序与中序遍历序列构造二叉树\n",
    "class Solution:\n",
    "    def buildTree(self, preorder: List[int], inorder: List[int]) -> Optional[TreeNode]:\n",
    "        if not preorder or not inorder:\n",
    "            return None\n",
    "        root = TreeNode(preorder[0])\n",
    "        mid = inorder.index(preorder[0])\n",
    "        root.left = self.buildTree(preorder[1 : mid + 1], inorder[: mid])\n",
    "        root.right = self.buildTree(preorder[mid + 1 :], inorder[mid + 1 :])\n",
    "        return root"
   ],
   "id": "8f1307d19106df2f"
  },
  {
   "metadata": {},
   "cell_type": "code",
   "outputs": [],
   "execution_count": null,
   "source": [
    "# 106 从中序与后序遍历序列构造二叉树\n",
    "class Solution:\n",
    "    def buildTree(self, inorder: List[int], postorder: List[int]) -> Optional[TreeNode]:\n",
    "        if not inorder or not postorder:\n",
    "            return None\n",
    "        root = TreeNode(postorder[-1])\n",
    "        mid = inorder.index(postorder[-1])\n",
    "        root.left = self.buildTree(inorder[: mid], postorder[: mid])\n",
    "        root.right = self.buildTree(inorder[mid + 1 : ], postorder[mid : -1])\n",
    "        return root"
   ],
   "id": "47ad283420b4d27e"
  },
  {
   "metadata": {},
   "cell_type": "code",
   "outputs": [],
   "execution_count": null,
   "source": [
    "# 117 填充每个节点的下一个右侧节点指针 II\n",
    "class Solution:\n",
    "    def connect(self, root: 'Node') -> 'Node':\n",
    "        if not root:\n",
    "            return root\n",
    "        queue = [root]\n",
    "        while queue:\n",
    "            next_queue = []\n",
    "            for node in queue:\n",
    "                if node.left:\n",
    "                    next_queue.append(node.left)\n",
    "                if node.right:\n",
    "                    next_queue.append(node.right)\n",
    "            for i in range(len(queue) - 1):\n",
    "                queue[i].next = queue[i + 1]\n",
    "            queue = next_queue\n",
    "        return root"
   ],
   "id": "83e3d1d64b06993c"
  },
  {
   "metadata": {},
   "cell_type": "code",
   "outputs": [],
   "execution_count": null,
   "source": [
    "# 114 二叉树展开为链表\n",
    "class Solution:\n",
    "    def flatten(self, root: Optional[TreeNode]) -> None:\n",
    "        if not root:\n",
    "            return root\n",
    "        self.flatten(root.left)\n",
    "        self.flatten(root.right)\n",
    "        \n",
    "        left = root.left\n",
    "        right = root.right\n",
    "        \n",
    "        root.left = None\n",
    "        root.right = left\n",
    "        \n",
    "        p = root\n",
    "        while p.right:\n",
    "            p = p.right\n",
    "        p.right = right\n",
    "            \n",
    "        return root"
   ],
   "id": "51c65126c3e2ee09"
  },
  {
   "metadata": {},
   "cell_type": "code",
   "outputs": [],
   "execution_count": null,
   "source": [
    "# 112 路径总和\n",
    "class Solution:\n",
    "    def hasPathSum(self, root: Optional[TreeNode], targetSum: int) -> bool:\n",
    "        if not root:\n",
    "            return False\n",
    "        if not root.left and not root.right and root.val == targetSum:\n",
    "            return True\n",
    "        return self.hasPathSum(root.left, targetSum - root.val) or self.hasPathSum(root.right, targetSum - root.val)"
   ],
   "id": "ea48a9eaf5fea7cc"
  },
  {
   "metadata": {},
   "cell_type": "code",
   "outputs": [],
   "execution_count": null,
   "source": [
    "# 129 求根节点到叶子节点数字之和\n",
    "class Solution:\n",
    "    def sumNumbers(self, root: Optional[TreeNode]) -> int:\n",
    "        def dfs(node, path):\n",
    "            if node is None:\n",
    "                return\n",
    "            path = path * 10 + node.val\n",
    "            if not node.left and not node.right:\n",
    "                self.ans += path\n",
    "            dfs(node.left, path)\n",
    "            dfs(node.right, path)\n",
    "                \n",
    "        self.ans = 0\n",
    "        dfs(root, 0)\n",
    "        return self.ans"
   ],
   "id": "b3e9fda3607cf1f4"
  },
  {
   "metadata": {},
   "cell_type": "code",
   "outputs": [],
   "execution_count": null,
   "source": [
    "# 124 二叉树中的最大路径和\n",
    "class Solution:\n",
    "    def maxPathSum(self, root: Optional[TreeNode]) -> int:\n",
    "        self.ans = float('-inf')\n",
    "        def dfs(node):\n",
    "            if not node:\n",
    "                return 0\n",
    "            left = max(dfs(node.left), 0)\n",
    "            right = max(dfs(node.right), 0)\n",
    "            self.ans = max(self.ans, node.val + left + right)\n",
    "            return node.val + max(left, right)\n",
    "        dfs(root)\n",
    "        return self.ans"
   ],
   "id": "77367be8af9d52a8"
  },
  {
   "metadata": {},
   "cell_type": "code",
   "outputs": [],
   "execution_count": null,
   "source": [
    "# 173 二叉搜索树迭代器\n",
    "class BSTIterator:\n",
    "\n",
    "    def __init__(self, root: Optional[TreeNode]):\n",
    "        self.queue = collections.deque()\n",
    "        self.inOrder(root)\n",
    "    def inOrder(self, root):\n",
    "        if not root: return \n",
    "        self.inOrder(root.left)\n",
    "        self.queue.append(root.val)\n",
    "        self.inOrder(root.right)\n",
    "\n",
    "    def next(self) -> int:\n",
    "        return self.queue.popleft()\n",
    "\n",
    "    def hasNext(self) -> bool:\n",
    "        return len(self.queue) > 0"
   ],
   "id": "394f98d2e7065060"
  },
  {
   "metadata": {},
   "cell_type": "code",
   "outputs": [],
   "execution_count": null,
   "source": [
    "# 222 完全二叉树的节点个数\n",
    "class Solution:\n",
    "    def countNodes(self, root: Optional[TreeNode]) -> int:\n",
    "        if not root:\n",
    "            return 0\n",
    "        return 1 + self.countNodes(root.left) + self.countNodes(root.right)"
   ],
   "id": "749159c4892ffa0d"
  },
  {
   "metadata": {},
   "cell_type": "code",
   "outputs": [],
   "execution_count": null,
   "source": [
    "# 236 二叉树的最近公共祖先\n",
    "class Solution:\n",
    "    def lowestCommonAncestor(self, root: 'TreeNode', p: 'TreeNode', q: 'TreeNode') -> 'TreeNode':\n",
    "        if not root or root == p or root == q: return root\n",
    "        left = self.lowestCommonAncestor(root.left, p, q)\n",
    "        right = self.lowestCommonAncestor(root.right, p, q)\n",
    "        if left and right:\n",
    "            return root\n",
    "        return left if left else right"
   ],
   "id": "7b7672a05108b9d3"
  }
 ],
 "metadata": {
  "kernelspec": {
   "display_name": "Python 3",
   "language": "python",
   "name": "python3"
  },
  "language_info": {
   "codemirror_mode": {
    "name": "ipython",
    "version": 2
   },
   "file_extension": ".py",
   "mimetype": "text/x-python",
   "name": "python",
   "nbconvert_exporter": "python",
   "pygments_lexer": "ipython2",
   "version": "2.7.6"
  }
 },
 "nbformat": 4,
 "nbformat_minor": 5
}
