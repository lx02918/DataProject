{
 "cells": [
  {
   "cell_type": "code",
   "execution_count": null,
   "id": "initial_id",
   "metadata": {
    "collapsed": true
   },
   "outputs": [],
   "source": [
    "# 530 二叉搜索树的最小绝对差\n",
    "class Solution:\n",
    "    def getMinimumDifference(self, root: Optional[TreeNode]) -> int:\n",
    "        def dfs(node):\n",
    "            if not node:\n",
    "                return\n",
    "            dfs(node.left)\n",
    "            self.res = min(self.res, node.val - self.pre)\n",
    "            self.pre = node.val\n",
    "            dfs(node.right)\n",
    "\n",
    "        self.res = float('inf')\n",
    "        self.pre = float('-inf')\n",
    "        dfs(root)\n",
    "        return self.res"
   ]
  },
  {
   "metadata": {},
   "cell_type": "code",
   "outputs": [],
   "execution_count": null,
   "source": [
    "# 230 二叉搜索树的最小差值\n",
    "class Solution:\n",
    "    def kthSmallest(self, root: Optional[TreeNode], k: int) -> int:\n",
    "        def dfs(root):\n",
    "            if not root: return\n",
    "            dfs(root.left)\n",
    "            if self.k == 0: return\n",
    "            self.k -= 1\n",
    "            if self.k == 0: self.res = root.val\n",
    "            dfs(root.right)\n",
    "            \n",
    "        self.k = k\n",
    "        dfs(root)\n",
    "        return self.res"
   ],
   "id": "c58c37de3829512d"
  },
  {
   "metadata": {},
   "cell_type": "code",
   "outputs": [],
   "execution_count": null,
   "source": [
    "# 98 验证二叉搜索树\n",
    "class Solution:\n",
    "    def isValidBST(self, root: Optional[TreeNode]) -> bool:\n",
    "        def dfs(node, l = float('-inf'), r = float('inf')) -> bool:\n",
    "            if not node:\n",
    "                return True\n",
    "            pre = node.val\n",
    "            if pre <= l or pre >= r:\n",
    "                return False\n",
    "            if not dfs(node.left, l, pre):\n",
    "                return False\n",
    "            if not dfs(node.right, pre, r):\n",
    "                return False\n",
    "            return True\n",
    "        return dfs(root)"
   ],
   "id": "b9b6c2d48b29dea1"
  }
 ],
 "metadata": {
  "kernelspec": {
   "display_name": "Python 3",
   "language": "python",
   "name": "python3"
  },
  "language_info": {
   "codemirror_mode": {
    "name": "ipython",
    "version": 2
   },
   "file_extension": ".py",
   "mimetype": "text/x-python",
   "name": "python",
   "nbconvert_exporter": "python",
   "pygments_lexer": "ipython2",
   "version": "2.7.6"
  }
 },
 "nbformat": 4,
 "nbformat_minor": 5
}
