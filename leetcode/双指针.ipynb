{
 "cells": [
  {
   "cell_type": "code",
   "execution_count": null,
   "id": "initial_id",
   "metadata": {
    "collapsed": true
   },
   "outputs": [],
   "source": [
    "# 128 验证回文串\n",
    "class Solution:\n",
    "    def isPalindrome(self, s: str) -> bool:\n",
    "        s = s.lower()\n",
    "        left, right = 0, len(s) - 1\n",
    "        while left < right:\n",
    "            while left < len(s) - 1 and not s[left].isalnum():\n",
    "                left += 1\n",
    "            while right > 0 and not s[right].isalnum():\n",
    "                right -= 1\n",
    "            if left > right:\n",
    "                break\n",
    "            else:\n",
    "                if s[left] != s[right]:\n",
    "                    return False\n",
    "                else:\n",
    "                    left += 1\n",
    "                    right -= 1\n",
    "        return True      "
   ]
  },
  {
   "metadata": {},
   "cell_type": "code",
   "outputs": [],
   "execution_count": null,
   "source": [
    "# 392 判断子序列\n",
    "class Solution:\n",
    "    def isSubsequence(self, s: str, t: str) -> bool:\n",
    "        if not s: return True\n",
    "        i = 0\n",
    "        for j in t:\n",
    "            if s[i] == j:\n",
    "                i += 1\n",
    "                if i == len(s):\n",
    "                    return True\n",
    "        return False"
   ],
   "id": "a21669092ee9d2f0"
  },
  {
   "metadata": {},
   "cell_type": "code",
   "outputs": [],
   "execution_count": null,
   "source": [
    "# 167 两数之和 II - 输入有序数组\n",
    "class Solution:\n",
    "    def twoSum(self, numbers: List[int], target: int) -> List[int]:\n",
    "        i, j = 0, len(numbers) - 1\n",
    "        while i < j:\n",
    "            s = numbers[i] + numbers[j]\n",
    "            if s > target: j -= 1\n",
    "            elif s < target: i += 1\n",
    "            else: return [i + 1, j + 1]\n",
    "        return []"
   ],
   "id": "df416f6689e84eb7"
  },
  {
   "metadata": {},
   "cell_type": "code",
   "outputs": [],
   "execution_count": null,
   "source": [
    "# 11 盛水最多的容器\n",
    "class Solution:\n",
    "    def maxArea(self, height: List[int]) -> int:\n",
    "        left, right, res = 0, len(height) - 1, 0\n",
    "        while left < right:\n",
    "            if height[left] < height[right]:\n",
    "                res = max(res, height[left] * (right - left))\n",
    "                left += 1\n",
    "            else:\n",
    "                res = max(res, height[right] * (right - left))\n",
    "                right -= 1\n",
    "        return res"
   ],
   "id": "1f9769d503f07d6b"
  },
  {
   "metadata": {},
   "cell_type": "code",
   "outputs": [],
   "execution_count": null,
   "source": [
    "# 15 三数之和\n",
    "class Solution:\n",
    "    def threeSum(self, nums: List[int]) -> List[List[int]]:\n",
    "        nums.sort()\n",
    "        res = []\n",
    "        i = 0\n",
    "        for i in range(len(nums) - 2):\n",
    "            if i > 0 and nums[i] == nums[i - 1]: continue\n",
    "            j, k = i + 1, len(nums) - 1\n",
    "            while j < k:\n",
    "                s = nums[i] + nums[j] + nums[k]\n",
    "                if s < 0:\n",
    "                    j += 1\n",
    "                    while j < k and nums[j] == nums[j - 1]: j += 1\n",
    "                elif s > 0:\n",
    "                    k -= 1\n",
    "                    while j < k and nums[k] == nums[k + 1]: k -= 1\n",
    "                else:\n",
    "                    res.append([nums[i], nums[j], nums[k]])\n",
    "                    j += 1\n",
    "                    k -= 1\n",
    "                    while j < k and nums[j] == nums[j - 1]: j += 1\n",
    "                    while j < k and nums[k] == nums[k + 1]: k -= 1\n",
    "        return res"
   ],
   "id": "71a0d4de845579cb"
  },
  {
   "metadata": {},
   "cell_type": "code",
   "outputs": [],
   "execution_count": null,
   "source": "",
   "id": "a62d7238b757e24"
  }
 ],
 "metadata": {
  "kernelspec": {
   "display_name": "Python 3",
   "language": "python",
   "name": "python3"
  },
  "language_info": {
   "codemirror_mode": {
    "name": "ipython",
    "version": 2
   },
   "file_extension": ".py",
   "mimetype": "text/x-python",
   "name": "python",
   "nbconvert_exporter": "python",
   "pygments_lexer": "ipython2",
   "version": "2.7.6"
  }
 },
 "nbformat": 4,
 "nbformat_minor": 5
}
