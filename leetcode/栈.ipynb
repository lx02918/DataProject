{
 "cells": [
  {
   "cell_type": "code",
   "execution_count": null,
   "id": "initial_id",
   "metadata": {
    "collapsed": true
   },
   "outputs": [],
   "source": [
    "# 20 有效的括号\n",
    "class Solution:\n",
    "    def isValid(self, s: str) -> bool:\n",
    "        stack = []\n",
    "        dic = {'(':')', '[':']', '{':'}'}\n",
    "        for i in s:\n",
    "            if i in dic:\n",
    "                stack.append(i)\n",
    "            elif len(stack) == 0 or dic[stack.pop()] != i:\n",
    "                return False\n",
    "        return len(stack) == 0"
   ]
  },
  {
   "metadata": {},
   "cell_type": "code",
   "outputs": [],
   "execution_count": null,
   "source": [
    "# 71 简化路径\n",
    "class Solution:\n",
    "    def simplifyPath(self, path: str) -> str:\n",
    "        stack = []\n",
    "        for i in path.split('/'):\n",
    "            if i == '..' and stack:\n",
    "                stack.pop()\n",
    "            elif i not in ['', '.', '..']:\n",
    "                stack.append(i)\n",
    "        return '/' + '/'.join(stack)"
   ],
   "id": "e8c73987f1448dad"
  },
  {
   "metadata": {},
   "cell_type": "code",
   "outputs": [],
   "execution_count": null,
   "source": [
    "# 155 最小栈\n",
    "class MinStack:\n",
    "\n",
    "    def __init__(self):\n",
    "        self.stack = []\n",
    "        self.min_stack = []\n",
    "\n",
    "    def push(self, val: int) -> None:\n",
    "        self.stack.append(val)\n",
    "        if not self.min_stack or val <= self.min_stack[-1]:\n",
    "            self.min_stack.append(val)\n",
    "\n",
    "    def pop(self) -> None:\n",
    "        x = self.stack.pop()\n",
    "        if x == self.min_stack[-1]:\n",
    "            self.min_stack.pop()\n",
    "\n",
    "    def top(self) -> int:\n",
    "        \n",
    "        return self.stack[-1]\n",
    "\n",
    "    def getMin(self) -> int:\n",
    "        return self.min_stack[-1]"
   ],
   "id": "d2cd17ea9d3b5359"
  },
  {
   "metadata": {},
   "cell_type": "code",
   "outputs": [],
   "execution_count": null,
   "source": [
    "# 150 逆波兰表达式求值\n",
    "class Solution:\n",
    "    def evalRPN(self, tokens: List[str]) -> int:\n",
    "        stack = []\n",
    "        dic = {'+':lambda x,y:x+y, '-':lambda x,y:x-y, '*':lambda x,y:x*y, '/':lambda x,y:int(x/y)}\n",
    "        for token in tokens:\n",
    "            if token in dic:\n",
    "                y = stack.pop()\n",
    "                x = stack.pop()\n",
    "                stack.append(dic[token](x,y))\n",
    "            else:\n",
    "                stack.append(int(token))\n",
    "        return stack[0]"
   ],
   "id": "fdd27500b0e4807e"
  },
  {
   "metadata": {},
   "cell_type": "code",
   "outputs": [],
   "execution_count": null,
   "source": [
    "# 224 基本计算器\n",
    "class Solution:\n",
    "    def calculate(self, s: str) -> int:\n",
    "        stack = []\n",
    "        num = 0\n",
    "        sign = 1  # 1表示加号，-1表示减号\n",
    "        result = 0\n",
    "        \n",
    "        for char in s:\n",
    "            if char.isdigit():\n",
    "                num = num * 10 + int(char)\n",
    "            elif char == '+':\n",
    "                result += sign * num\n",
    "                num = 0\n",
    "                sign = 1\n",
    "            elif char == '-':\n",
    "                result += sign * num\n",
    "                num = 0\n",
    "                sign = -1\n",
    "            elif char == '(':\n",
    "                stack.append(result)\n",
    "                stack.append(sign)\n",
    "                result = 0\n",
    "                sign = 1\n",
    "            elif char == ')':\n",
    "                result += sign * num\n",
    "                num = 0\n",
    "                result *= stack.pop()  # 乘以括号前的符号\n",
    "                result += stack.pop()  # 加上括号前的结果\n",
    "        \n",
    "        # 处理最后一个数字\n",
    "        result += sign * num\n",
    "        \n",
    "        return result"
   ],
   "id": "5146bc696e4437a4"
  }
 ],
 "metadata": {
  "kernelspec": {
   "display_name": "Python 3",
   "language": "python",
   "name": "python3"
  },
  "language_info": {
   "codemirror_mode": {
    "name": "ipython",
    "version": 2
   },
   "file_extension": ".py",
   "mimetype": "text/x-python",
   "name": "python",
   "nbconvert_exporter": "python",
   "pygments_lexer": "ipython2",
   "version": "2.7.6"
  }
 },
 "nbformat": 4,
 "nbformat_minor": 5
}
