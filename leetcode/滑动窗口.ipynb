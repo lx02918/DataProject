{
 "cells": [
  {
   "cell_type": "code",
   "execution_count": null,
   "id": "initial_id",
   "metadata": {
    "collapsed": true
   },
   "outputs": [],
   "source": [
    "# 209 长度最小的子数组\n",
    "class Solution:\n",
    "    def minSubArrayLen(self, target:int, nums: List[int]) -> int:\n",
    "        if not nums: return 0\n",
    "        n = len(nums)\n",
    "        ans = n + 1\n",
    "        start, end = 0, 0\n",
    "        total = 0\n",
    "        while end < n:\n",
    "            total += nums[end]\n",
    "            while total >= target:\n",
    "                ans = min(ans, end - start + 1)\n",
    "                total -= nums[start]\n",
    "                start += 1\n",
    "            end += 1\n",
    "        return 0 if ans == n + 1 else ans"
   ]
  },
  {
   "metadata": {},
   "cell_type": "code",
   "outputs": [],
   "execution_count": null,
   "source": [
    "# 3 无重复字符的最长字串\n",
    "class Solution:\n",
    "    def lengthOfLongestSubstring(self, s: str) -> int:\n",
    "        if not s: return 0\n",
    "        n = len(s)\n",
    "        ans = 0\n",
    "        mp = {}\n",
    "        j = 0\n",
    "        for i in range(n):\n",
    "            if s[i] in mp:\n",
    "                j = max(mp[s[i]], j)\n",
    "            ans = max(ans, i - j + 1)\n",
    "            mp[s[i]] = i + 1\n",
    "        return ans"
   ],
   "id": "fd3dfffdabd7850e"
  },
  {
   "metadata": {},
   "cell_type": "code",
   "outputs": [],
   "execution_count": null,
   "source": [
    "# 30 串联所有单词的子串\n",
    "class Solution:\n",
    "    def findSubstring(self, s: str, words: List[str]) -> List[int]:\n",
    "        if not s or not words:\n",
    "            return []\n",
    "\n",
    "        word_len = len(words[0])\n",
    "        word_count = len(words)\n",
    "        total_len = word_len * word_count\n",
    "        word_map = Counter(words)\n",
    "        ans = []\n",
    "\n",
    "        for i in range(word_len):\n",
    "            left = i\n",
    "            right = i\n",
    "            cur_map = Counter()\n",
    "            while right + word_len <= len(s):\n",
    "                word = s[right:right + word_len]\n",
    "                right += word_len\n",
    "                if word in word_map:\n",
    "                    cur_map[word] += 1\n",
    "                    while cur_map[word] > word_map[word]:\n",
    "                        cur_map[s[left:left + word_len]] -= 1\n",
    "                        left += word_len\n",
    "                    if right - left == total_len:\n",
    "                        ans.append(left)\n",
    "                else:\n",
    "                    cur_map.clear()\n",
    "                    left = right\n",
    "\n",
    "        return ans"
   ],
   "id": "32d92bd1a0d61ea5"
  },
  {
   "metadata": {},
   "cell_type": "code",
   "outputs": [],
   "execution_count": null,
   "source": [
    "# 76 最小覆盖子串\n",
    "class Solution:\n",
    "    def minWindow(self, s: str, t: str) -> str:\n",
    "        if not s or not t: return \"\"\n",
    "        need = Counter(t)\n",
    "        missing = len(t)\n",
    "        left = start = 0\n",
    "        min_len = float('inf')\n",
    "        ans = \"\"\n",
    "        \n",
    "        for right, char in enumerate(s, 1):\n",
    "            if need[char] > 0:\n",
    "                missing -= 1\n",
    "            need[char] -= 1\n",
    "            \n",
    "            if missing == 0:\n",
    "                while left < right and need[s[left]] < 0:\n",
    "                    need[s[left]] += 1\n",
    "                    left += 1\n",
    "                    \n",
    "                if right - left < min_len:\n",
    "                    min_len = right - left\n",
    "                    ans = s[left:right]\n",
    "                    \n",
    "                need[s[left]] += 1\n",
    "                left += 1\n",
    "                missing += 1\n",
    "        return ans"
   ],
   "id": "f686373d77718bd3"
  }
 ],
 "metadata": {
  "kernelspec": {
   "display_name": "Python 3",
   "language": "python",
   "name": "python3"
  },
  "language_info": {
   "codemirror_mode": {
    "name": "ipython",
    "version": 2
   },
   "file_extension": ".py",
   "mimetype": "text/x-python",
   "name": "python",
   "nbconvert_exporter": "python",
   "pygments_lexer": "ipython2",
   "version": "2.7.6"
  }
 },
 "nbformat": 4,
 "nbformat_minor": 5
}
