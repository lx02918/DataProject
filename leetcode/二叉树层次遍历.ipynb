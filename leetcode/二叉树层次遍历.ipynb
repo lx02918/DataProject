{
 "cells": [
  {
   "cell_type": "code",
   "execution_count": null,
   "id": "initial_id",
   "metadata": {
    "collapsed": true
   },
   "outputs": [],
   "source": [
    "# 199 二叉树的右视图\n",
    "class Solution:\n",
    "    def rightSideView(self, root: Optional[TreeNode]) -> List[int]:\n",
    "        if not root:\n",
    "            return []\n",
    "        res = []\n",
    "        def dfs(node, depth):\n",
    "            if not node:\n",
    "                return\n",
    "            if depth == len(res):\n",
    "                res.append(node.val)\n",
    "            dfs(node.right, depth + 1)\n",
    "            dfs(node.left, depth + 1)\n",
    "        dfs(root, 0)\n",
    "        return res"
   ]
  },
  {
   "metadata": {},
   "cell_type": "code",
   "outputs": [],
   "execution_count": null,
   "source": [
    "# 637 二叉树的层平均值\n",
    "# 原始\n",
    "class Solution:\n",
    "    def averageOfLevels(self, root: Optional[TreeNode]) -> List[float]:\n",
    "        if not root:\n",
    "            return []\n",
    "        res = []\n",
    "        queue = [root]\n",
    "        while queue:\n",
    "            sum = 0\n",
    "            childNode = []\n",
    "            cnt = len(queue)\n",
    "            for node in queue:\n",
    "                sum += node.val\n",
    "            res.append(sum/cnt)\n",
    "            for node in queue:\n",
    "                if node.left:\n",
    "                    childNode.append(node.left)\n",
    "                if node.right:\n",
    "                    childNode.append(node.right)\n",
    "            queue = childNode\n",
    "        return res\n",
    "# 优化\n",
    "class Solution:\n",
    "    def averageOfLevels(self, root: Optional[TreeNode]) -> List[float]:\n",
    "        if not root:\n",
    "            return []\n",
    "        res = []\n",
    "        queue = [root]\n",
    "        while queue:\n",
    "            sum = 0\n",
    "            cnt = len(queue)\n",
    "            for node in range(cnt):\n",
    "                node = queue.pop(0)\n",
    "                sum += node.val\n",
    "                if node.left:\n",
    "                    queue.append(node.left)\n",
    "                if node.right:\n",
    "                    queue.append(node.right)\n",
    "            res.append(sum/cnt)\n",
    "        return res"
   ],
   "id": "b7f484369c90c073"
  },
  {
   "metadata": {},
   "cell_type": "code",
   "outputs": [],
   "execution_count": null,
   "source": [
    "# 102 二叉树的层序遍历\n",
    "class Solution:\n",
    "    def levelOrder(self, root: Optional[TreeNode]) -> List[List[int]]:\n",
    "        if not root:\n",
    "            return []\n",
    "        res = []\n",
    "        queue = [root]\n",
    "        while queue:\n",
    "            res.append([])\n",
    "            for i in range(len(queue)):\n",
    "                node = queue.pop(0)\n",
    "                res[-1].append(node.val)\n",
    "                if node.left:\n",
    "                    queue.append(node.left)\n",
    "                if node.right:\n",
    "                    queue.append(node.right)\n",
    "        return res"
   ],
   "id": "59b41c1d5a5f229b"
  },
  {
   "metadata": {},
   "cell_type": "code",
   "outputs": [],
   "execution_count": null,
   "source": [
    "# 103 二叉树的锯齿形层序遍历\n",
    "class Solution:\n",
    "    def zigzagLevelOrder(self, root: Optional[TreeNode]) -> List[List[int]]:\n",
    "        if not root:\n",
    "            return []\n",
    "        res = []\n",
    "        queue = [root]\n",
    "        while queue:\n",
    "            res.append([])\n",
    "            for i in range(len(queue)):\n",
    "                node = queue.pop(0)\n",
    "                if len(res) % 2 == 1:\n",
    "                    res[-1].append(node.val)\n",
    "                else:\n",
    "                    res[-1].insert(0, node.val)\n",
    "                if node.left:\n",
    "                    queue.append(node.left)\n",
    "                if node.right:\n",
    "                    queue.append(node.right)\n",
    "        return res"
   ],
   "id": "30cc95bc95d8eaec"
  }
 ],
 "metadata": {
  "kernelspec": {
   "display_name": "Python 3",
   "language": "python",
   "name": "python3"
  },
  "language_info": {
   "codemirror_mode": {
    "name": "ipython",
    "version": 2
   },
   "file_extension": ".py",
   "mimetype": "text/x-python",
   "name": "python",
   "nbconvert_exporter": "python",
   "pygments_lexer": "ipython2",
   "version": "2.7.6"
  }
 },
 "nbformat": 4,
 "nbformat_minor": 5
}
