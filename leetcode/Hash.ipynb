{
 "cells": [
  {
   "cell_type": "code",
   "execution_count": null,
   "id": "initial_id",
   "metadata": {
    "collapsed": true
   },
   "outputs": [],
   "source": [
    "# 383 赎金信\n",
    "class Solution:\n",
    "    def canConstruct(self, ransomNote: str, magazine: str) -> bool:\n",
    "        cnt = Counter(magazine)\n",
    "        for c in ransomNote:\n",
    "            if c not in cnt or cnt[c] == 0:\n",
    "                return False\n",
    "            cnt[c] -= 1\n",
    "            \n",
    "        return True"
   ]
  },
  {
   "metadata": {},
   "cell_type": "code",
   "outputs": [],
   "execution_count": null,
   "source": [
    "# 205 同构字符串\n",
    "class Solution:\n",
    "    def isIsomorphic(self, s: str, t: str) -> bool:\n",
    "        h1 = {}\n",
    "        h2 = {}\n",
    "        for sc, tc in zip(s, t):\n",
    "            if (sc in h1 and h1[sc] != tc) or (tc in h2 and h2[tc] != sc):\n",
    "                return False\n",
    "            h1[sc] = tc\n",
    "            h2[tc] = sc\n",
    "        return True"
   ],
   "id": "227eb0f6eed65b2a"
  },
  {
   "metadata": {},
   "cell_type": "code",
   "outputs": [],
   "execution_count": null,
   "source": [
    "# 290 单词规律\n",
    "class Solution:\n",
    "    def wordPattern(self, pattern: str, s: str) -> bool:\n",
    "        words = s.split(\" \")\n",
    "        if len(pattern) != len(words):\n",
    "            return False\n",
    "        h1 = {}\n",
    "        h2 = {}\n",
    "        for i, word in zip(pattern, words):\n",
    "            if (i in h1 and h1[i] != word) or (word in h2 and h2[word] != i):\n",
    "                return False\n",
    "            h1[i] = word\n",
    "            h2[word] = i\n",
    "        return True"
   ],
   "id": "1f7c7d09439e4dbd"
  },
  {
   "metadata": {},
   "cell_type": "code",
   "outputs": [],
   "execution_count": null,
   "source": [
    "# 242 有效的字母异位词\n",
    "class Solution:\n",
    "    def isAnagram(self, s: str, t: str) -> bool:\n",
    "        if len(s) != len(t):\n",
    "            return False\n",
    "        dic = defaultdict(int)\n",
    "        for c in s:\n",
    "            dic[c] += 1\n",
    "        for c in t:\n",
    "            dic[c] -= 1\n",
    "        for val in dic.values():\n",
    "            if val != 0:\n",
    "                return False\n",
    "        return True\n",
    "# 新思路\n",
    "class Solution:\n",
    "    def isAnagram(self, s: str, t: str) -> bool:\n",
    "        if len(s) != len(t):\n",
    "            return False\n",
    "        char_count = {}\n",
    "        for char in s:\n",
    "            char_count[char] = char_count.get(char, 0) + 1\n",
    "        for char in t:\n",
    "            if char not in char_count:\n",
    "                return False\n",
    "            char_count[char] -= 1\n",
    "            if char_count[char] == 0:\n",
    "                del char_count[char]\n",
    "        return len(char_count) == 0"
   ],
   "id": "70ec3a3014175422"
  },
  {
   "metadata": {},
   "cell_type": "code",
   "outputs": [],
   "execution_count": null,
   "source": [
    "# 49 字母异位词分组\n",
    "class Solution:\n",
    "    def groupAnagrams(self, strs: List[str]) -> List[List[str]]:\n",
    "        dict = defaultdict(list)\n",
    "        for s in strs:\n",
    "            tmp = \"\".join(sorted(s))\n",
    "            if tmp in dict:\n",
    "                dict[tmp].append(s)\n",
    "            else:\n",
    "                dict[tmp] = [s]\n",
    "        return list(dict.values())"
   ],
   "id": "c4b6051802617d32"
  },
  {
   "metadata": {},
   "cell_type": "code",
   "outputs": [],
   "execution_count": null,
   "source": [
    "# 1 两数之和\n",
    "class Solution:\n",
    "    def twoSum(self, nums: List[int], target: int) -> List[int]:\n",
    "        for i in range(len(nums)):\n",
    "            for j in range(i+1, len(nums)):\n",
    "                if nums[i] + nums[j] == target:\n",
    "                    return [i, j]\n",
    "# hash\n",
    "class Solution:\n",
    "    def twoSum(self, nums: List[int], target: int) -> List[int]:\n",
    "        dic = {}\n",
    "        for i, num in enumerate(nums):\n",
    "            if target - num in dic:\n",
    "                return [dic[target-num], i]\n",
    "            dic[num] = i"
   ],
   "id": "12f40b8330205a3d"
  },
  {
   "metadata": {},
   "cell_type": "code",
   "outputs": [],
   "execution_count": null,
   "source": [
    "# 202 快乐数\n",
    "class Solution:\n",
    "    def isHappy(self, n: int) -> bool:\n",
    "        seen = set()\n",
    "        while n != 1 and n not in seen:\n",
    "            seen.add(n)\n",
    "            n = sum(int(i)**2 for i in str(n))\n",
    "        return n == 1"
   ],
   "id": "3a5445fd5bad6b2a"
  },
  {
   "metadata": {},
   "cell_type": "code",
   "outputs": [],
   "execution_count": null,
   "source": [
    "# 219 存在重复元素 II\n",
    "class Solution:\n",
    "    def containsNearbyDuplicate(self, nums: List[int], k: int) -> bool:\n",
    "        dic = {}\n",
    "        for i, num in enumerate(nums):\n",
    "            if num in dic and i - dic[num] <= k:\n",
    "                return True\n",
    "            dic[num] = i\n",
    "        return False"
   ],
   "id": "fa84b37f17169bac"
  },
  {
   "metadata": {},
   "cell_type": "code",
   "outputs": [],
   "execution_count": null,
   "source": [
    "# 128 最长连续序列\n",
    "class Solution:\n",
    "    def longestConsecutive(self, nums: List[int]) -> int:\n",
    "        if not nums:\n",
    "            return 0\n",
    "        res = 0\n",
    "        num_count = set(nums)\n",
    "        for num in num_count:\n",
    "            if (num - 1) not in num_count:\n",
    "                num_len = 1\n",
    "                while (num + 1) in num_count:\n",
    "                    num_len += 1\n",
    "                    num += 1\n",
    "                res = max(res, num_len)\n",
    "        return res"
   ],
   "id": "3913163996ce337d"
  }
 ],
 "metadata": {
  "kernelspec": {
   "display_name": "Python 3",
   "language": "python",
   "name": "python3"
  },
  "language_info": {
   "codemirror_mode": {
    "name": "ipython",
    "version": 2
   },
   "file_extension": ".py",
   "mimetype": "text/x-python",
   "name": "python",
   "nbconvert_exporter": "python",
   "pygments_lexer": "ipython2",
   "version": "2.7.6"
  }
 },
 "nbformat": 4,
 "nbformat_minor": 5
}
