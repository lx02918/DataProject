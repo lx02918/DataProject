{
 "cells": [
  {
   "cell_type": "code",
   "execution_count": null,
   "id": "initial_id",
   "metadata": {
    "collapsed": true
   },
   "outputs": [],
   "source": [
    "# 228 汇总区间\n",
    "class Solution:\n",
    "    def summaryRanges(self, nums: List[int]) -> List[str]:\n",
    "        def help_func(i: int, j: int) -> str:\n",
    "            return str(nums[i]) if i == j else str(nums[i]) + '->' + str(nums[j])\n",
    "        \n",
    "        i, n, ans = 0, len(nums), []\n",
    "        while i < n:\n",
    "            j = i\n",
    "            while j + 1 < n and nums[j + 1] == nums[j] + 1:\n",
    "                j += 1\n",
    "            ans.append(help_func(i, j))\n",
    "            i = j + 1\n",
    "        return ans"
   ]
  },
  {
   "metadata": {},
   "cell_type": "code",
   "outputs": [],
   "execution_count": null,
   "source": [
    "# 56 合并区间\n",
    "class Solution:\n",
    "    def merge(self, intervals: List[List[int]]) -> List[List[int]]:\n",
    "        intervals.sort()\n",
    "        ans = []\n",
    "        for i in intervals:\n",
    "            if ans and i[0] <= ans[-1][1]:\n",
    "                ans[-1][1] = max(ans[-1][1], i[1])\n",
    "            else:\n",
    "                ans.append(i)\n",
    "        return ans"
   ],
   "id": "f4b64f9482111817"
  },
  {
   "metadata": {},
   "cell_type": "code",
   "outputs": [],
   "execution_count": null,
   "source": [
    "# 57 插入区间\n",
    "class Solution:\n",
    "    def insert(self, intervals: List[List[int]], newInterval: List[int]) -> List[List[int]]:\n",
    "        intervals.append(newInterval)\n",
    "        intervals.sort()\n",
    "        ans = [intervals[0]]\n",
    "        for s, e in intervals[1:]:\n",
    "            if ans[-1][1] < s:\n",
    "                ans.append([s, e])\n",
    "            else:\n",
    "                ans[-1][1] = max(ans[-1][1], e)\n",
    "        return ans"
   ],
   "id": "b536bcef884680b1"
  },
  {
   "metadata": {},
   "cell_type": "code",
   "outputs": [],
   "execution_count": null,
   "source": [
    "# 452 用最少数量的箭引爆气球\n",
    "class Solution:\n",
    "    def findMinArrowShots(self, points: List[List[int]]) -> int:\n",
    "        points.sort()\n",
    "        arrow = 0\n",
    "        start, end = points[0][0], points[0][1] \n",
    "        for i in range(1, len(points)):\n",
    "            if start <= points[i][0] <= end:\n",
    "                start = max(start, points[i][0])\n",
    "                end = min(end, points[i][1])\n",
    "            else:\n",
    "                arrow += 1\n",
    "                start, end = points[i][0], points[i][1]\n",
    "        arrow += 1\n",
    "        return arrow"
   ],
   "id": "a776e69a5e271b72"
  }
 ],
 "metadata": {
  "kernelspec": {
   "display_name": "Python 3",
   "language": "python",
   "name": "python3"
  },
  "language_info": {
   "codemirror_mode": {
    "name": "ipython",
    "version": 2
   },
   "file_extension": ".py",
   "mimetype": "text/x-python",
   "name": "python",
   "nbconvert_exporter": "python",
   "pygments_lexer": "ipython2",
   "version": "2.7.6"
  }
 },
 "nbformat": 4,
 "nbformat_minor": 5
}
