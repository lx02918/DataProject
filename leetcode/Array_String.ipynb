{
 "cells": [
  {
   "cell_type": "code",
   "id": "initial_id",
   "metadata": {
    "collapsed": true
   },
   "source": [
    "# 88 合并两个有序数组\n",
    "class Solution:\n",
    "    def merge(self, nums1: List[int], m: int, nums2: List[int], n: int) -> None:\n",
    "        p1, p2, p = m - 1, n - 1, m + n -1\n",
    "        while p2 >= 0:\n",
    "            if p1 >= 0 and nums1[p1] > nums2[p2]:\n",
    "                nums1[p] = nums1[p1]\n",
    "                p1 -= 1\n",
    "            else:\n",
    "                nums1[p] = nums2[p2]\n",
    "                p2 -= 1\n",
    "            p -= 1"
   ],
   "outputs": [],
   "execution_count": null
  },
  {
   "metadata": {},
   "cell_type": "code",
   "source": [
    "# 27 移除元素\n",
    "class Solution:\n",
    "    def removeElement(self, nums: List[int], val: int) -> int:\n",
    "        k = 0\n",
    "        for x in nums:\n",
    "            if x != val:\n",
    "                nums[k] = x\n",
    "                k += 1\n",
    "        return k"
   ],
   "id": "66227f09cb1c8d3e",
   "outputs": [],
   "execution_count": null
  },
  {
   "metadata": {},
   "cell_type": "code",
   "source": [
    "# 26 删除有序数组中的重复项\n",
    "class Solution:\n",
    "    def removeDuplicates(self, nums: List[int]) -> int:\n",
    "        k = 1\n",
    "        for i in range(1, len(nums)):\n",
    "            if nums[i] != nums[i - 1]:\n",
    "                nums[k] = nums[i]\n",
    "                k += 1\n",
    "        return k"
   ],
   "id": "d1eb8eb806734a6",
   "outputs": [],
   "execution_count": null
  },
  {
   "metadata": {},
   "cell_type": "code",
   "source": [
    "# 80 删除排序数组中的重复项 II\n",
    "class Solution:\n",
    "    def removeDuplicates(self, nums: List[int]) -> int:\n",
    "        if len(nums) < 3:\n",
    "            return len(nums)\n",
    "        k = 2\n",
    "        for i in range(2, len(nums)):\n",
    "            if nums[i] != nums[k - 2]:\n",
    "                nums[k] = nums[i]\n",
    "                k += 1\n",
    "        return k"
   ],
   "id": "8020cd2688f11832",
   "outputs": [],
   "execution_count": null
  },
  {
   "metadata": {},
   "cell_type": "code",
   "source": [
    "# 169 多数元素\n",
    "class Solution:\n",
    "    def majorityElement(self, nums: List[int]) -> int:\n",
    "        votes = 0\n",
    "        for num in nums:\n",
    "            if votes == 0: x = num\n",
    "            votes += 1 if num == x else -1\n",
    "        return x"
   ],
   "id": "52d63e194f9849e5",
   "outputs": [],
   "execution_count": null
  },
  {
   "metadata": {},
   "cell_type": "code",
   "source": [
    "# 189 轮转数组\n",
    "class Solution:\n",
    "    def rotate(self, nums: List[int], k: int) -> None:\n",
    "        def reverse(i: int, j: int) -> None:\n",
    "            while i < j:\n",
    "                nums[i], nums[j] = nums[j], nums[i]\n",
    "                i += 1\n",
    "                j -= 1\n",
    "        n = len(nums)\n",
    "        k %= n\n",
    "        reverse(0, n - 1)\n",
    "        reverse(0, k - 1)\n",
    "        reverse(k, n - 1)"
   ],
   "id": "75712103069a785c",
   "outputs": [],
   "execution_count": null
  },
  {
   "metadata": {},
   "cell_type": "code",
   "source": [
    "# 121 买卖股票的最佳时机\n",
    "class Solution:\n",
    "    def maxProfit(self, prices: List[int]) -> int:\n",
    "        cost, profit = float('+inf'), 0\n",
    "        for price in prices:\n",
    "            cost = min(cost, price)\n",
    "            profit = max(profit, price - cost)\n",
    "        return profit"
   ],
   "id": "a0b499964df80616",
   "outputs": [],
   "execution_count": null
  },
  {
   "metadata": {},
   "cell_type": "code",
   "source": [
    "# 122 买卖股票的最佳时机 II\n",
    "class Solution:\n",
    "    def maxProfit(self, prices: List[int]) -> int:\n",
    "        profit = 0\n",
    "        for i in range(1, len(prices)):\n",
    "            if prices[i] > prices[i - 1]:\n",
    "                profit += prices[i] - prices[i - 1]\n",
    "        return profit"
   ],
   "id": "f3b16d0baff34613",
   "outputs": [],
   "execution_count": null
  },
  {
   "metadata": {},
   "cell_type": "code",
   "source": [
    "# 55 跳跃游戏\n",
    "class Solution:\n",
    "    def canJump(self, nums: List[int]) -> bool:\n",
    "        max_i = 0\n",
    "        for i, jump in enumerate(nums):\n",
    "            if max_i >= i and i + jump > max_i:\n",
    "                max_i = i + jump\n",
    "        return max_i >= i"
   ],
   "id": "d9ed82e840e20a05",
   "outputs": [],
   "execution_count": null
  },
  {
   "metadata": {},
   "cell_type": "code",
   "source": [
    "# 45 跳跃游戏 II\n",
    "class Solution:\n",
    "    def jump(self, nums: List[int]) -> int:\n",
    "        end, max_pos = 0, 0\n",
    "        steps = 0\n",
    "        for i in range(len(nums) - 1):\n",
    "            max_pos = max(max_pos, i + nums[i])\n",
    "            if i == end:\n",
    "                end = max_pos\n",
    "                steps += 1\n",
    "        return steps"
   ],
   "id": "eeb54db54cb585ba",
   "outputs": [],
   "execution_count": null
  },
  {
   "metadata": {},
   "cell_type": "code",
   "source": [
    "# 274 H指数\n",
    "class Solution:\n",
    "    def hIndex(self, citations: List[int]) -> int:\n",
    "        citations.sort(reverse=True)  # 将引用次数从大到小排序\n",
    "        for i, c in enumerate(citations):  # 遍历排序后的数组\n",
    "            if i >= c:  # 如果索引值大于或等于引用次数\n",
    "                return i  # 返回当前索引值\n",
    "        return len(citations)  # 如果遍历结束，返回数组长度"
   ],
   "id": "fae59c1144468564",
   "outputs": [],
   "execution_count": null
  },
  {
   "metadata": {},
   "cell_type": "code",
   "source": [
    "# 380 O(1)时间插入、删除和获取随机元素\n",
    "class RandomizedSet:\n",
    "\n",
    "    def __init__(self):\n",
    "        self.nums = []\n",
    "        self.pos = {}\n",
    "\n",
    "    def insert(self, val: int) -> bool:\n",
    "        if val not in self.pos:\n",
    "            self.nums.append(val)\n",
    "            self.pos[val] = len(self.nums) - 1\n",
    "            return True\n",
    "        return False\n",
    "\n",
    "    def remove(self, val: int) -> bool:\n",
    "        if val in self.pos:\n",
    "            idx, last = self.pos[val], self.nums[-1]\n",
    "            self.nums[idx], self.pos[last] = last, idx\n",
    "            self.nums.pop(-1)\n",
    "            del self.pos[val]\n",
    "            return True\n",
    "        return False\n",
    "\n",
    "    def getRandom(self) -> int:\n",
    "        return random.choice(self.nums)"
   ],
   "id": "bc12704d7644eb4b",
   "outputs": [],
   "execution_count": null
  },
  {
   "metadata": {},
   "cell_type": "code",
   "source": [
    "# 238 除自身以外数组的乘积\n",
    "class Solution:\n",
    "    def productExceptSelf(self, nums: List[int]) -> List[int]:\n",
    "        ans = [1] * len(nums)\n",
    "        tmp = 1\n",
    "        for i in range(1, len(nums)):\n",
    "            ans[i] = ans[i - 1] * nums[i - 1]\n",
    "        for i in range(len(nums) - 2, -1, -1):\n",
    "            tmp *= nums[i + 1]\n",
    "            ans[i] *= tmp\n",
    "        return ans"
   ],
   "id": "311ea37349af5e05",
   "outputs": [],
   "execution_count": null
  },
  {
   "metadata": {},
   "cell_type": "code",
   "source": [
    "# 134 加油站\n",
    "class Solution:\n",
    "    def canCompleteCircuit(self, gas: List[int], cost: List[int]) -> int:\n",
    "        if sum(gas) < sum(cost):\n",
    "            return -1\n",
    "        start = 0\n",
    "        total = 0\n",
    "        for i in range(len(gas)):\n",
    "            total += gas[i] - cost[i]\n",
    "            if total < 0:\n",
    "                start = i + 1\n",
    "                total = 0\n",
    "        return start"
   ],
   "id": "ae56c361b7b5a1ac",
   "outputs": [],
   "execution_count": null
  },
  {
   "metadata": {},
   "cell_type": "code",
   "source": [
    "# 135 分发糖果\n",
    "# 错误版本：\n",
    "class Solution:\n",
    "    def candy(self, ratings: List[int]) -> int:\n",
    "        n = len(ratings)\n",
    "        if n == 0: return 0\n",
    "        candy = [1] * n\n",
    "        for i in range(1, n):\n",
    "            if ratings[i] > ratings[i - 1]:\n",
    "                candy[i] = candy[i - 1] + 1\n",
    "        for i in range(n - 2, -1, -1):\n",
    "            if ratings[i] > ratings[i + 1]:\n",
    "                candy[i] = max(candy[i], candy[i + 1] + 1)\n",
    "        return sum(candy)\n",
    "# 错误原因：应该从1开始左到右遍历，而不是0。正确率44/48\n",
    "# 正确版本：\n",
    "class Solution:\n",
    "    def candy(self, ratings: List[int]) -> int:\n",
    "        n = len(ratings)\n",
    "        if n == 0: return 0\n",
    "        candy_left = [1] * n\n",
    "        candy_right = [1] * n\n",
    "        for i in range(1, n):\n",
    "            if ratings[i] > ratings[i - 1]:\n",
    "                candy_left[i] = candy_left[i - 1] + 1\n",
    "        for i in range(n - 2, -1, -1):\n",
    "            if ratings[i] > ratings[i + 1]:\n",
    "                candy_right[i] = max(candy_left[i], candy_right[i + 1] + 1)\n",
    "        res = 0\n",
    "        for i in range(n):\n",
    "            res += max(candy_left[i], candy_right[i])\n",
    "        return res"
   ],
   "id": "16990450efbd0479",
   "outputs": [],
   "execution_count": null
  },
  {
   "metadata": {},
   "cell_type": "code",
   "source": [
    "# 42 接雨水\n",
    "class Solution:\n",
    "    def trap(self, height: List[int]) -> int:\n",
    "        if height == []: return 0\n",
    "        left_max, right_max = [0] * len(height), [0] * len(height)\n",
    "        left_max[0], right_max[-1] = height[0], height[-1]\n",
    "        for i in range(1, len(height)):\n",
    "            left_max[i] = max(height[i], left_max[i - 1])\n",
    "        for i in range(len(height) - 2, -1, -1):\n",
    "            right_max[i] = max(height[i], right_max[i + 1])\n",
    "        res = 0\n",
    "        for i in range(len(height)):\n",
    "            res += min(left_max[i], right_max[i]) - height[i]\n",
    "        return res"
   ],
   "id": "c1543b13e2ce1a52",
   "outputs": [],
   "execution_count": null
  },
  {
   "metadata": {},
   "cell_type": "code",
   "source": [
    "# 13 罗马数字转整数\n",
    "class Solution:\n",
    "    def romanToInt(self, s: str) -> int:\n",
    "        roman = {'I': 1, 'V': 5, 'X': 10, 'L': 50, 'C': 100, 'D': 500, 'M': 1000}\n",
    "        res = 0\n",
    "        for i in range(len(s) - 1):\n",
    "            if roman[s[i]] < roman[s[i + 1]]:\n",
    "                res -= roman[s[i]]\n",
    "            else:\n",
    "                res += roman[s[i]]\n",
    "        return res + roman[s[-1]]"
   ],
   "id": "b879c46bd475c76c",
   "outputs": [],
   "execution_count": null
  },
  {
   "metadata": {},
   "cell_type": "code",
   "source": [
    "# 12 整数转罗马数字\n",
    "class Solution:\n",
    "    def intToRoman(self, num: int) -> str:\n",
    "        roman =  {1000:'M', 900:'CM', 500:'D', 400:'CD', 100:'C', 90:'XC', 50:'L', 40:'XL', 10:'X', 9:'IX', 5:'V', 4:'IV', 1:'I'}\n",
    "        res = ''\n",
    "        for key in roman:\n",
    "            if num // key != 0:\n",
    "                count = num // key\n",
    "                res += roman[key] * count\n",
    "                num %= key\n",
    "        return res"
   ],
   "id": "839f5b0cafc03496",
   "outputs": [],
   "execution_count": null
  },
  {
   "metadata": {},
   "cell_type": "code",
   "source": [
    "# 58 最后一个单词的长度\n",
    "class Solution:\n",
    "    def lengthOfLastWord(self, s: str) -> int:\n",
    "        res = 0\n",
    "        n = len(s) - 1\n",
    "        while n >= 0 and s[n] == ' ':\n",
    "            n -= 1\n",
    "        j = n - 1\n",
    "        while j >= 0 and s[j] != ' ':\n",
    "            j -= 1\n",
    "        return n - j"
   ],
   "id": "4601b8beab47adc8",
   "outputs": [],
   "execution_count": null
  },
  {
   "metadata": {},
   "cell_type": "code",
   "source": [
    "# 14 最长公共前缀\n",
    "class Solution:\n",
    "    def longestCommonPrefix(self, strs: List[str]) -> str:\n",
    "        if not strs: return \"\"\n",
    "        s1 = min(strs)\n",
    "        s2 = max(strs)\n",
    "        for i, x in enumerate(s1):\n",
    "            if x != s2[i]:\n",
    "                return s2[:i]\n",
    "        return s1"
   ],
   "id": "c260e12dac130c02",
   "outputs": [],
   "execution_count": null
  },
  {
   "metadata": {},
   "cell_type": "code",
   "source": [
    "# 151 翻转字符串里的单词\n",
    "class Solution:\n",
    "    def reverseWords(self, s: str) -> str:\n",
    "        return ' '.join(s.split()[::-1])"
   ],
   "id": "3e3eaea462c54b20",
   "outputs": [],
   "execution_count": null
  },
  {
   "metadata": {},
   "cell_type": "code",
   "source": [
    "# 6 Z字形变换\n",
    "class Solution:\n",
    "    def convert(self, s: str, numRows: int) -> str:\n",
    "        if numRows <2: return s\n",
    "        res = ['' for _ in range(numRows)]\n",
    "        i, flag = 0, -1\n",
    "        for c in s:\n",
    "            res[i] += c\n",
    "            if i == 0 or i == numRows - 1:\n",
    "                flag = -flag\n",
    "            i += flag\n",
    "        return ''.join(res)"
   ],
   "id": "334ec33692024a7e",
   "outputs": [],
   "execution_count": null
  },
  {
   "metadata": {},
   "cell_type": "code",
   "source": [
    "# 28 找出字符串中第一个匹配项的下标\n",
    "class Solution:\n",
    "    def strStr(self, haystack: str, needle: str) -> int:\n",
    "        n = len(needle)\n",
    "        for i in range(len(haystack)):\n",
    "            if haystack[i : i + n] == needle:\n",
    "                return i\n",
    "        return -1"
   ],
   "id": "4a0574228bcda9cf",
   "outputs": [],
   "execution_count": null
  },
  {
   "metadata": {},
   "cell_type": "code",
   "source": [
    "# 68 文本左右对齐\n",
    "class Solution:\n",
    "    \n",
    "    def process(self, curLen, curWords, maxWidth):\n",
    "        # 空格数量\n",
    "        num_space = maxWidth - curLen\n",
    "        # 如果只有一个单词就没必要考虑分配，直接填充空格即可\n",
    "        if len(curWords) == 1:\n",
    "            return curWords[0] + ' ' * (maxWidth - curLen)\n",
    "        # 每个空隙分到的空格数量\n",
    "        num_sep = num_space // (len(curWords) - 1)\n",
    "        # 分到空格数量多一个的空隙\n",
    "        head_sep = num_space % (len(curWords) - 1)\n",
    "        cur = ''\n",
    "        # 分配\n",
    "        for i in range(len(curWords) - 1):\n",
    "            cur = cur + curWords[i] + (' ' * (num_sep + 1) if i < head_sep else ' ' * num_sep)\n",
    "        # 分配结束之后把最后一个单词连上\n",
    "        cur = cur + curWords[-1]\n",
    "        return cur\n",
    "        \n",
    "    def fullJustify(self, words: List[str], maxWidth: int) -> List[str]:\n",
    "        ret = []\n",
    "        curLen, curWords = 0, []\n",
    "        \n",
    "        for w in words:\n",
    "            # 切分判断的条件，单词长度加上基本的空格长度\n",
    "            if curLen + len(w) + len(curWords) <= maxWidth:\n",
    "                curLen += len(w)\n",
    "                curWords.append(w)\n",
    "            else:\n",
    "                ret.append(self.process(curLen, curWords, maxWidth))\n",
    "                curLen, curWords = len(w), [w]\n",
    "                \n",
    "        # 剩下没有安排的就是最后一行，按照最后一行靠左处理\n",
    "        if len(curWords) > 0:\n",
    "            cur = ''\n",
    "            for i in range(len(curWords) - 1):\n",
    "                cur = cur + curWords[i] + ' '\n",
    "            cur = cur + curWords[-1]\n",
    "            cur += ' ' * (maxWidth - len(cur))\n",
    "            ret.append(cur)\n",
    "        return ret"
   ],
   "id": "5fbbf0565d22bdd0",
   "outputs": [],
   "execution_count": null
  }
 ],
 "metadata": {
  "kernelspec": {
   "display_name": "Python 3",
   "language": "python",
   "name": "python3"
  },
  "language_info": {
   "codemirror_mode": {
    "name": "ipython",
    "version": 2
   },
   "file_extension": ".py",
   "mimetype": "text/x-python",
   "name": "python",
   "nbconvert_exporter": "python",
   "pygments_lexer": "ipython2",
   "version": "2.7.6"
  }
 },
 "nbformat": 4,
 "nbformat_minor": 5
}
