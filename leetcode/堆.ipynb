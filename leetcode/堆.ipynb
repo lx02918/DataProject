{
 "cells": [
  {
   "cell_type": "code",
   "execution_count": null,
   "id": "initial_id",
   "metadata": {
    "collapsed": true
   },
   "outputs": [],
   "source": [
    "# 215 数组中的第K个最大元素\n",
    "class Solution:\n",
    "    def findKthLargest(self, nums: List[int], k: int) -> int:\n",
    "        return sorted(nums, reverse=True)[k-1]"
   ]
  },
  {
   "metadata": {},
   "cell_type": "code",
   "outputs": [],
   "execution_count": null,
   "source": [
    "# 502  IPO\n",
    "class Solution:\n",
    "    def findMaximizedCapital(self, k: int, W: int, Profits: List[int], Capital: List[int]) -> int:\n",
    "        n = len(Profits)\n",
    "        projects = sorted(zip(Capital, Profits))\n",
    "        max_heap = []\n",
    "        idx = 0\n",
    "        \n",
    "        for _ in range(k):\n",
    "            while idx < n and projects[idx][0] <= W:\n",
    "                heapq.heappush(max_heap, -projects[idx][1])\n",
    "                idx += 1\n",
    "            if max_heap:\n",
    "                W -= heapq.heappop(max_heap)\n",
    "            else:\n",
    "                break\n",
    "        return W"
   ],
   "id": "637ce7fc3eb7848c"
  },
  {
   "metadata": {},
   "cell_type": "code",
   "outputs": [],
   "execution_count": null,
   "source": "",
   "id": "e04359eefa0015fa"
  }
 ],
 "metadata": {
  "kernelspec": {
   "display_name": "Python 3",
   "language": "python",
   "name": "python3"
  },
  "language_info": {
   "codemirror_mode": {
    "name": "ipython",
    "version": 2
   },
   "file_extension": ".py",
   "mimetype": "text/x-python",
   "name": "python",
   "nbconvert_exporter": "python",
   "pygments_lexer": "ipython2",
   "version": "2.7.6"
  }
 },
 "nbformat": 4,
 "nbformat_minor": 5
}
