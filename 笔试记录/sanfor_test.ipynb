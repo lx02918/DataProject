{
 "cells": [
  {
   "cell_type": "code",
   "id": "initial_id",
   "metadata": {
    "collapsed": true,
    "ExecuteTime": {
     "end_time": "2024-08-18T11:22:17.663887Z",
     "start_time": "2024-08-18T11:22:07.650039Z"
    }
   },
   "source": [
    "# 第一题\n",
    "def max_beans(beans: str, commands: str) -> int:\n",
    "    n, m = len(beans), len(commands)\n",
    "    dp = [[0] * (m + 1) for _ in range(n + 1)]\n",
    "    \n",
    "    for j in range(1, m + 1):\n",
    "        if commands[j - 1] == '*':\n",
    "            dp[0][j] = dp[0][j - 2]\n",
    "            \n",
    "    for i in range(1, n + 1):\n",
    "        for j in range(1, m + 1):\n",
    "            if commands[j - 1] in 'abcdefg':\n",
    "                if commands[j - 1] == beans[i - 1]:\n",
    "                    dp[i][j] = dp[i - 1][j - 1] + 1\n",
    "                else:\n",
    "                    dp[i][j] = dp[i - 1][j - 1]\n",
    "            elif commands[j - 1] == '*':\n",
    "                if j > 1:\n",
    "                    if commands[j - 2] == beans[i - 1]:\n",
    "                        dp[i][j] = max(dp[i][j - 2], dp[i - 1][j - 1], dp[i - 1][j])\n",
    "                    else:\n",
    "                        dp[i][j] = dp[i][j - 2]\n",
    "                    \n",
    "    return max(max(row) for row in dp)\n",
    "\n",
    "if __name__ == '__main__':\n",
    "    beans = input().strip()\n",
    "    commands = input().strip()\n",
    "    print(max_beans(beans, commands))"
   ],
   "outputs": [
    {
     "name": "stdout",
     "output_type": "stream",
     "text": [
      "3\n"
     ]
    }
   ],
   "execution_count": 9
  },
  {
   "metadata": {
    "ExecuteTime": {
     "end_time": "2024-08-18T11:29:58.349546Z",
     "start_time": "2024-08-18T11:29:48.473056Z"
    }
   },
   "cell_type": "code",
   "source": [
    "# 第二题 寻找魔法数组\n",
    "n, k = map(int, input().split())\n",
    "nums = list(map(int, input().split()))\n",
    "\n",
    "dp = [0] * n\n",
    "for i in range(n):\n",
    "    dp[i] = nums[i]\n",
    "    for j in range(max(0, i - k), i):\n",
    "        dp[i] = max(dp[i], dp[j] + nums[i])\n",
    "        \n",
    "print(max(dp))"
   ],
   "id": "e827826d50335a24",
   "outputs": [
    {
     "name": "stdout",
     "output_type": "stream",
     "text": [
      "27\n"
     ]
    }
   ],
   "execution_count": 11
  },
  {
   "metadata": {
    "ExecuteTime": {
     "end_time": "2024-08-18T11:46:26.013956Z",
     "start_time": "2024-08-18T11:46:18.210827Z"
    }
   },
   "cell_type": "code",
   "source": [
    "# 第三题 最优的旅游路线 枚举法\n",
    "\n",
    "t, k = list(map(int, input().split()))\n",
    "a = []\n",
    "for i in range(t):\n",
    "    m, n, x, y = list(input().split())\n",
    "    n = int(n)\n",
    "    m = int(m)\n",
    "    x = int(x[1:])\n",
    "    y = int(y[:-1])\n",
    "    a.append((m, n, x, y))\n",
    "b = list(range(t))\n",
    "\n",
    "from itertools import permutations\n",
    "ans = 0\n",
    "for c in permutations(b, k):\n",
    "    cm = cn = 0\n",
    "    for i in c:\n",
    "        cm += a[i][0]\n",
    "        cn += a[i][1]\n",
    "    cm += abs(a[c[0]][2]) + abs(a[c[0]][3])\n",
    "    if k > 1:\n",
    "        cm += abs(a[c[-1]][2]) + abs(a[c[-1]][3])\n",
    "    for i in range(k - 1):\n",
    "        cm += abs(a[c[i + 1]][2] - a[c[i]][2]) + abs(a[c[i + 1]][3] - a[c[i]][3])\n",
    "    ans = max(ans, cn / cm)\n",
    "print(\"{:.6f}\".format(ans))\n",
    "    "
   ],
   "id": "76388413e46785f1",
   "outputs": [
    {
     "ename": "ValueError",
     "evalue": "empty separator",
     "output_type": "error",
     "traceback": [
      "\u001B[1;31m---------------------------------------------------------------------------\u001B[0m",
      "\u001B[1;31mValueError\u001B[0m                                Traceback (most recent call last)",
      "Cell \u001B[1;32mIn[15], line 33\u001B[0m\n\u001B[0;32m     31\u001B[0m     line \u001B[38;5;241m=\u001B[39m \u001B[38;5;28minput\u001B[39m()\u001B[38;5;241m.\u001B[39msplit()\n\u001B[0;32m     32\u001B[0m     m, n \u001B[38;5;241m=\u001B[39m \u001B[38;5;28mint\u001B[39m(line[\u001B[38;5;241m0\u001B[39m]), \u001B[38;5;28mint\u001B[39m(line[\u001B[38;5;241m1\u001B[39m])\n\u001B[1;32m---> 33\u001B[0m     x, y \u001B[38;5;241m=\u001B[39m \u001B[38;5;28mmap\u001B[39m(\u001B[38;5;28mint\u001B[39m, line[\u001B[38;5;241m2\u001B[39m]\u001B[38;5;241m.\u001B[39mstrip(\u001B[38;5;124m'\u001B[39m\u001B[38;5;124m(\u001B[39m\u001B[38;5;124m'\u001B[39m)\u001B[38;5;241m.\u001B[39mstrip(\u001B[38;5;124m'\u001B[39m\u001B[38;5;124m)\u001B[39m\u001B[38;5;124m'\u001B[39m)\u001B[38;5;241m.\u001B[39msplit(\u001B[38;5;124m'\u001B[39m\u001B[38;5;124m'\u001B[39m))\n\u001B[0;32m     34\u001B[0m     spots\u001B[38;5;241m.\u001B[39mappend((m, n, x, y))\n\u001B[0;32m     36\u001B[0m result \u001B[38;5;241m=\u001B[39m solve(t, k, spots)\n",
      "\u001B[1;31mValueError\u001B[0m: empty separator"
     ]
    }
   ],
   "execution_count": 15
  },
  {
   "metadata": {},
   "cell_type": "code",
   "outputs": [],
   "execution_count": null,
   "source": [
    "# 第一题 捡豆豆\n",
    "# 颜色由‘abcdefg’表示\n",
    "# 机器人沿着这条路捡豆豆\n",
    "# 如果遇到不同颜色的豆豆就表示能捡到该颜色的豆子\n",
    "# 遇到‘*’则表示重复前一个动作任意多次\n",
    "# 问最多能捡到多少颗豆子\n",
    "# 输入描述\n",
    "# 第一行输入字符串为N个豆豆的颜色，\n",
    "# 第二行为字符串，也就是指令串\n",
    "\n",
    "# 示例1\n",
    "# 输入\n",
    "# abbbbcdefg\n",
    "# ab*c*d\n",
    "# 输出\n",
    "# 7\n",
    "\n",
    "# 代码\n",
    "def max_beans(beans, commands):\n",
    "    n = len(beans)\n",
    "    m = len(commands)\n",
    "    \n",
    "    dp = [[0] * (m + 1) for _ in range(n + 1)]\n",
    "    \n",
    "    for i in range(n + 1):\n",
    "        for j in range(m + 1):\n",
    "            if j == 0:\n",
    "                dp[i][j] = 0\n",
    "            elif commands[j - 1] == '*':\n",
    "                dp[i][j] = dp[i][j - 1]\n",
    "                if i > 0:\n",
    "                    dp[i][j] = max(dp[i][j], dp[i - 1][j])\n",
    "                elif i > 0 and beans[i - 1] == commands[j - 1]:\n",
    "                    dp[i][j] = dp[i - 1][j - 1] + 1\n",
    "    return max(max(row) for row in dp)\n",
    "\n",
    "if __name__ == '__main__':\n",
    "    beans = input().strip()\n",
    "    commands = input().strip()\n",
    "    print(max_beans(beans, commands))"
   ],
   "id": "a590521a225bccd5"
  },
  {
   "metadata": {
    "ExecuteTime": {
     "end_time": "2024-08-18T12:02:39.888500Z",
     "start_time": "2024-08-18T12:02:13.912855Z"
    }
   },
   "cell_type": "code",
   "source": [
    "# 第二题 魔法数组\n",
    "# 动态规划\n",
    "def max_magic_sum(n, k, magic_numbers):\n",
    "    dp = [0] * n\n",
    "    dp[0] = magic_numbers[0]\n",
    "    \n",
    "    max_sum = dp[0]\n",
    "    \n",
    "    for i in range(1, n):\n",
    "        if i >= k:\n",
    "            dp[i] = max(dp[i - k] + magic_numbers[i], magic_numbers[i])\n",
    "        else:\n",
    "            dp[i] = max(magic_numbers[i], dp[i - 1])\n",
    "        max_sum = max(max_sum, dp[i])\n",
    "    return max_sum\n",
    "n, k = map(int, input().split())\n",
    "magic_numbers = list(map(int, input().split()))\n",
    "    \n",
    "result = max_magic_sum(n, k, magic_numbers)\n",
    "print(result)"
   ],
   "id": "adac8b1af1c0e23b",
   "outputs": [
    {
     "name": "stdout",
     "output_type": "stream",
     "text": [
      "15\n"
     ]
    }
   ],
   "execution_count": 20
  },
  {
   "metadata": {},
   "cell_type": "code",
   "outputs": [],
   "execution_count": null,
   "source": [
    "# 第四题 策略匹配\n",
    "\n",
    "def parse_ip_range(ip_range):\n",
    "    if '-' in ip_range:\n",
    "        start, end = ip_range.split('-')\n",
    "        return [int(x) for x in start.split('.')], [int(x) for x in end.split('.')]\n",
    "    return [int(x) for x in ip_range.split('.')], [int(x) for x in ip_range.split('.')]\n",
    "def parse_port_range(port_range):\n",
    "    if '-' in port_range:\n",
    "        start, end = port_range.split('-')\n",
    "        return int(start), int(end)\n",
    "    return int(port_range), int(port_range)\n",
    "def ip_in_range(ip, start, end):\n",
    "    return start <= ip <= end\n",
    "def port_in_range(port, start, end):\n",
    "    return start <= port <= end\n",
    "def match_rule(connection, rule):\n",
    "    for i in range(4):\n",
    "        if not ip_in_range(connection[0][i], rule[0][0], rule[0][1][i]):\n",
    "            return False\n",
    "    if not port_in_range(connection[1], rule[1][0], rule[1][1]):\n",
    "        return False\n",
    "    for i in range(4):\n",
    "        if not ip_in_range(connection[2][i], rule[2][0][i]):\n",
    "            return False\n",
    "    if not port_in_range(connection[3], rule[3][0], rule[3][1]):\n",
    "        return False\n",
    "    return True\n",
    "def solve(N, M, rules, connections):\n",
    "    result = []\n",
    "    for conn in connections:\n",
    "        matched_id = 0\n",
    "        for i, rule in enumerate(rules, 1):\n",
    "            if match_rule(conn, rule):\n",
    "                matched_id = i\n",
    "                break\n",
    "        result.append(matched_id)\n",
    "    return result\n",
    "\n",
    "N, M = map(int, input().split())\n",
    "rules = []\n",
    "for _ in range(N):\n",
    "    rule = input().split()\n",
    "    rules.append((\n",
    "        parse_ip_range(rule[1]),\n",
    "        parse_port_range(rule[2]),\n",
    "        parse_ip_range(rule[3]),\n",
    "        parse_port_range(rule[4]),\n",
    "        int(rule[5])\n",
    "    ))\n",
    "connections = []\n",
    "for _ in range(M):\n",
    "    conn = input().split()\n",
    "    connections.append((\n",
    "        [int(x) for x in conn[0].split('.')],\n",
    "        int(conn[1]),\n",
    "        [int(x) for x in conn[2].split('.')],\n",
    "        int(conn[3]),\n",
    "        int(conn[4])\n",
    "    ))\n",
    "\n",
    "results = solve(N, M, rules, connections)\n",
    "for result in results:\n",
    "    print(result)"
   ],
   "id": "3783a5a8881c7dab"
  }
 ],
 "metadata": {
  "kernelspec": {
   "display_name": "Python 3",
   "language": "python",
   "name": "python3"
  },
  "language_info": {
   "codemirror_mode": {
    "name": "ipython",
    "version": 2
   },
   "file_extension": ".py",
   "mimetype": "text/x-python",
   "name": "python",
   "nbconvert_exporter": "python",
   "pygments_lexer": "ipython2",
   "version": "2.7.6"
  }
 },
 "nbformat": 4,
 "nbformat_minor": 5
}
