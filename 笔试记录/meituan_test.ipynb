{
 "cells": [
  {
   "cell_type": "code",
   "execution_count": null,
   "id": "initial_id",
   "metadata": {
    "collapsed": true
   },
   "outputs": [],
   "source": [
    "def min_download_time(n, s):\n",
    "    first_error_pos = s.find('?')\n",
    "    \n",
    "    if first_error_pos == -1:\n",
    "        return 0\n",
    "    return n - first_error_pos\n",
    "n = int(input())\n",
    "s = input()\n",
    "\n",
    "result = min_download_time(n, s)\n",
    "print(result)"
   ]
  },
  {
   "metadata": {},
   "cell_type": "code",
   "outputs": [],
   "execution_count": null,
   "source": [
    "import math\n",
    "\n",
    "def is_prime(x):\n",
    "    if x < 2:\n",
    "        return False\n",
    "    for i in range(2, int(math.sqrt(x)) + 1):\n",
    "        if x % i == 0:\n",
    "            return False\n",
    "    return True\n",
    "\n",
    "def find_m(n):\n",
    "    for m in range(2, n + 1):\n",
    "        g = math.gcd(n, m)\n",
    "        if is_prime(g):\n",
    "            return m\n",
    "\n",
    "T = int(input())\n",
    "\n",
    "for _ in range(T):\n",
    "    n = int(input())\n",
    "    result = find_m(n)\n",
    "    print(result)"
   ],
   "id": "f6ffe0b605b7285e"
  },
  {
   "metadata": {},
   "cell_type": "code",
   "outputs": [],
   "execution_count": null,
   "source": [
    "def min_operations(n, arr):\n",
    "    arr.sort()\n",
    "    operations = 0\n",
    "    min_range = arr[-1] - arr[0]\n",
    "    \n",
    "    min_operations = float('inf')\n",
    "    \n",
    "    for i in range(n):\n",
    "        for j in range(i, n):\n",
    "            current_range = arr[j] - arr[i]\n",
    "            \n",
    "            operations = (arr[0] - arr[i]) + (arr[j] - arr[-1])\n",
    "            \n",
    "            if current_range < min_range:\n",
    "                min_range = current_range\n",
    "                min_operations = operations\n",
    "            elif current_range == min_range:\n",
    "                \n",
    "                min_operations = min(min_operations, operations)\n",
    "    return min_operations\n",
    "\n",
    "n = int(input())\n",
    "arr = list(map(int, input().split()))\n",
    "\n",
    "\n",
    "result = min_operations(n, arr)\n",
    "print(result)"
   ],
   "id": "883157b1e39b5940"
  },
  {
   "metadata": {
    "ExecuteTime": {
     "end_time": "2024-08-17T14:08:23.668843Z",
     "start_time": "2024-08-17T14:08:09.262164Z"
    }
   },
   "cell_type": "code",
   "source": "",
   "id": "5030f9966711d9bd",
   "outputs": [
    {
     "name": "stdout",
     "output_type": "stream",
     "text": [
      "-4\n"
     ]
    }
   ],
   "execution_count": 1
  },
  {
   "metadata": {},
   "cell_type": "code",
   "outputs": [],
   "execution_count": null,
   "source": [
    "# 有一个数组n，选择不超过k个元素将他们变成他们的相反数，若此时数组和在区间[0,t]内，则该方案是最好的\n",
    "# 想知道有多少种方案是好的\n",
    "# x变为-1 * x这一步骤称为将x变为其相反数\n",
    "# 输入描述\n",
    "# 第一行输入三个数，n，k，t，代表元素数量，可选元素数量，区间限制\n",
    "# 第二行输入n个整数，代表数组\n",
    "# 输出描述\n",
    "# 在一行商输出一个整数代表答案，需要取模 10**9 + 7\n",
    "# 输入：\n",
    "# 6 1 10\n",
    "#  1 2 3 4 5 6\n",
    "# 输出\n",
    "# 3\n",
    "\n",
    "# 代码\n",
    "def min_operations(n, k, t):\n",
    "    pass\n"
   ],
   "id": "2f96d87b3a32bb3a"
  },
  {
   "metadata": {},
   "cell_type": "code",
   "outputs": [],
   "execution_count": null,
   "source": "",
   "id": "e42d0441fd1542f4"
  }
 ],
 "metadata": {
  "kernelspec": {
   "display_name": "Python 3",
   "language": "python",
   "name": "python3"
  },
  "language_info": {
   "codemirror_mode": {
    "name": "ipython",
    "version": 2
   },
   "file_extension": ".py",
   "mimetype": "text/x-python",
   "name": "python",
   "nbconvert_exporter": "python",
   "pygments_lexer": "ipython2",
   "version": "2.7.6"
  }
 },
 "nbformat": 4,
 "nbformat_minor": 5
}
