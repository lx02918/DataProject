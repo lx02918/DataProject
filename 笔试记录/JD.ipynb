{
 "cells": [
  {
   "cell_type": "code",
   "id": "initial_id",
   "metadata": {
    "collapsed": true,
    "ExecuteTime": {
     "end_time": "2024-08-24T08:31:07.405792Z",
     "start_time": "2024-08-24T08:31:01.709229Z"
    }
   },
   "source": [
    "from tensorflow.python.distribute.v1.all_reduce import build_recursive_hd_all_reduce\n",
    "\n",
    "\n",
    "# 第一题\n",
    "def count_multiples_of_100(N):\n",
    "    N = int(N)\n",
    "    \n",
    "    if N < 0:\n",
    "        return 0\n",
    "    \n",
    "    N_str = str(N)\n",
    "    if len(N_str) < 3:\n",
    "        return 0\n",
    "    result = int(N_str[:-2])\n",
    "    \n",
    "    return result\n",
    "\n",
    "N = input().strip()\n",
    "print(count_multiples_of_100(N))"
   ],
   "outputs": [
    {
     "name": "stdout",
     "output_type": "stream",
     "text": [
      "20\n"
     ]
    }
   ],
   "execution_count": 1
  },
  {
   "metadata": {
    "ExecuteTime": {
     "end_time": "2024-08-24T08:38:49.739839Z",
     "start_time": "2024-08-24T08:38:44.599840Z"
    }
   },
   "cell_type": "code",
   "source": [
    "# 第二题\n",
    "def blacken_calls(n, m, k, operations):\n",
    "    grid = [[False] * (m + 1) for _ in range(n + 1)]\n",
    "    \n",
    "    result = []\n",
    "    \n",
    "    for op in operations:\n",
    "        cmd, x, y = op\n",
    "        if cmd == 'c':\n",
    "            grid[x][y] = True\n",
    "        else:\n",
    "            found = False\n",
    "            if cmd == 'l':\n",
    "                for j in range(y - 1, 0, -1):\n",
    "                    if not grid[x][j]:\n",
    "                        grid[x][j] = True\n",
    "                        result.append((y - j))\n",
    "                        found = True\n",
    "                        break\n",
    "            elif cmd == 'r':\n",
    "                for i in range(y + 1, m + 1):\n",
    "                    if not grid[x][i]:\n",
    "                        grid[x][j] = True\n",
    "                        result.append((j - y))\n",
    "                        found = True\n",
    "                        break\n",
    "            elif cmd == 'u':\n",
    "                for i in range(x - 1, 0, -1):\n",
    "                    if not grid[i][y]:\n",
    "                        grid[i][y] = True\n",
    "                        result.append(x - i)\n",
    "                        fount = True\n",
    "                        break\n",
    "            elif cmd == 'd':\n",
    "                for i in range(x + 1, n + 1):\n",
    "                    if not grid[i][y]:\n",
    "                        grid[i][y] = True\n",
    "                        result.append(i - x)\n",
    "                        found = True\n",
    "                        break\n",
    "            if not found:\n",
    "                result.append(-1)\n",
    "    return result\n",
    "n, m, k = map(int, input().split())\n",
    "operations = [input().strip() for _ in range(k)]\n",
    "\n",
    "results = blacken_calls(n, m, k, operations)\n",
    "for result in results:\n",
    "    print(result)"
   ],
   "id": "af737309c84a5f34",
   "outputs": [
    {
     "ename": "KeyboardInterrupt",
     "evalue": "Interrupted by user",
     "output_type": "error",
     "traceback": [
      "\u001B[1;31m---------------------------------------------------------------------------\u001B[0m",
      "\u001B[1;31mKeyboardInterrupt\u001B[0m                         Traceback (most recent call last)",
      "Cell \u001B[1;32mIn[2], line 31\u001B[0m\n\u001B[0;32m     28\u001B[0m             results\u001B[38;5;241m.\u001B[39mappend(color_and_find(x, y, \u001B[38;5;241m1\u001B[39m, \u001B[38;5;241m0\u001B[39m))\n\u001B[0;32m     30\u001B[0m     \u001B[38;5;28;01mreturn\u001B[39;00m results\n\u001B[1;32m---> 31\u001B[0m n, m, k \u001B[38;5;241m=\u001B[39m \u001B[38;5;28mmap\u001B[39m(\u001B[38;5;28mint\u001B[39m, \u001B[38;5;28minput\u001B[39m()\u001B[38;5;241m.\u001B[39msplit())\n\u001B[0;32m     32\u001B[0m operations \u001B[38;5;241m=\u001B[39m [\u001B[38;5;28minput\u001B[39m()\u001B[38;5;241m.\u001B[39msplit() \u001B[38;5;28;01mfor\u001B[39;00m _ \u001B[38;5;129;01min\u001B[39;00m \u001B[38;5;28mrange\u001B[39m(k)]\n\u001B[0;32m     33\u001B[0m results \u001B[38;5;241m=\u001B[39m solve(n, m, operations)\n",
      "File \u001B[1;32mD:\\data\\conda\\envs\\ML\\Lib\\site-packages\\ipykernel\\kernelbase.py:1202\u001B[0m, in \u001B[0;36mKernel.raw_input\u001B[1;34m(self, prompt)\u001B[0m\n\u001B[0;32m   1200\u001B[0m     msg \u001B[38;5;241m=\u001B[39m \u001B[38;5;124m\"\u001B[39m\u001B[38;5;124mraw_input was called, but this frontend does not support input requests.\u001B[39m\u001B[38;5;124m\"\u001B[39m\n\u001B[0;32m   1201\u001B[0m     \u001B[38;5;28;01mraise\u001B[39;00m StdinNotImplementedError(msg)\n\u001B[1;32m-> 1202\u001B[0m \u001B[38;5;28;01mreturn\u001B[39;00m \u001B[38;5;28mself\u001B[39m\u001B[38;5;241m.\u001B[39m_input_request(\n\u001B[0;32m   1203\u001B[0m     \u001B[38;5;28mstr\u001B[39m(prompt),\n\u001B[0;32m   1204\u001B[0m     \u001B[38;5;28mself\u001B[39m\u001B[38;5;241m.\u001B[39m_parent_ident[\u001B[38;5;124m\"\u001B[39m\u001B[38;5;124mshell\u001B[39m\u001B[38;5;124m\"\u001B[39m],\n\u001B[0;32m   1205\u001B[0m     \u001B[38;5;28mself\u001B[39m\u001B[38;5;241m.\u001B[39mget_parent(\u001B[38;5;124m\"\u001B[39m\u001B[38;5;124mshell\u001B[39m\u001B[38;5;124m\"\u001B[39m),\n\u001B[0;32m   1206\u001B[0m     password\u001B[38;5;241m=\u001B[39m\u001B[38;5;28;01mFalse\u001B[39;00m,\n\u001B[0;32m   1207\u001B[0m )\n",
      "File \u001B[1;32mD:\\data\\conda\\envs\\ML\\Lib\\site-packages\\ipykernel\\kernelbase.py:1245\u001B[0m, in \u001B[0;36mKernel._input_request\u001B[1;34m(self, prompt, ident, parent, password)\u001B[0m\n\u001B[0;32m   1242\u001B[0m \u001B[38;5;28;01mexcept\u001B[39;00m \u001B[38;5;167;01mKeyboardInterrupt\u001B[39;00m:\n\u001B[0;32m   1243\u001B[0m     \u001B[38;5;66;03m# re-raise KeyboardInterrupt, to truncate traceback\u001B[39;00m\n\u001B[0;32m   1244\u001B[0m     msg \u001B[38;5;241m=\u001B[39m \u001B[38;5;124m\"\u001B[39m\u001B[38;5;124mInterrupted by user\u001B[39m\u001B[38;5;124m\"\u001B[39m\n\u001B[1;32m-> 1245\u001B[0m     \u001B[38;5;28;01mraise\u001B[39;00m \u001B[38;5;167;01mKeyboardInterrupt\u001B[39;00m(msg) \u001B[38;5;28;01mfrom\u001B[39;00m \u001B[38;5;28;01mNone\u001B[39;00m\n\u001B[0;32m   1246\u001B[0m \u001B[38;5;28;01mexcept\u001B[39;00m \u001B[38;5;167;01mException\u001B[39;00m:\n\u001B[0;32m   1247\u001B[0m     \u001B[38;5;28mself\u001B[39m\u001B[38;5;241m.\u001B[39mlog\u001B[38;5;241m.\u001B[39mwarning(\u001B[38;5;124m\"\u001B[39m\u001B[38;5;124mInvalid Message:\u001B[39m\u001B[38;5;124m\"\u001B[39m, exc_info\u001B[38;5;241m=\u001B[39m\u001B[38;5;28;01mTrue\u001B[39;00m)\n",
      "\u001B[1;31mKeyboardInterrupt\u001B[0m: Interrupted by user"
     ]
    }
   ],
   "execution_count": 2
  },
  {
   "metadata": {
    "ExecuteTime": {
     "end_time": "2024-08-24T08:58:54.389924Z",
     "start_time": "2024-08-24T08:58:51.160535Z"
    }
   },
   "cell_type": "code",
   "source": [
    "# 第三题\n",
    "def can_form_triangle(a, b, c):\n",
    "    return a + b > c and b + c > a and c + a > b\n",
    "\n",
    "def find_longest_vaild_subarray(n, sticks):\n",
    "    sticks.sort()\n",
    "    max_length = 0\n",
    "    start = end = 0\n",
    "    \n",
    "    for i in range(n - 2):\n",
    "        k = i + 2\n",
    "        for j in range(i + 1, n):\n",
    "            while k < n and sticks[i] + sticks[j] + sticks[k]:\n",
    "                k += 1\n",
    "            if k - i > max_length:\n",
    "                max_length = k - i\n",
    "                start, end = i, k - 1\n",
    "    return start + 1, end + 1\n",
    "\n",
    "n = int(input())\n",
    "sticks = list(map(int, input().split()))\n",
    "\n",
    "result = find_longest_vaild_subarray(n ,sticks)\n",
    "print(f\"{result[0]} {result[1]}\")"
   ],
   "id": "ab9fe871f318b753",
   "outputs": [
    {
     "name": "stdout",
     "output_type": "stream",
     "text": [
      "2\n"
     ]
    }
   ],
   "execution_count": 4
  },
  {
   "metadata": {},
   "cell_type": "code",
   "outputs": [],
   "execution_count": null,
   "source": [
    "def process_grid(n, m, operations):\n",
    "    grid = [[0 for _ in range(m)] for _ in range(n)]\n",
    "    def find_white(x, y, direction):\n",
    "        dx, dy = {\n",
    "            'l': (0, -1),\n",
    "            'r': (0, 1),\n",
    "            'u': (-1, 0),\n",
    "            'd': (1, 0),\n",
    "        }[direction]\n",
    "    \n",
    "        while 0 <= x < n and 0 <= y < m:\n",
    "            if grid[x][y] == 0:\n",
    "                x += dx\n",
    "                y += dy\n",
    "        return -1\n",
    "    for op in operations:\n",
    "        cmd, x, y = op[0], int(op[1:].split()[0]), int(op[1:].split()[1])\n",
    "        x -= 1\n",
    "        y -= 1\n",
    "        \n",
    "        if cmd == 'c':\n",
    "            grid[x][y] = 1\n",
    "        elif cmd in ['l', 'r', 'u', 'd']:\n",
    "            result = find_white(x, y, cmd)\n",
    "            results.append(result if isinstance(result, tuple) else -1)\n",
    "    return results\n",
    "n, m, k = map(int, input().split())\n",
    "operations = [input().strip() for _ in range(k)]\n",
    "\n",
    "output = process_grid(n, m, operations)\n",
    "\n",
    "for result in output:\n",
    "    if isinstance(result, tuple):\n",
    "        print(f\"{result[0]} {result[1]}\")\n",
    "    else:\n",
    "        print(result)"
   ],
   "id": "efd1f4f1513f3515"
  },
  {
   "metadata": {
    "ExecuteTime": {
     "end_time": "2024-08-24T09:26:26.526060Z",
     "start_time": "2024-08-24T09:26:21.300427Z"
    }
   },
   "cell_type": "code",
   "source": [
    "def can_form_triangle(a, b, c):\n",
    "    return a + b > c\n",
    "def find_longest_valid_subarray(n, sticks):\n",
    "    sticks.sort()\n",
    "    max_length = 0\n",
    "    start = end = 0\n",
    "    \n",
    "    for i in range(n):\n",
    "        for j in range(i + 2, n):\n",
    "            if can_form_triangle(sticks[j- 2], sticks[j - 1], sticks[j]):\n",
    "                if j - i + 1 > max_length:\n",
    "                    max_length = j - i + 1\n",
    "                    start, end = i, j\n",
    "            else:\n",
    "                break\n",
    "    return start + 1, end + 1\n",
    "n = int(input())\n",
    "sticks = list(map(int, input().split()))\n",
    "\n",
    "result = find_longest_vaild_subarray(n ,sticks)\n",
    "print(f\"{result[0]} {result[1]}\")"
   ],
   "id": "681e8ae8e833a28b",
   "outputs": [
    {
     "ename": "NameError",
     "evalue": "name 'find_longest_vaild_subarray' is not defined",
     "output_type": "error",
     "traceback": [
      "\u001B[1;31m---------------------------------------------------------------------------\u001B[0m",
      "\u001B[1;31mNameError\u001B[0m                                 Traceback (most recent call last)",
      "Cell \u001B[1;32mIn[5], line 20\u001B[0m\n\u001B[0;32m     17\u001B[0m n \u001B[38;5;241m=\u001B[39m \u001B[38;5;28mint\u001B[39m(\u001B[38;5;28minput\u001B[39m())\n\u001B[0;32m     18\u001B[0m sticks \u001B[38;5;241m=\u001B[39m \u001B[38;5;28mlist\u001B[39m(\u001B[38;5;28mmap\u001B[39m(\u001B[38;5;28mint\u001B[39m, \u001B[38;5;28minput\u001B[39m()\u001B[38;5;241m.\u001B[39msplit()))\n\u001B[1;32m---> 20\u001B[0m result \u001B[38;5;241m=\u001B[39m find_longest_vaild_subarray(n ,sticks)\n\u001B[0;32m     21\u001B[0m \u001B[38;5;28mprint\u001B[39m(\u001B[38;5;124mf\u001B[39m\u001B[38;5;124m\"\u001B[39m\u001B[38;5;132;01m{\u001B[39;00mresult[\u001B[38;5;241m0\u001B[39m]\u001B[38;5;132;01m}\u001B[39;00m\u001B[38;5;124m \u001B[39m\u001B[38;5;132;01m{\u001B[39;00mresult[\u001B[38;5;241m1\u001B[39m]\u001B[38;5;132;01m}\u001B[39;00m\u001B[38;5;124m\"\u001B[39m)\n",
      "\u001B[1;31mNameError\u001B[0m: name 'find_longest_vaild_subarray' is not defined"
     ]
    }
   ],
   "execution_count": 5
  },
  {
   "metadata": {},
   "cell_type": "code",
   "outputs": [],
   "execution_count": null,
   "source": [
    "def find_longest_vaild_subarray(n, a):\n",
    "    a.sort()\n",
    "    \n",
    "    left = 0\n",
    "    max_len = 0\n",
    "    best_left, best_right = 0, 0\n",
    "    \n",
    "    for right in range(2, n):\n",
    "        while left < right - 1 and a[left] + a[left + 1] <= a[right]:\n",
    "            left += 1\n",
    "        if right - left + 1 > max_len:\n",
    "            max_len = right - left + 1\n",
    "            best_left, best_right = left, right\n",
    "    print(best_left + 1, best_right + 1)\n",
    "\n",
    "n = int(input())\n",
    "a = list(map(int, input().split()))\n",
    "\n",
    "find_longest_vaild_subarray(n, a)"
   ],
   "id": "c33bcbc597c49457"
  },
  {
   "metadata": {},
   "cell_type": "code",
   "outputs": [],
   "execution_count": null,
   "source": [
    "def process_grid(n, m, sticks):\n",
    "    grid = [[0 for _ in range(n)]for _ in range(m)]\n",
    "    for op in operations:\n",
    "        cmd, x, y = op\n",
    "        x -= 1\n",
    "        y -= 1\n",
    "        if cmd == 'c':\n",
    "            grid[x][y] = 1\n",
    "        elif cmd == 'l':\n",
    "            for i in range(x, -1, -1):\n",
    "                if grid[x][y] == 0:\n",
    "                    grid[x][y] = 1\n",
    "                else:\n",
    "                    break\n",
    "        elif cmd == 'r':\n",
    "            for i in range(x, m):\n",
    "                if grid[x][y] == 0:\n",
    "                    grid[x][y] = 1\n",
    "                else:\n",
    "                    break\n",
    "        elif cmd == 'u':\n",
    "            for i in range(y, -1, -1):\n",
    "                if grid[x][y] == 0:\n",
    "                    grid[x][y] = 1\n",
    "                else:\n",
    "                    break\n",
    "        elif cmd == 'd':\n",
    "            for i in range(y, n):\n",
    "                if grid[x][y] == 0:\n",
    "                    grid[x][y] = 1\n",
    "                else:\n",
    "                    break\n",
    "    return grid\n",
    "    \n",
    "n, m, k = map(int, input().split())\n",
    "operations = list[input().split() for _ in range(k)]\n",
    "\n",
    "grid = process_grid(n, m, operations)"
   ],
   "id": "4ce17178228ef47"
  },
  {
   "metadata": {},
   "cell_type": "code",
   "outputs": [],
   "execution_count": null,
   "source": [
    "n, m, k = map(int, input().split())\n",
    "nums = [[0] * m for _ in range(n)]\n",
    "\n",
    "for _ in range(k):\n",
    "    s, x, y = input().split()\n",
    "    x, y = int(x), int(y)\n",
    "    if s == 'c':\n",
    "        nums[x - 1][y - 1] = 1\n",
    "    elif s == 'l':\n",
    "        inFind = False\n",
    "        for i in range(y - 2, -1, -1):\n",
    "            if nums[x - 1][i] == 0:\n",
    "                print(x, i + 1)\n",
    "                isFind = True\n",
    "                break\n",
    "        if not isFind:\n",
    "            print(-1)\n",
    "    elif s == 'r':\n",
    "        isFind = False\n",
    "        for i in range(y, m):\n",
    "            if nums[x - 1][i] == 0:\n",
    "                print(x, i)\n",
    "                isFind = True\n",
    "                break\n",
    "        if not isFind:\n",
    "            print(-1)\n",
    "    elif s == 'u':\n",
    "        isFind = False\n",
    "        for i in range(x - 2, -1, -1):\n",
    "            if nums[i][y - 1] == 0:\n",
    "                print(i + 1, y)\n",
    "                isFind = True\n",
    "                break\n",
    "        if not isFind:\n",
    "            print(-1)\n",
    "    elif s == 'd':\n",
    "        isFind = False\n",
    "        for i in range(x, n):\n",
    "            if nums[i][y - 1] == 0:\n",
    "                print(i, y)\n",
    "                isFind = True\n",
    "                break\n",
    "        if not isFind:\n",
    "            print(-1)"
   ],
   "id": "1b12912dcc0cd46e"
  },
  {
   "metadata": {
    "ExecuteTime": {
     "end_time": "2024-08-26T08:10:47.646149Z",
     "start_time": "2024-08-26T08:09:11.457532Z"
    }
   },
   "cell_type": "code",
   "source": [
    "a = [[False] * 105 for _ in range(105)]\n",
    "\n",
    "n, m, k = map(int, input().split())\n",
    "\n",
    "def find(x, y, d1, d2):\n",
    "    x += d1\n",
    "    y += d2\n",
    "    while y >= 1 and y <= m and x >= 1 and x <= m:\n",
    "        if not a[x][y]:\n",
    "            print(x, y)\n",
    "            return\n",
    "        x += d1\n",
    "        y += d2\n",
    "    print(-1)\n",
    "\n",
    "for _ in range(k):\n",
    "    op, x, y = input().split()\n",
    "    x, y = int(x), int(y)\n",
    "    d1, d2 = 0, 0\n",
    "    if op == 'c':\n",
    "        a[x][y] = True\n",
    "        continue\n",
    "    if op == 'l':\n",
    "        d2 = -1\n",
    "    elif op == 'r':\n",
    "        d2 = 1\n",
    "    elif op == 'u':\n",
    "        d1 = -1\n",
    "    elif op == 'd':\n",
    "        d1 = 1\n",
    "    find(x, y, d1, d2)"
   ],
   "id": "28433b72fcc8b121",
   "outputs": [
    {
     "name": "stdout",
     "output_type": "stream",
     "text": [
      "-1\n",
      "3 2\n",
      "4 3\n",
      "-1\n",
      "1 2\n",
      "4 3\n",
      "5 4\n"
     ]
    }
   ],
   "execution_count": 1
  },
  {
   "metadata": {
    "ExecuteTime": {
     "end_time": "2024-08-26T08:35:03.055317Z",
     "start_time": "2024-08-26T08:34:53.801423Z"
    }
   },
   "cell_type": "code",
   "source": [
    "from sortedcontainers import SortedList\n",
    "\n",
    "def find_longest_subarray(n, sticks):\n",
    "    S = SortedList()\n",
    "    r = n\n",
    "    ansl, ansr = 1, 2\n",
    "\n",
    "    for l in range(n, 0, -1):\n",
    "        if r < ansr - ansl:\n",
    "            break\n",
    "\n",
    "        S.add(sticks[l - 1])\n",
    "\n",
    "        if len(S) < 3:\n",
    "            continue\n",
    "\n",
    "        min1 = S[0]\n",
    "        min2 = S[1]\n",
    "        maxx = S[-1]\n",
    "\n",
    "        while min1 + min2 <= maxx:\n",
    "            S.remove(sticks[r - 1])\n",
    "            r -= 1\n",
    "\n",
    "            if len(S) < 3:\n",
    "                break\n",
    "\n",
    "            min1 = S[0]\n",
    "            min2 = S[1]\n",
    "            if sticks[r] == maxx:\n",
    "                maxx = S[-1]\n",
    "\n",
    "        if r - l >= ansr - ansl:\n",
    "            ansl, ansr = l, r\n",
    "\n",
    "    print(ansl, ansr)\n",
    "\n",
    "if __name__ == \"__main__\":\n",
    "    n = int(input().strip())\n",
    "    sticks = list(map(int, input().strip().split()))\n",
    "    find_longest_subarray(n, sticks)\n"
   ],
   "id": "abe118fb2024b14f",
   "outputs": [
    {
     "name": "stdout",
     "output_type": "stream",
     "text": [
      "1 4\n"
     ]
    }
   ],
   "execution_count": 6
  }
 ],
 "metadata": {
  "kernelspec": {
   "display_name": "Python 3",
   "language": "python",
   "name": "python3"
  },
  "language_info": {
   "codemirror_mode": {
    "name": "ipython",
    "version": 2
   },
   "file_extension": ".py",
   "mimetype": "text/x-python",
   "name": "python",
   "nbconvert_exporter": "python",
   "pygments_lexer": "ipython2",
   "version": "2.7.6"
  }
 },
 "nbformat": 4,
 "nbformat_minor": 5
}
