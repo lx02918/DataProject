{
 "cells": [
  {
   "cell_type": "code",
   "execution_count": null,
   "id": "initial_id",
   "metadata": {
    "collapsed": true
   },
   "outputs": [],
   "source": [
    "class Solution:\n",
    "    def min_value(self , nums: List[int], m: int) -> int:\n",
    "        if not root:\n",
    "            return None\n",
    "        \n",
    "        import collections\n",
    "        queue = collections.deque([root])\n",
    "        \n",
    "        nodes = []\n",
    "        while queue:\n",
    "            level_size = len(queue)\n",
    "            level_nodes = []\n",
    "            for _ in range(level_size):\n",
    "                node = queue.popleft()\n",
    "                level_nodes.append(node)\n",
    "                if node:\n",
    "                    queue.append(node.left)\n",
    "                    queue.append(node.right)\n",
    "            nodes.append(level_nodes)\n",
    "        \n",
    "        for level_nodes in nodes:\n",
    "            for i in range(len(level_nodes)):\n",
    "                if not level_nodes[i]:\n",
    "                    level_nodes[i] = TreeNode(-1)\n",
    "        for i in range(len(nodes) - 1):\n",
    "            level_nodes = nodes[i]\n",
    "            next_level_nodes = nodes[i + 1]\n",
    "            \n",
    "            for j, node in enumerate(level_nodes):\n",
    "                if node != None:\n",
    "                    node.left = next_level_nodes[2 * j]\n",
    "                    node.right = next_level_nodes[2 * j + 1]\n",
    "                    \n",
    "        def delete_filled_nodes(root):\n",
    "            if root is None or root.val == -1:\n",
    "                return root\n",
    "            root.left = delete_filled_nodes(root.left)\n",
    "            root.right = delete_filled_nodes(root.right)\n",
    "            if root.val == 0 and root.left is None and root.right is None:\n",
    "                return None\n",
    "            return root\n",
    "            \n",
    "        return delete_filled_nodes(root)"
   ]
  },
  {
   "metadata": {},
   "cell_type": "code",
   "outputs": [],
   "execution_count": null,
   "source": [
    "class ListNode:\n",
    "    def __init__(self, val=0, next=None):\n",
    "        self.val = val\n",
    "        self.next = next\n",
    "    def merge(self, a: ListNode):\n",
    "        if a is None:\n",
    "            return 0\n",
    "        \n",
    "        mergecnt = 0\n",
    "        cur = 0\n",
    "        while cur.next is not None:\n",
    "            if (cur.val == 0 and cur.next.val != 0) or (cur.val != 0 and cur.next.val == 0):\n",
    "                cur = cur.next\n",
    "            else:\n",
    "                mergecnt += 1\n",
    "                cur.val = max(cur.val, cur.next.val)\n",
    "                cur.next = cur.next.next\n",
    "        return mergecnt"
   ],
   "id": "fc8de39b81c608fd"
  },
  {
   "metadata": {},
   "cell_type": "code",
   "outputs": [],
   "execution_count": null,
   "source": [
    "class Solution:\n",
    "    def recoverHuffman(self , leaf: List[str], value: List[int]) -> TreeNode:\n",
    "        leaf_dict = {code: val for code, val in zip(leaf, value)}\n",
    "        def build_tree(prefix = ''):\n",
    "            if prefix in leaf_dict:\n",
    "                return TreeNode(leaf_dict[prefix])\n",
    "            \n",
    "            node = TreeNode()\n",
    "            \n",
    "            node.left = build_tree(prefix + '0')\n",
    "            node.right = build_tree(prefix + '1')\n",
    "            \n",
    "            node.val = node.left.val + node.right.val\n",
    "                \n",
    "            return node\n",
    "        root = build_tree()\n",
    "        \n",
    "        def tree_to_list(node):\n",
    "            if not node:\n",
    "                return {'#'}\n",
    "            return {node.val + tree_to_list(node.left) + tree_to_list(node.right)}\n",
    "        return tree_to_list(root)"
   ],
   "id": "4c9e1662d3c4102e"
  }
 ],
 "metadata": {
  "kernelspec": {
   "display_name": "Python 3",
   "language": "python",
   "name": "python3"
  },
  "language_info": {
   "codemirror_mode": {
    "name": "ipython",
    "version": 2
   },
   "file_extension": ".py",
   "mimetype": "text/x-python",
   "name": "python",
   "nbconvert_exporter": "python",
   "pygments_lexer": "ipython2",
   "version": "2.7.6"
  }
 },
 "nbformat": 4,
 "nbformat_minor": 5
}
