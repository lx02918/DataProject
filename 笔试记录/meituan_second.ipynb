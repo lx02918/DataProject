{
 "cells": [
  {
   "cell_type": "code",
   "id": "initial_id",
   "metadata": {
    "collapsed": true,
    "ExecuteTime": {
     "end_time": "2024-08-24T03:21:09.147484Z",
     "start_time": "2024-08-24T03:21:07.329876Z"
    }
   },
   "source": [
    "def get_resolution(h, w):\n",
    "    min_dim = min(h, w)\n",
    "    if min_dim >= 2160:\n",
    "        return '4K'\n",
    "    elif min_dim >= 1080:\n",
    "        return '1080P'\n",
    "    elif min_dim >= 720:\n",
    "        return '720P'\n",
    "    elif min_dim >= 480:\n",
    "        return '480P'\n",
    "    elif min_dim >= 360:\n",
    "        return '360P'\n",
    "    else:\n",
    "        return 'break'\n",
    "T = int(input())\n",
    "\n",
    "for _ in range(T):\n",
    "    h, w = map(int, input().split())\n",
    "    print(get_resolution(h, w))"
   ],
   "outputs": [
    {
     "ename": "KeyboardInterrupt",
     "evalue": "Interrupted by user",
     "output_type": "error",
     "traceback": [
      "\u001B[1;31m---------------------------------------------------------------------------\u001B[0m",
      "\u001B[1;31mKeyboardInterrupt\u001B[0m                         Traceback (most recent call last)",
      "Cell \u001B[1;32mIn[17], line 15\u001B[0m\n\u001B[0;32m     13\u001B[0m     \u001B[38;5;28;01melse\u001B[39;00m:\n\u001B[0;32m     14\u001B[0m         \u001B[38;5;28;01mreturn\u001B[39;00m \u001B[38;5;124m'\u001B[39m\u001B[38;5;124mbreak\u001B[39m\u001B[38;5;124m'\u001B[39m\n\u001B[1;32m---> 15\u001B[0m T \u001B[38;5;241m=\u001B[39m \u001B[38;5;28mint\u001B[39m(\u001B[38;5;28minput\u001B[39m())\n",
      "File \u001B[1;32mD:\\data\\conda\\envs\\ML\\Lib\\site-packages\\ipykernel\\kernelbase.py:1202\u001B[0m, in \u001B[0;36mKernel.raw_input\u001B[1;34m(self, prompt)\u001B[0m\n\u001B[0;32m   1200\u001B[0m     msg \u001B[38;5;241m=\u001B[39m \u001B[38;5;124m\"\u001B[39m\u001B[38;5;124mraw_input was called, but this frontend does not support input requests.\u001B[39m\u001B[38;5;124m\"\u001B[39m\n\u001B[0;32m   1201\u001B[0m     \u001B[38;5;28;01mraise\u001B[39;00m StdinNotImplementedError(msg)\n\u001B[1;32m-> 1202\u001B[0m \u001B[38;5;28;01mreturn\u001B[39;00m \u001B[38;5;28mself\u001B[39m\u001B[38;5;241m.\u001B[39m_input_request(\n\u001B[0;32m   1203\u001B[0m     \u001B[38;5;28mstr\u001B[39m(prompt),\n\u001B[0;32m   1204\u001B[0m     \u001B[38;5;28mself\u001B[39m\u001B[38;5;241m.\u001B[39m_parent_ident[\u001B[38;5;124m\"\u001B[39m\u001B[38;5;124mshell\u001B[39m\u001B[38;5;124m\"\u001B[39m],\n\u001B[0;32m   1205\u001B[0m     \u001B[38;5;28mself\u001B[39m\u001B[38;5;241m.\u001B[39mget_parent(\u001B[38;5;124m\"\u001B[39m\u001B[38;5;124mshell\u001B[39m\u001B[38;5;124m\"\u001B[39m),\n\u001B[0;32m   1206\u001B[0m     password\u001B[38;5;241m=\u001B[39m\u001B[38;5;28;01mFalse\u001B[39;00m,\n\u001B[0;32m   1207\u001B[0m )\n",
      "File \u001B[1;32mD:\\data\\conda\\envs\\ML\\Lib\\site-packages\\ipykernel\\kernelbase.py:1245\u001B[0m, in \u001B[0;36mKernel._input_request\u001B[1;34m(self, prompt, ident, parent, password)\u001B[0m\n\u001B[0;32m   1242\u001B[0m \u001B[38;5;28;01mexcept\u001B[39;00m \u001B[38;5;167;01mKeyboardInterrupt\u001B[39;00m:\n\u001B[0;32m   1243\u001B[0m     \u001B[38;5;66;03m# re-raise KeyboardInterrupt, to truncate traceback\u001B[39;00m\n\u001B[0;32m   1244\u001B[0m     msg \u001B[38;5;241m=\u001B[39m \u001B[38;5;124m\"\u001B[39m\u001B[38;5;124mInterrupted by user\u001B[39m\u001B[38;5;124m\"\u001B[39m\n\u001B[1;32m-> 1245\u001B[0m     \u001B[38;5;28;01mraise\u001B[39;00m \u001B[38;5;167;01mKeyboardInterrupt\u001B[39;00m(msg) \u001B[38;5;28;01mfrom\u001B[39;00m \u001B[38;5;28;01mNone\u001B[39;00m\n\u001B[0;32m   1246\u001B[0m \u001B[38;5;28;01mexcept\u001B[39;00m \u001B[38;5;167;01mException\u001B[39;00m:\n\u001B[0;32m   1247\u001B[0m     \u001B[38;5;28mself\u001B[39m\u001B[38;5;241m.\u001B[39mlog\u001B[38;5;241m.\u001B[39mwarning(\u001B[38;5;124m\"\u001B[39m\u001B[38;5;124mInvalid Message:\u001B[39m\u001B[38;5;124m\"\u001B[39m, exc_info\u001B[38;5;241m=\u001B[39m\u001B[38;5;28;01mTrue\u001B[39;00m)\n",
      "\u001B[1;31mKeyboardInterrupt\u001B[0m: Interrupted by user"
     ]
    }
   ],
   "execution_count": 17
  },
  {
   "metadata": {
    "ExecuteTime": {
     "end_time": "2024-08-24T02:28:08.631335Z",
     "start_time": "2024-08-24T02:27:52.402694Z"
    }
   },
   "cell_type": "code",
   "source": [
    "def determine_resolution(h, w):\n",
    "    if h < 360 or w < 360:\n",
    "        return 'break'\n",
    "    if h < w:\n",
    "        if h >= 2160:\n",
    "            return '4K'\n",
    "        elif h >= 1080:\n",
    "            return '1080P'\n",
    "        elif h >= 720:\n",
    "            return '720P'\n",
    "        elif h >= 480:\n",
    "            return '480P'\n",
    "        else:\n",
    "            return '360P'\n",
    "    if h > w:\n",
    "        if w >= 2160:\n",
    "            return '4K'\n",
    "        elif w >= 1080:\n",
    "            return '1080P'\n",
    "        elif w >= 720:\n",
    "            return '720P'\n",
    "        elif w >= 480:\n",
    "            return '480P'\n",
    "        else:\n",
    "            return '360P'\n",
    "\n",
    "results = []\n",
    "for _ in range(int(input())):\n",
    "    h, w = map(int, input().split())\n",
    "    results.append(determine_resolution(h, w))\n",
    "for result in results:\n",
    "    print(result)"
   ],
   "id": "57bbeee728366e53",
   "outputs": [
    {
     "name": "stdout",
     "output_type": "stream",
     "text": [
      "1080P\n",
      "480P\n"
     ]
    }
   ],
   "execution_count": 7
  },
  {
   "metadata": {
    "ExecuteTime": {
     "end_time": "2024-08-24T02:33:38.857829Z",
     "start_time": "2024-08-24T02:33:25.567890Z"
    }
   },
   "cell_type": "code",
   "source": [
    "def min_moves(a, b, c, d, boxes):\n",
    "    def manhattan_distance(x1, y1, x2, y2):\n",
    "        return abs(x1 - x2) + abs(y1 - y2)\n",
    "    total_cost = 0\n",
    "    \n",
    "    initial_move_cost = manhattan_distance(a, b, c, d)\n",
    "    for box in boxes:\n",
    "        xi, yi = box\n",
    "        to_box_cost = manhattan_distance(xi, yi, c, d)\n",
    "        \n",
    "        move_to_origin_cost = manhattan_distance(xi, yi, 0, 0)\n",
    "    total_cost += initial_move_cost\n",
    "    \n",
    "    return total_cost\n",
    "\n",
    "a, b, c, d = map(int, input().split())\n",
    "n = int(input())\n",
    "boxes = []\n",
    "for _ in range(n):\n",
    "    xi, yi = map(int, input().split())\n",
    "    boxes.append((xi, yi))\n",
    "print(min_moves(a, b, c, d, boxes))"
   ],
   "id": "8b4ebfa8f523062d",
   "outputs": [
    {
     "name": "stdout",
     "output_type": "stream",
     "text": [
      "2\n"
     ]
    }
   ],
   "execution_count": 8
  },
  {
   "metadata": {
    "ExecuteTime": {
     "end_time": "2024-08-24T02:39:54.521781Z",
     "start_time": "2024-08-24T02:39:40.509717Z"
    }
   },
   "cell_type": "code",
   "source": [
    "def min_moves(a, b, boxes):\n",
    "    total_cost = 0\n",
    "    current_x, current_y = a, b\n",
    "    for xi, yi in boxes:\n",
    "        total_cost += abs(current_x - xi) + abs(current_y - yi)\n",
    "        \n",
    "        total_cost += abs(xi) + abs(yi)\n",
    "        current_x, current_y = 0, 0\n",
    "        \n",
    "    total_cost += abs(current_x) + abs(current_y)\n",
    "    \n",
    "    return total_cost\n",
    "\n",
    "a, b, _, _ = map(int, input().split())\n",
    "n = int(input())\n",
    "boxes = []\n",
    "for _ in range(n):\n",
    "    xi, yi = map(int, input().split())\n",
    "    boxes.append((xi, yi))\n",
    "print(min_moves(a, b, boxes))"
   ],
   "id": "d2ad907eed281eb5",
   "outputs": [
    {
     "name": "stdout",
     "output_type": "stream",
     "text": [
      "10\n"
     ]
    }
   ],
   "execution_count": 9
  },
  {
   "metadata": {
    "ExecuteTime": {
     "end_time": "2024-08-24T02:46:31.829591Z",
     "start_time": "2024-08-24T02:46:21.145250Z"
    }
   },
   "cell_type": "code",
   "source": [
    "def min_move_cost(a, b, c, d, boxes):\n",
    "    total_cost = 0\n",
    "    initial_x, initial_y = a, b\n",
    "    \n",
    "    for i in range(n):\n",
    "        box_x, box_y = boxes[i]\n",
    "        move_to_box_cost = abs(initial_x - box_x) + abs(initial_y - box_y)\n",
    "        \n",
    "        move_to_target_cost = abs(box_x - c) + abs(box_y - d)\n",
    "        total_cost += move_to_box_cost + move_to_target_cost\n",
    "        initial_x, initial_y = c, d\n",
    "    return total_cost\n",
    "a, b, c, d = map(int, input().split())\n",
    "n = int(input())\n",
    "boxes = []\n",
    "for _ in range(n):\n",
    "    x, y = map(int, input().split())\n",
    "    boxes.append((x, y))\n",
    "print(min_move_cost(a, b, c, d, boxes))"
   ],
   "id": "3cd09b705d8c26a9",
   "outputs": [
    {
     "name": "stdout",
     "output_type": "stream",
     "text": [
      "6\n"
     ]
    }
   ],
   "execution_count": 11
  },
  {
   "metadata": {
    "ExecuteTime": {
     "end_time": "2024-08-24T02:47:51.225512Z",
     "start_time": "2024-08-24T02:47:51.221518Z"
    }
   },
   "cell_type": "code",
   "source": [
    "from _collections import deque\n",
    "def min_cost_to_move_boxes(a, b, c, d, n, boxes):\n",
    "    directions = [(0, 1), (0, -1), (1, 0), (-1, 0)]\n",
    "    to_move_box = {(x, y): abs(x) + abs(y) for x, y in boxes}\n",
    "    queue = deque([a, b, 0])\n",
    "    visited = set()\n",
    "    visited.add((a, b))\n",
    "    \n",
    "    total_cost = 0\n",
    "    \n",
    "    while queue:\n",
    "        x, y, cost = queue.popleft()\n",
    "        if (x, y) in to_move_box:\n",
    "            total_cost += cost + to_move_box[(x, y)]\n",
    "            del to_move_box[(x, y)]\n",
    "            queue = deque([(x, y, 0)])\n",
    "            visited.clean()\n",
    "            visited.add((x, y))\n",
    "            continue\n",
    "        for dx, dy in directions:\n",
    "            nx, ny = x + dx, y + dy\n",
    "            if (nx, ny) not in visited:\n",
    "                visited.add((nx, ny))\n",
    "                queue.append((nx, ny, cost + 1))\n",
    "    return total_cost\n",
    "\n",
    "a, b, c, d = map(int, input().split())\n",
    "n = int(input())\n",
    "boxes = []\n",
    "for _ in range(n):\n",
    "    x, y = map(int, input().split())\n",
    "    boxes.append((x, y))\n",
    "print(min_move_cost(a, b, c, d, boxes))"
   ],
   "id": "39d1548704d4cc8b",
   "outputs": [],
   "execution_count": 12
  },
  {
   "metadata": {},
   "cell_type": "code",
   "outputs": [],
   "execution_count": null,
   "source": "",
   "id": "47fb64335485a2ff"
  },
  {
   "metadata": {
    "ExecuteTime": {
     "end_time": "2024-08-24T03:05:12.738685Z",
     "start_time": "2024-08-24T03:05:08.735465Z"
    }
   },
   "cell_type": "code",
   "source": [
    "import heapq\n",
    "def max_product_module(a, b, c, d):\n",
    "    min_heap = [a, b, c]\n",
    "    heapq.heapify(min_heap)\n",
    "    for _ in range(k):\n",
    "        min_val = heapq.heappop(min_heap)\n",
    "        min_val += 1\n",
    "        heapq.heappush(min_heap, min_val)\n",
    "    a, b, c = heapq.heappop(min_heap), heapq.heappop(min_heap), heapq.heappop(min_heap)\n",
    "    MOD = 10 ** 9 + 7\n",
    "    result = (a * b * c) % MOD\n",
    "    \n",
    "    return result\n",
    "a, b, c, k = map(int, input().split())\n",
    "print(max_product_module(a, b, c, k))"
   ],
   "id": "13b655e8f1771fa",
   "outputs": [
    {
     "name": "stdout",
     "output_type": "stream",
     "text": [
      "12\n"
     ]
    }
   ],
   "execution_count": 14
  },
  {
   "metadata": {},
   "cell_type": "code",
   "outputs": [],
   "execution_count": null,
   "source": [
    "def max_product_module(a, b, c, d):\n",
    "    min_val = min(a, b, c)\n",
    "    min_val += k\n",
    "    if a == min(a, b, c):\n",
    "        a = min_val\n",
    "    elif b == min(a, b, c):\n",
    "        b = min_val\n",
    "    else:\n",
    "        c = min_val\n",
    "    MOD = 100 ** 9 + 7\n",
    "    result = (a * b % MOD) * c % MOD\n",
    "    \n",
    "    return result\n",
    "    \n",
    "a, b, c, k = map(int, input().split())\n",
    "print(max_product_module(a, b, c, k))"
   ],
   "id": "8160010ef84fc713"
  },
  {
   "metadata": {
    "ExecuteTime": {
     "end_time": "2024-08-24T03:16:12.515063Z",
     "start_time": "2024-08-24T03:16:05.155719Z"
    }
   },
   "cell_type": "code",
   "source": [
    "def find_mex(column):\n",
    "    column_set = set(column)\n",
    "    mex = 1\n",
    "    while mex in column_set:\n",
    "        mex += 1\n",
    "    return mex\n",
    "n = int(input())\n",
    "a = list(map(int, input().split()))\n",
    "\n",
    "matrix = [list(map(int, input().split())) for _ in range(max(a) + 1)]\n",
    "\n",
    "result = []\n",
    "for col in range(n):\n",
    "    column = [matrix[row][col] for row in range(max(a) + 1)]\n",
    "    result.append(find_mex(column))\n",
    "print(*result)"
   ],
   "id": "75dea23a2dea136f",
   "outputs": [
    {
     "ename": "KeyboardInterrupt",
     "evalue": "Interrupted by user",
     "output_type": "error",
     "traceback": [
      "\u001B[1;31m---------------------------------------------------------------------------\u001B[0m",
      "\u001B[1;31mKeyboardInterrupt\u001B[0m                         Traceback (most recent call last)",
      "Cell \u001B[1;32mIn[16], line 7\u001B[0m\n\u001B[0;32m      5\u001B[0m         mex \u001B[38;5;241m+\u001B[39m\u001B[38;5;241m=\u001B[39m \u001B[38;5;241m1\u001B[39m\n\u001B[0;32m      6\u001B[0m     \u001B[38;5;28;01mreturn\u001B[39;00m mex\n\u001B[1;32m----> 7\u001B[0m n \u001B[38;5;241m=\u001B[39m \u001B[38;5;28mint\u001B[39m(\u001B[38;5;28minput\u001B[39m())\n\u001B[0;32m      8\u001B[0m a \u001B[38;5;241m=\u001B[39m \u001B[38;5;28mlist\u001B[39m(\u001B[38;5;28mmap\u001B[39m(\u001B[38;5;28mint\u001B[39m, \u001B[38;5;28minput\u001B[39m()\u001B[38;5;241m.\u001B[39msplit()))\n\u001B[0;32m     10\u001B[0m matrix \u001B[38;5;241m=\u001B[39m [\u001B[38;5;28mlist\u001B[39m(\u001B[38;5;28mmap\u001B[39m(\u001B[38;5;28mint\u001B[39m, \u001B[38;5;28minput\u001B[39m()\u001B[38;5;241m.\u001B[39msplit())) \u001B[38;5;28;01mfor\u001B[39;00m _ \u001B[38;5;129;01min\u001B[39;00m \u001B[38;5;28mrange\u001B[39m(\u001B[38;5;28mmax\u001B[39m(a) \u001B[38;5;241m+\u001B[39m \u001B[38;5;241m1\u001B[39m)]\n",
      "File \u001B[1;32mD:\\data\\conda\\envs\\ML\\Lib\\site-packages\\ipykernel\\kernelbase.py:1202\u001B[0m, in \u001B[0;36mKernel.raw_input\u001B[1;34m(self, prompt)\u001B[0m\n\u001B[0;32m   1200\u001B[0m     msg \u001B[38;5;241m=\u001B[39m \u001B[38;5;124m\"\u001B[39m\u001B[38;5;124mraw_input was called, but this frontend does not support input requests.\u001B[39m\u001B[38;5;124m\"\u001B[39m\n\u001B[0;32m   1201\u001B[0m     \u001B[38;5;28;01mraise\u001B[39;00m StdinNotImplementedError(msg)\n\u001B[1;32m-> 1202\u001B[0m \u001B[38;5;28;01mreturn\u001B[39;00m \u001B[38;5;28mself\u001B[39m\u001B[38;5;241m.\u001B[39m_input_request(\n\u001B[0;32m   1203\u001B[0m     \u001B[38;5;28mstr\u001B[39m(prompt),\n\u001B[0;32m   1204\u001B[0m     \u001B[38;5;28mself\u001B[39m\u001B[38;5;241m.\u001B[39m_parent_ident[\u001B[38;5;124m\"\u001B[39m\u001B[38;5;124mshell\u001B[39m\u001B[38;5;124m\"\u001B[39m],\n\u001B[0;32m   1205\u001B[0m     \u001B[38;5;28mself\u001B[39m\u001B[38;5;241m.\u001B[39mget_parent(\u001B[38;5;124m\"\u001B[39m\u001B[38;5;124mshell\u001B[39m\u001B[38;5;124m\"\u001B[39m),\n\u001B[0;32m   1206\u001B[0m     password\u001B[38;5;241m=\u001B[39m\u001B[38;5;28;01mFalse\u001B[39;00m,\n\u001B[0;32m   1207\u001B[0m )\n",
      "File \u001B[1;32mD:\\data\\conda\\envs\\ML\\Lib\\site-packages\\ipykernel\\kernelbase.py:1245\u001B[0m, in \u001B[0;36mKernel._input_request\u001B[1;34m(self, prompt, ident, parent, password)\u001B[0m\n\u001B[0;32m   1242\u001B[0m \u001B[38;5;28;01mexcept\u001B[39;00m \u001B[38;5;167;01mKeyboardInterrupt\u001B[39;00m:\n\u001B[0;32m   1243\u001B[0m     \u001B[38;5;66;03m# re-raise KeyboardInterrupt, to truncate traceback\u001B[39;00m\n\u001B[0;32m   1244\u001B[0m     msg \u001B[38;5;241m=\u001B[39m \u001B[38;5;124m\"\u001B[39m\u001B[38;5;124mInterrupted by user\u001B[39m\u001B[38;5;124m\"\u001B[39m\n\u001B[1;32m-> 1245\u001B[0m     \u001B[38;5;28;01mraise\u001B[39;00m \u001B[38;5;167;01mKeyboardInterrupt\u001B[39;00m(msg) \u001B[38;5;28;01mfrom\u001B[39;00m \u001B[38;5;28;01mNone\u001B[39;00m\n\u001B[0;32m   1246\u001B[0m \u001B[38;5;28;01mexcept\u001B[39;00m \u001B[38;5;167;01mException\u001B[39;00m:\n\u001B[0;32m   1247\u001B[0m     \u001B[38;5;28mself\u001B[39m\u001B[38;5;241m.\u001B[39mlog\u001B[38;5;241m.\u001B[39mwarning(\u001B[38;5;124m\"\u001B[39m\u001B[38;5;124mInvalid Message:\u001B[39m\u001B[38;5;124m\"\u001B[39m, exc_info\u001B[38;5;241m=\u001B[39m\u001B[38;5;28;01mTrue\u001B[39;00m)\n",
      "\u001B[1;31mKeyboardInterrupt\u001B[0m: Interrupted by user"
     ]
    }
   ],
   "execution_count": 16
  },
  {
   "metadata": {},
   "cell_type": "code",
   "outputs": [],
   "execution_count": null,
   "source": [
    "def min_moves(a, b, c, d, boxes):\n",
    "    dict = [(0, 1), (0, -1), (1, 0), (-1, 0)]\n",
    "    total_cost = 0\n",
    "    for box in boxes:\n",
    "        "
   ],
   "id": "7f71210e4ea51a31"
  },
  {
   "metadata": {
    "ExecuteTime": {
     "end_time": "2024-08-24T03:35:23.738278Z",
     "start_time": "2024-08-24T03:35:20.802882Z"
    }
   },
   "cell_type": "code",
   "source": [
    "def max_product(a, b, c, k):\n",
    "    numbers = [a, b, c]\n",
    "    numbers.sort(reverse = True)\n",
    "    \n",
    "    numbers[0] += k\n",
    "    result = numbers[0] * numbers[1] * numbers[2]\n",
    "    return result % (10 ** 9 + 7)\n",
    "a, b, c, k = map(int, input().split())\n",
    "\n",
    "print(max_product(a, b, c, k))"
   ],
   "id": "2d3515aa4acad015",
   "outputs": [
    {
     "name": "stdout",
     "output_type": "stream",
     "text": [
      "8\n"
     ]
    }
   ],
   "execution_count": 20
  },
  {
   "metadata": {
    "ExecuteTime": {
     "end_time": "2024-08-24T03:35:17.366013Z",
     "start_time": "2024-08-24T03:35:14.494314Z"
    }
   },
   "cell_type": "code",
   "source": [
    "def max_product(a, b, c, k):\n",
    "    MOD= 10 ** 9 + 7\n",
    "    for _ in range(k):\n",
    "        if a <= b and a <= c:\n",
    "            a += 1\n",
    "        elif b <= a and b <= c:\n",
    "            b += 1\n",
    "        else:\n",
    "            c += 1\n",
    "    return (a + b + c) % MOD\n",
    "a, b, c, k = map(int, input().split())\n",
    "\n",
    "print(max_product(a, b, c, k))"
   ],
   "id": "229f2f32a9c1fe72",
   "outputs": [
    {
     "name": "stdout",
     "output_type": "stream",
     "text": [
      "8\n"
     ]
    }
   ],
   "execution_count": 19
  },
  {
   "metadata": {},
   "cell_type": "code",
   "outputs": [],
   "execution_count": null,
   "source": "",
   "id": "2ca30c4a4f7ba989"
  }
 ],
 "metadata": {
  "kernelspec": {
   "display_name": "python(ML)",
   "language": "python",
   "name": "ml"
  },
  "language_info": {
   "codemirror_mode": {
    "name": "ipython",
    "version": 2
   },
   "file_extension": ".py",
   "mimetype": "text/x-python",
   "name": "python",
   "nbconvert_exporter": "python",
   "pygments_lexer": "ipython2",
   "version": "2.7.6"
  }
 },
 "nbformat": 4,
 "nbformat_minor": 5
}
