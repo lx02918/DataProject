{
 "cells": [
  {
   "cell_type": "code",
   "id": "initial_id",
   "metadata": {
    "collapsed": true,
    "ExecuteTime": {
     "end_time": "2024-09-14T08:16:57.371444Z",
     "start_time": "2024-09-14T08:16:54.339821Z"
    }
   },
   "source": [
    "def solve(n, heights):\n",
    "    left = [1] * n\n",
    "    for i in range(1, n):\n",
    "        if heights[i] > heights[i - 1]:\n",
    "            left[i] = left[i - 1] + 1\n",
    "    \n",
    "    right = [1] * n\n",
    "    for i in range(n - 2, -1, -1):\n",
    "        if heights[i] > heights[i + 1]:\n",
    "            right[i] = right[i + 1] + 1\n",
    "    \n",
    "    max_length = max(left)\n",
    "    \n",
    "    for i in range(n):\n",
    "        if i > 0:\n",
    "            max_length = max(max_length, left[i - 1] + right[i])\n",
    "        if i < n - 1:\n",
    "            max_length = max(max_length, left[i] + right[i + 1])\n",
    "    return max_length\n",
    "\n",
    "T = int(input())\n",
    "for _ in range(T):\n",
    "    n = int(input())\n",
    "    heights = list(map(int, input().split()))\n",
    "    print(solve(n, heights))"
   ],
   "outputs": [
    {
     "ename": "KeyboardInterrupt",
     "evalue": "Interrupted by user",
     "output_type": "error",
     "traceback": [
      "\u001B[1;31m---------------------------------------------------------------------------\u001B[0m",
      "\u001B[1;31mKeyboardInterrupt\u001B[0m                         Traceback (most recent call last)",
      "Cell \u001B[1;32mIn[1], line 21\u001B[0m\n\u001B[0;32m     18\u001B[0m             max_length \u001B[38;5;241m=\u001B[39m \u001B[38;5;28mmax\u001B[39m(max_length, left[i] \u001B[38;5;241m+\u001B[39m right[i \u001B[38;5;241m+\u001B[39m \u001B[38;5;241m1\u001B[39m])\n\u001B[0;32m     19\u001B[0m     \u001B[38;5;28;01mreturn\u001B[39;00m max_length\n\u001B[1;32m---> 21\u001B[0m T \u001B[38;5;241m=\u001B[39m \u001B[38;5;28minput\u001B[39m(\u001B[38;5;28minput\u001B[39m())\n",
      "File \u001B[1;32mD:\\data\\conda\\envs\\ML\\Lib\\site-packages\\ipykernel\\kernelbase.py:1202\u001B[0m, in \u001B[0;36mKernel.raw_input\u001B[1;34m(self, prompt)\u001B[0m\n\u001B[0;32m   1200\u001B[0m     msg \u001B[38;5;241m=\u001B[39m \u001B[38;5;124m\"\u001B[39m\u001B[38;5;124mraw_input was called, but this frontend does not support input requests.\u001B[39m\u001B[38;5;124m\"\u001B[39m\n\u001B[0;32m   1201\u001B[0m     \u001B[38;5;28;01mraise\u001B[39;00m StdinNotImplementedError(msg)\n\u001B[1;32m-> 1202\u001B[0m \u001B[38;5;28;01mreturn\u001B[39;00m \u001B[38;5;28mself\u001B[39m\u001B[38;5;241m.\u001B[39m_input_request(\n\u001B[0;32m   1203\u001B[0m     \u001B[38;5;28mstr\u001B[39m(prompt),\n\u001B[0;32m   1204\u001B[0m     \u001B[38;5;28mself\u001B[39m\u001B[38;5;241m.\u001B[39m_parent_ident[\u001B[38;5;124m\"\u001B[39m\u001B[38;5;124mshell\u001B[39m\u001B[38;5;124m\"\u001B[39m],\n\u001B[0;32m   1205\u001B[0m     \u001B[38;5;28mself\u001B[39m\u001B[38;5;241m.\u001B[39mget_parent(\u001B[38;5;124m\"\u001B[39m\u001B[38;5;124mshell\u001B[39m\u001B[38;5;124m\"\u001B[39m),\n\u001B[0;32m   1206\u001B[0m     password\u001B[38;5;241m=\u001B[39m\u001B[38;5;28;01mFalse\u001B[39;00m,\n\u001B[0;32m   1207\u001B[0m )\n",
      "File \u001B[1;32mD:\\data\\conda\\envs\\ML\\Lib\\site-packages\\ipykernel\\kernelbase.py:1245\u001B[0m, in \u001B[0;36mKernel._input_request\u001B[1;34m(self, prompt, ident, parent, password)\u001B[0m\n\u001B[0;32m   1242\u001B[0m \u001B[38;5;28;01mexcept\u001B[39;00m \u001B[38;5;167;01mKeyboardInterrupt\u001B[39;00m:\n\u001B[0;32m   1243\u001B[0m     \u001B[38;5;66;03m# re-raise KeyboardInterrupt, to truncate traceback\u001B[39;00m\n\u001B[0;32m   1244\u001B[0m     msg \u001B[38;5;241m=\u001B[39m \u001B[38;5;124m\"\u001B[39m\u001B[38;5;124mInterrupted by user\u001B[39m\u001B[38;5;124m\"\u001B[39m\n\u001B[1;32m-> 1245\u001B[0m     \u001B[38;5;28;01mraise\u001B[39;00m \u001B[38;5;167;01mKeyboardInterrupt\u001B[39;00m(msg) \u001B[38;5;28;01mfrom\u001B[39;00m \u001B[38;5;28;01mNone\u001B[39;00m\n\u001B[0;32m   1246\u001B[0m \u001B[38;5;28;01mexcept\u001B[39;00m \u001B[38;5;167;01mException\u001B[39;00m:\n\u001B[0;32m   1247\u001B[0m     \u001B[38;5;28mself\u001B[39m\u001B[38;5;241m.\u001B[39mlog\u001B[38;5;241m.\u001B[39mwarning(\u001B[38;5;124m\"\u001B[39m\u001B[38;5;124mInvalid Message:\u001B[39m\u001B[38;5;124m\"\u001B[39m, exc_info\u001B[38;5;241m=\u001B[39m\u001B[38;5;28;01mTrue\u001B[39;00m)\n",
      "\u001B[1;31mKeyboardInterrupt\u001B[0m: Interrupted by user"
     ]
    }
   ],
   "execution_count": 1
  },
  {
   "metadata": {},
   "cell_type": "code",
   "outputs": [],
   "execution_count": null,
   "source": [
    "def solve(n, heights):\n",
    "    dp = [1] * n\n",
    "    for i in range(1, n):\n",
    "        if heights[i] > heights[i - 1]:\n",
    "            dp[i] = dp[i - 1] + 1\n",
    "    max_length = dp[0]\n",
    "    for i in range(1, n):\n",
    "        if i > 0:\n",
    "            max_length = max(max_length, dp[i - 1] + dp[i])\n",
    "        if i < n - 1:\n",
    "            max_length = max(max_length, dp[i] + dp[i + 1])\n",
    "    return max_length\n",
    "\n",
    "T = int(input())\n",
    "for _ in range(T):\n",
    "    n = int(input())\n",
    "    heights = list(map(int, input().split()))\n",
    "    print(solve(n, heights))"
   ],
   "id": "813c3857bb073c36"
  },
  {
   "metadata": {
    "ExecuteTime": {
     "end_time": "2024-09-14T08:56:51.987688Z",
     "start_time": "2024-09-14T08:56:50.041038Z"
    }
   },
   "cell_type": "code",
   "source": [
    "def max_high_risk(n, k, x, y):\n",
    "    from collections import deque\n",
    "    \n",
    "    # 曼哈顿距离公式\n",
    "    def manhatten_distance(x1, y1, x2, y2):\n",
    "        return abs(x1 - x2) + abs(y1 - y2)\n",
    "    \n",
    "    # 构建邻接表\n",
    "    adj = [[] for _ in range(n)]\n",
    "    for i in range(n):\n",
    "        for j in range(i + 1, n):\n",
    "            if manhatten_distance(x[i], y[i], x[j], y[j]) <= k:\n",
    "                adj[i].append(i)\n",
    "                adj[j].append(i)\n",
    "    # 构建BFS\n",
    "    def bfs(start):\n",
    "        queue = deque([start])\n",
    "        visited = [False] * n\n",
    "        visited[start] = True\n",
    "        count = 1\n",
    "        while queue:\n",
    "            current = queue.popleft()\n",
    "            for neighbor in adj[current]:\n",
    "                if not visited[neighbor]:\n",
    "                    queue.append(neighbor)\n",
    "                    visited[neighbor] = True\n",
    "                    count += 1\n",
    "        return count\n",
    "    max_count = 0\n",
    "    for i in range(n):\n",
    "        max_count = max(max_count, bfs(i))\n",
    "    return max_count\n",
    "# 输入\n",
    "n, k = map(int, input().split())\n",
    "x = list(map(int, input().split()))\n",
    "y = list(map(int, input().split()))\n",
    "# 输出\n",
    "print(max_high_risk(n, k, x, y))"
   ],
   "id": "efec252950a8feee",
   "outputs": [
    {
     "ename": "KeyboardInterrupt",
     "evalue": "Interrupted by user",
     "output_type": "error",
     "traceback": [
      "\u001B[1;31m---------------------------------------------------------------------------\u001B[0m",
      "\u001B[1;31mKeyboardInterrupt\u001B[0m                         Traceback (most recent call last)",
      "Cell \u001B[1;32mIn[2], line 34\u001B[0m\n\u001B[0;32m     32\u001B[0m     \u001B[38;5;28;01mreturn\u001B[39;00m max_count\n\u001B[0;32m     33\u001B[0m \u001B[38;5;66;03m# 输入\u001B[39;00m\n\u001B[1;32m---> 34\u001B[0m n, k \u001B[38;5;241m=\u001B[39m \u001B[38;5;28mmap\u001B[39m(\u001B[38;5;28mint\u001B[39m, \u001B[38;5;28minput\u001B[39m()\u001B[38;5;241m.\u001B[39msplit())\n\u001B[0;32m     35\u001B[0m x \u001B[38;5;241m=\u001B[39m \u001B[38;5;28mlist\u001B[39m(\u001B[38;5;28mmap\u001B[39m(\u001B[38;5;28mint\u001B[39m, \u001B[38;5;28minput\u001B[39m()\u001B[38;5;241m.\u001B[39msplit()))\n\u001B[0;32m     36\u001B[0m y \u001B[38;5;241m=\u001B[39m \u001B[38;5;28mlist\u001B[39m(\u001B[38;5;28mmap\u001B[39m(\u001B[38;5;28mint\u001B[39m, \u001B[38;5;28minput\u001B[39m()\u001B[38;5;241m.\u001B[39msplit()))\n",
      "File \u001B[1;32mD:\\data\\conda\\envs\\ML\\Lib\\site-packages\\ipykernel\\kernelbase.py:1202\u001B[0m, in \u001B[0;36mKernel.raw_input\u001B[1;34m(self, prompt)\u001B[0m\n\u001B[0;32m   1200\u001B[0m     msg \u001B[38;5;241m=\u001B[39m \u001B[38;5;124m\"\u001B[39m\u001B[38;5;124mraw_input was called, but this frontend does not support input requests.\u001B[39m\u001B[38;5;124m\"\u001B[39m\n\u001B[0;32m   1201\u001B[0m     \u001B[38;5;28;01mraise\u001B[39;00m StdinNotImplementedError(msg)\n\u001B[1;32m-> 1202\u001B[0m \u001B[38;5;28;01mreturn\u001B[39;00m \u001B[38;5;28mself\u001B[39m\u001B[38;5;241m.\u001B[39m_input_request(\n\u001B[0;32m   1203\u001B[0m     \u001B[38;5;28mstr\u001B[39m(prompt),\n\u001B[0;32m   1204\u001B[0m     \u001B[38;5;28mself\u001B[39m\u001B[38;5;241m.\u001B[39m_parent_ident[\u001B[38;5;124m\"\u001B[39m\u001B[38;5;124mshell\u001B[39m\u001B[38;5;124m\"\u001B[39m],\n\u001B[0;32m   1205\u001B[0m     \u001B[38;5;28mself\u001B[39m\u001B[38;5;241m.\u001B[39mget_parent(\u001B[38;5;124m\"\u001B[39m\u001B[38;5;124mshell\u001B[39m\u001B[38;5;124m\"\u001B[39m),\n\u001B[0;32m   1206\u001B[0m     password\u001B[38;5;241m=\u001B[39m\u001B[38;5;28;01mFalse\u001B[39;00m,\n\u001B[0;32m   1207\u001B[0m )\n",
      "File \u001B[1;32mD:\\data\\conda\\envs\\ML\\Lib\\site-packages\\ipykernel\\kernelbase.py:1245\u001B[0m, in \u001B[0;36mKernel._input_request\u001B[1;34m(self, prompt, ident, parent, password)\u001B[0m\n\u001B[0;32m   1242\u001B[0m \u001B[38;5;28;01mexcept\u001B[39;00m \u001B[38;5;167;01mKeyboardInterrupt\u001B[39;00m:\n\u001B[0;32m   1243\u001B[0m     \u001B[38;5;66;03m# re-raise KeyboardInterrupt, to truncate traceback\u001B[39;00m\n\u001B[0;32m   1244\u001B[0m     msg \u001B[38;5;241m=\u001B[39m \u001B[38;5;124m\"\u001B[39m\u001B[38;5;124mInterrupted by user\u001B[39m\u001B[38;5;124m\"\u001B[39m\n\u001B[1;32m-> 1245\u001B[0m     \u001B[38;5;28;01mraise\u001B[39;00m \u001B[38;5;167;01mKeyboardInterrupt\u001B[39;00m(msg) \u001B[38;5;28;01mfrom\u001B[39;00m \u001B[38;5;28;01mNone\u001B[39;00m\n\u001B[0;32m   1246\u001B[0m \u001B[38;5;28;01mexcept\u001B[39;00m \u001B[38;5;167;01mException\u001B[39;00m:\n\u001B[0;32m   1247\u001B[0m     \u001B[38;5;28mself\u001B[39m\u001B[38;5;241m.\u001B[39mlog\u001B[38;5;241m.\u001B[39mwarning(\u001B[38;5;124m\"\u001B[39m\u001B[38;5;124mInvalid Message:\u001B[39m\u001B[38;5;124m\"\u001B[39m, exc_info\u001B[38;5;241m=\u001B[39m\u001B[38;5;28;01mTrue\u001B[39;00m)\n",
      "\u001B[1;31mKeyboardInterrupt\u001B[0m: Interrupted by user"
     ]
    }
   ],
   "execution_count": 2
  },
  {
   "metadata": {},
   "cell_type": "code",
   "outputs": [],
   "execution_count": null,
   "source": [
    "def longest_increasing_subarray(n, heights):\n",
    "    if n == 1:\n",
    "        return 1\n",
    "    left = [0] * n\n",
    "    right = [0] * n\n",
    "    left[0] = 1\n",
    "    for i in range(1, n):\n",
    "        if heights[i] > heights[i - 1]:\n",
    "            left[i] = left[i - 1] + 1\n",
    "        else:\n",
    "            left[i] = 1\n",
    "    right[0] = 1\n",
    "    for i in range(n - 2, -1, -1):\n",
    "        if heights[i] < heights[i + 1]:\n",
    "            right[i] = right[i + 1] + 1\n",
    "        else:\n",
    "            right[i] = 1\n",
    "    max_len = 1\n",
    "    \n",
    "    for i in range(n):\n",
    "        max_len = max(max_len, left[i])\n",
    "        if i > 0 and i < n - 1 and heights[i + 1] > heights[i - 1] + 1:\n",
    "            max_len = max(max_len, left[i - 1] + right[i + 1])\n",
    "    return max_len\n",
    "def main():\n",
    "    T = int(input())\n",
    "    for _ in range(T):\n",
    "        n = int(input())\n",
    "        heights = list(map(int, input().split()))\n",
    "        print(longest_increasing_subarray(n, heights) + 1)\n",
    "if __name__ == '__main__':\n",
    "    main()"
   ],
   "id": "1ac1829dab1b8e85"
  }
 ],
 "metadata": {
  "kernelspec": {
   "display_name": "Python 3",
   "language": "python",
   "name": "python3"
  },
  "language_info": {
   "codemirror_mode": {
    "name": "ipython",
    "version": 2
   },
   "file_extension": ".py",
   "mimetype": "text/x-python",
   "name": "python",
   "nbconvert_exporter": "python",
   "pygments_lexer": "ipython2",
   "version": "2.7.6"
  }
 },
 "nbformat": 4,
 "nbformat_minor": 5
}
