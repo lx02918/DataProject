{
 "cells": [
  {
   "cell_type": "code",
   "id": "initial_id",
   "metadata": {
    "collapsed": true,
    "ExecuteTime": {
     "end_time": "2024-09-15T06:43:52.048202Z",
     "start_time": "2024-09-15T06:43:38.234316Z"
    }
   },
   "source": [
    "def analyze_word_frequency(k, str):\n",
    "    word_freq = {}\n",
    "    \n",
    "    for i in range(len(str)):\n",
    "        for j in range(i + k, len(str) + 1):\n",
    "            word = str[i:j]\n",
    "            if len(word) >= k:\n",
    "                word_freq[word] = word_freq.get(word, 0) + 1\n",
    "    if not word_freq:\n",
    "        return '-1'\n",
    "    \n",
    "    max_freq = max(word_freq.values())\n",
    "    most_frequent = [word for  word in word_freq if word_freq[word] == max_freq]\n",
    "    \n",
    "    min_freq = min(len(word) for word in most_frequent)A\n",
    "    candidates = [word for word in most_frequent if len(word) == min_freq]\n",
    "    return min(candidates)\n",
    "\n",
    "k = int(input())\n",
    "str = input()\n",
    "print(analyze_word_frequency(k, str))"
   ],
   "outputs": [
    {
     "name": "stdout",
     "output_type": "stream",
     "text": [
      "ab\n"
     ]
    }
   ],
   "execution_count": 2
  },
  {
   "metadata": {},
   "cell_type": "code",
   "outputs": [],
   "execution_count": null,
   "source": [
    "def convent_to_camel_case(c_style_name):\n",
    "    words = c_style_name.split('_')\n",
    "    result = words[0].lower()\n",
    "    for word in words[1:]:\n",
    "        result += word.capitalize()\n",
    "    return result\n",
    "\n",
    "if __name__ == '__main__':\n",
    "    c_style_name = input()\n",
    "    camel_case_name = convent_to_camel_case(c_style_name)\n",
    "    print(camel_case_name)"
   ],
   "id": "2d61561d8e2eb922"
  },
  {
   "metadata": {
    "ExecuteTime": {
     "end_time": "2024-09-15T06:52:26.426988Z",
     "start_time": "2024-09-15T06:52:17.818296Z"
    }
   },
   "cell_type": "code",
   "source": [
    "def max_satiety(n, darkness):\n",
    "    dp = [0] * n\n",
    "    if n < 3:\n",
    "        return 0\n",
    "    dp[0] = 0\n",
    "    dp[1] = 0\n",
    "    dp[2] = darkness[1]\n",
    "    \n",
    "    for i in range(3, n):\n",
    "        dp[i] = max(dp[i - 1], dp[i - 3] + darkness[i - 1])\n",
    "    return dp[n - 1]\n",
    "n = int(input())\n",
    "darkness = list(map(int, input().split()))\n",
    "result = max_satiety(n, darkness)\n",
    "print(result)"
   ],
   "id": "a9646e3e8106ef63",
   "outputs": [
    {
     "name": "stdout",
     "output_type": "stream",
     "text": [
      "7\n"
     ]
    }
   ],
   "execution_count": 4
  },
  {
   "metadata": {
    "ExecuteTime": {
     "end_time": "2024-09-15T07:01:52.479741Z",
     "start_time": "2024-09-15T07:01:43.836387Z"
    }
   },
   "cell_type": "code",
   "source": [
    "def analyze_word_frequency(k, str):\n",
    "    n = len(str)\n",
    "    word_freq = {}\n",
    "    max_freq = 0\n",
    "    best_word = None\n",
    "    for window_size in range(k, n + 1):\n",
    "        window = str[:window_size]\n",
    "        freq = 1\n",
    "        word_freq[window] = 1\n",
    "        for i in range(1, n - window_size + 1):\n",
    "            prev_char = str[i - 1]\n",
    "            new_char = str[i + window_size - 1]\n",
    "            \n",
    "            if window in word_freq:\n",
    "                word_freq[window] -= 1\n",
    "                if word_freq[window] == 0:\n",
    "                    del word_freq[window]\n",
    "            window = window[1:] + new_char\n",
    "            if window in word_freq:\n",
    "                word_freq[window] += 1\n",
    "            else:\n",
    "                word_freq[window] = 1\n",
    "            freq = word_freq[window]\n",
    "            if freq > max_freq or (freq == max_freq and (len(window) < len(best_word) or (len(window) == len(best_word) and window < best_word))):\n",
    "                max_freq = freq\n",
    "                best_word = window\n",
    "        return best_word if best_word else '-1'\n",
    "\n",
    "k = int(input())\n",
    "str = input()\n",
    "result = analyze_word_frequency(k, str)\n",
    "print(result)"
   ],
   "id": "eed1d40ab4be944a",
   "outputs": [
    {
     "name": "stdout",
     "output_type": "stream",
     "text": [
      "ab\n"
     ]
    }
   ],
   "execution_count": 5
  },
  {
   "metadata": {},
   "cell_type": "code",
   "outputs": [],
   "execution_count": null,
   "source": [
    "def analyze_word_frequency(k, str):\n",
    "    word_freq = {}\n",
    "    n = len(str)\n",
    "    for i in range(n - k + 1):\n",
    "        for j in range(k, n - k + 1):\n",
    "            word = str[i : i + j]\n",
    "            word_freq[word] = word_freq.get(word, 0) + 1\n",
    "    if not word_freq:\n",
    "        return '-1'\n",
    "    max_freq = max(word_freq.values())\n",
    "    most_frequent = [word for  word in word_freq if word_freq[word] == max_freq]\n",
    "    min_len = min(len(word) for word in most_frequent)\n",
    "    candidates = [word for word in most_frequent if len(word) == min_len]\n",
    "    return min(candidates)\n",
    "\n",
    "k = int(input())\n",
    "str = input()\n",
    "result = analyze_word_frequency(k, str)\n",
    "print(result)"
   ],
   "id": "c1557b161de2ccf6"
  },
  {
   "metadata": {},
   "cell_type": "code",
   "outputs": [],
   "execution_count": null,
   "source": [
    "def build_suffix_aray(str):\n",
    "    n = len(str)\n",
    "    suffixes = [(str[i:], i) for i in range(n)]\n",
    "    suffixes.sort()\n",
    "    suffix_array = [suffix[1] for suffix in suffixes]\n",
    "    return suffix_array\n",
    "\n",
    "def kasai_lcp(str, suffix_array):\n",
    "    n = len(str)\n",
    "    rank = [0] * n\n",
    "    lcp = [0] * n\n",
    "    for i, suffix in enumerate(suffix_array):\n",
    "        rank[suffix] = i\n",
    "    h = 0\n",
    "    for i in range(n):\n",
    "        if rank[i] > 0:\n",
    "            j = suffix_array[rank[i] - 1]\n",
    "            while i + h < n and j + h < n and str[i + h] == str[j + h]:\n",
    "                h += 1\n",
    "            lcp[rank[i]] = h\n",
    "            if h > 0:\n",
    "                h -= 1\n",
    "    return lcp\n",
    "\n",
    "def analyze_word_frequency(k, str):\n",
    "    n = len(str)\n",
    "    if n < k:\n",
    "        return '-1'\n",
    "    suffix_array = build_suffix_aray(str)\n",
    "    lcp = kasai_lcp(str, suffix_array)\n",
    "    word_freq = []\n",
    "    for i in range(n):\n",
    "        suffix = str[suffix_array[i]:]\n",
    "        for length in range(k, len(suffix) + 1):\n",
    "            word = suffix[:length]\n",
    "            word_freq[word] = word_freq.get(word, 0) + 1\n",
    "        max_freq = max(word_freq.values())\n",
    "        most_frequent = [word for  word in word_freq if word_freq[word] == max_freq]\n",
    "        min_len = min(len(word) for word in most_frequent)\n",
    "        candidates = [word for word in most_frequent if len(word) == min_len]\n",
    "        return min(candidates)\n",
    "    \n",
    "k = int(input())\n",
    "str = input()\n",
    "result = analyze_word_frequency(k, str)\n",
    "print(result)"
   ],
   "id": "9f35f725d9a57997"
  }
 ],
 "metadata": {
  "kernelspec": {
   "display_name": "Python 3",
   "language": "python",
   "name": "python3"
  },
  "language_info": {
   "codemirror_mode": {
    "name": "ipython",
    "version": 2
   },
   "file_extension": ".py",
   "mimetype": "text/x-python",
   "name": "python",
   "nbconvert_exporter": "python",
   "pygments_lexer": "ipython2",
   "version": "2.7.6"
  }
 },
 "nbformat": 4,
 "nbformat_minor": 5
}
